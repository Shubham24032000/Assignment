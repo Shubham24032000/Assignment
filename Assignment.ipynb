{
 "cells": [
  {
   "cell_type": "code",
   "execution_count": 22,
   "id": "815eac63-4cc6-441a-b838-26301a7799d6",
   "metadata": {},
   "outputs": [],
   "source": [
    "# Question1"
   ]
  },
  {
   "cell_type": "code",
   "execution_count": 1,
   "id": "0d8155d3-0050-42a8-b467-d4948e5257cc",
   "metadata": {},
   "outputs": [],
   "source": [
    "s = \"Shubham Tiwari\""
   ]
  },
  {
   "cell_type": "code",
   "execution_count": 3,
   "id": "440226b3-f409-4229-aba5-cec16a65949b",
   "metadata": {},
   "outputs": [],
   "source": [
    "f = [1,2,3,4,\"Shubham Tiwari\",43.33]"
   ]
  },
  {
   "cell_type": "code",
   "execution_count": 5,
   "id": "3078ac64-dfcc-447e-9c91-dfb239f32377",
   "metadata": {},
   "outputs": [],
   "source": [
    "g = 34.37"
   ]
  },
  {
   "cell_type": "code",
   "execution_count": 9,
   "id": "343e3ad0-b1f5-4952-bbed-b7789d399d8b",
   "metadata": {},
   "outputs": [],
   "source": [
    "h = (1,2,3,4,\"Rutvik\",35.66)"
   ]
  },
  {
   "cell_type": "code",
   "execution_count": 23,
   "id": "be7453c2-5643-4dfc-9564-f442e32827a7",
   "metadata": {},
   "outputs": [],
   "source": [
    "# Question2"
   ]
  },
  {
   "cell_type": "code",
   "execution_count": 13,
   "id": "f3df16ad-c80b-4863-a205-e4f33976552d",
   "metadata": {},
   "outputs": [],
   "source": [
    "var1 = ''"
   ]
  },
  {
   "cell_type": "code",
   "execution_count": 14,
   "id": "1f565242-e22f-4079-9f95-7eec60e4e90c",
   "metadata": {},
   "outputs": [
    {
     "data": {
      "text/plain": [
       "str"
      ]
     },
     "execution_count": 14,
     "metadata": {},
     "output_type": "execute_result"
    }
   ],
   "source": [
    "type(var1)"
   ]
  },
  {
   "cell_type": "code",
   "execution_count": 15,
   "id": "a32a1abd-8a26-459c-a5ac-dbfd4e85ab07",
   "metadata": {},
   "outputs": [],
   "source": [
    "var2 = '[DS,ML,Python]'"
   ]
  },
  {
   "cell_type": "code",
   "execution_count": 16,
   "id": "e0488aac-1081-4d99-9c6d-c5bc08d34d2a",
   "metadata": {},
   "outputs": [
    {
     "data": {
      "text/plain": [
       "str"
      ]
     },
     "execution_count": 16,
     "metadata": {},
     "output_type": "execute_result"
    }
   ],
   "source": [
    "type(var2)"
   ]
  },
  {
   "cell_type": "code",
   "execution_count": 17,
   "id": "955c16c8-1690-4e17-b508-3c0facb6c688",
   "metadata": {},
   "outputs": [],
   "source": [
    "var3 = ['DS','ML','Pyhon']"
   ]
  },
  {
   "cell_type": "code",
   "execution_count": 18,
   "id": "db4e31ff-2bbb-46e2-91c4-98287b3e93e5",
   "metadata": {},
   "outputs": [
    {
     "data": {
      "text/plain": [
       "list"
      ]
     },
     "execution_count": 18,
     "metadata": {},
     "output_type": "execute_result"
    }
   ],
   "source": [
    "type(var3)"
   ]
  },
  {
   "cell_type": "code",
   "execution_count": 19,
   "id": "eefbde8d-7714-4c1d-b951-8be84f689c7d",
   "metadata": {},
   "outputs": [],
   "source": [
    "var4 = 1"
   ]
  },
  {
   "cell_type": "code",
   "execution_count": 20,
   "id": "1ae81b16-6f9c-49f9-ac44-5cb52d3cb312",
   "metadata": {},
   "outputs": [
    {
     "data": {
      "text/plain": [
       "int"
      ]
     },
     "execution_count": 20,
     "metadata": {},
     "output_type": "execute_result"
    }
   ],
   "source": [
    "type(var4)"
   ]
  },
  {
   "cell_type": "code",
   "execution_count": 24,
   "id": "e90dc3c5-4ceb-426d-8f5e-b263f9a01020",
   "metadata": {},
   "outputs": [],
   "source": [
    "# Question3"
   ]
  },
  {
   "cell_type": "code",
   "execution_count": 30,
   "id": "de965f94-4a28-4692-a389-0d570de7db14",
   "metadata": {},
   "outputs": [
    {
     "data": {
      "text/plain": [
       "2.5"
      ]
     },
     "execution_count": 30,
     "metadata": {},
     "output_type": "execute_result"
    }
   ],
   "source": [
    "5/2  #it is an divison operator"
   ]
  },
  {
   "cell_type": "code",
   "execution_count": 31,
   "id": "39e658df-eb6a-4b8c-8177-81601fd91c0a",
   "metadata": {},
   "outputs": [
    {
     "data": {
      "text/plain": [
       "1"
      ]
     },
     "execution_count": 31,
     "metadata": {},
     "output_type": "execute_result"
    }
   ],
   "source": [
    "25%4 #it is an modulo operator"
   ]
  },
  {
   "cell_type": "code",
   "execution_count": 32,
   "id": "fb7b4986-301f-4a2b-894e-a0dbda12b356",
   "metadata": {},
   "outputs": [
    {
     "data": {
      "text/plain": [
       "3"
      ]
     },
     "execution_count": 32,
     "metadata": {},
     "output_type": "execute_result"
    }
   ],
   "source": [
    "35//9  #it is an floor divison"
   ]
  },
  {
   "cell_type": "code",
   "execution_count": 33,
   "id": "36f20000-40c1-41b4-8301-b2c1002c7a2e",
   "metadata": {},
   "outputs": [
    {
     "data": {
      "text/plain": [
       "1185921"
      ]
     },
     "execution_count": 33,
     "metadata": {},
     "output_type": "execute_result"
    }
   ],
   "source": [
    "33**4  #it is an exponential operator"
   ]
  },
  {
   "cell_type": "code",
   "execution_count": 37,
   "id": "8aa7cad2-4c36-418a-a3e7-b4a757ee7476",
   "metadata": {},
   "outputs": [],
   "source": [
    "# Question 4"
   ]
  },
  {
   "cell_type": "code",
   "execution_count": 41,
   "id": "900fb95f-48c3-4561-aad6-018d67a73726",
   "metadata": {},
   "outputs": [
    {
     "name": "stdout",
     "output_type": "stream",
     "text": [
      "1\n",
      "<class 'int'>\n",
      "2\n",
      "<class 'int'>\n",
      "3\n",
      "<class 'int'>\n",
      "4\n",
      "<class 'int'>\n",
      "Shubham Tiwari\n",
      "<class 'str'>\n",
      "Rutvik\n",
      "<class 'str'>\n",
      "34.66\n",
      "<class 'float'>\n",
      "73.22\n",
      "<class 'float'>\n"
     ]
    }
   ],
   "source": [
    "f = [1,2,3,4,\"Shubham Tiwari\",\"Rutvik\",34.66,73.22]\n",
    "for i in f:\n",
    "    print(i)\n",
    "    print(type(i))"
   ]
  },
  {
   "cell_type": "code",
   "execution_count": null,
   "id": "b7772f64-abce-4461-bc97-934e854dab1a",
   "metadata": {},
   "outputs": [],
   "source": [
    "# Question 5"
   ]
  },
  {
   "cell_type": "code",
   "execution_count": 42,
   "id": "6039c3aa-390c-4d1d-b126-55ec5a7a23f6",
   "metadata": {},
   "outputs": [
    {
     "name": "stdout",
     "output_type": "stream",
     "text": [
      "Number of times A can be divided by B: 1\n"
     ]
    }
   ],
   "source": [
    "A = 42\n",
    "B = 7\n",
    "count = 0\n",
    "while A % B == 0:\n",
    "    A = A//B\n",
    "    count += 1\n",
    "print(\"Number of times A can be divided by B:\", count)"
   ]
  },
  {
   "cell_type": "code",
   "execution_count": null,
   "id": "46e374a7-0880-4629-bdfc-b8b2a2979e4d",
   "metadata": {},
   "outputs": [],
   "source": [
    "# Question 6"
   ]
  },
  {
   "cell_type": "code",
   "execution_count": 43,
   "id": "98e55feb-7443-47b7-972c-4fe34000e1ac",
   "metadata": {},
   "outputs": [
    {
     "name": "stdout",
     "output_type": "stream",
     "text": [
      "i is not divisible by 3\n",
      "i is not divisible by 3\n",
      "i is divisible by 3\n",
      "i is not divisible by 3\n",
      "i is not divisible by 3\n",
      "i is divisible by 3\n",
      "i is not divisible by 3\n",
      "i is not divisible by 3\n",
      "i is divisible by 3\n",
      "i is not divisible by 3\n",
      "i is not divisible by 3\n",
      "i is divisible by 3\n",
      "i is not divisible by 3\n",
      "i is not divisible by 3\n",
      "i is divisible by 3\n",
      "i is not divisible by 3\n",
      "i is not divisible by 3\n",
      "i is divisible by 3\n",
      "i is not divisible by 3\n",
      "i is not divisible by 3\n",
      "i is divisible by 3\n",
      "i is not divisible by 3\n",
      "i is not divisible by 3\n",
      "i is divisible by 3\n",
      "i is not divisible by 3\n"
     ]
    }
   ],
   "source": [
    "a = [1,2,3,4,5,6,7,8,9,10,11,12,13,14,15,16,17,18,19,20,21,22,23,24,25]\n",
    "for i in a:\n",
    "    if i % 3 == 0:\n",
    "        print(\"i is divisible by 3\")\n",
    "    else:\n",
    "        print(\"i is not divisible by 3\")"
   ]
  },
  {
   "cell_type": "code",
   "execution_count": 44,
   "id": "a8db76ea-e8ec-4149-96ce-1000b0ba6375",
   "metadata": {},
   "outputs": [],
   "source": [
    "# Question 7"
   ]
  },
  {
   "cell_type": "code",
   "execution_count": 45,
   "id": "89675acd-d80a-4f21-a983-506d394b39b1",
   "metadata": {},
   "outputs": [],
   "source": [
    "a = [1,2,3,\"Shubham tiwari\",3+4j,44.34]"
   ]
  },
  {
   "cell_type": "code",
   "execution_count": 46,
   "id": "c1d2ad8a-4d01-4aa8-8fd5-ade785b0fd2a",
   "metadata": {},
   "outputs": [],
   "source": [
    "a[4] = \"Rutvik\""
   ]
  },
  {
   "cell_type": "code",
   "execution_count": 47,
   "id": "dde1a9ec-fff8-4b47-be8a-91a9d200ea7d",
   "metadata": {},
   "outputs": [
    {
     "data": {
      "text/plain": [
       "[1, 2, 3, 'Shubham tiwari', 'Rutvik', 44.34]"
      ]
     },
     "execution_count": 47,
     "metadata": {},
     "output_type": "execute_result"
    }
   ],
   "source": [
    "a\n"
   ]
  },
  {
   "cell_type": "code",
   "execution_count": 48,
   "id": "3fcae0c1-698d-4d60-8c64-89efc008e4b0",
   "metadata": {},
   "outputs": [],
   "source": [
    "# The value in a particular list can be changed then it is called mutable as per above."
   ]
  },
  {
   "cell_type": "code",
   "execution_count": null,
   "id": "f2421b20-e4d0-4748-953d-b9c65eb0ccb2",
   "metadata": {},
   "outputs": [],
   "source": [
    "# The value in a particular list cannot be changed then it called iimutable."
   ]
  }
 ],
 "metadata": {
  "kernelspec": {
   "display_name": "Python 3 (ipykernel)",
   "language": "python",
   "name": "python3"
  },
  "language_info": {
   "codemirror_mode": {
    "name": "ipython",
    "version": 3
   },
   "file_extension": ".py",
   "mimetype": "text/x-python",
   "name": "python",
   "nbconvert_exporter": "python",
   "pygments_lexer": "ipython3",
   "version": "3.10.8"
  }
 },
 "nbformat": 4,
 "nbformat_minor": 5
}
