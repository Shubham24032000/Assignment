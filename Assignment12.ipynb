{
 "cells": [
  {
   "cell_type": "markdown",
   "id": "1924c699-e776-49d3-8cb1-1be9b18844c8",
   "metadata": {},
   "source": [
    "Question1\n",
    "Answer1:"
   ]
  },
  {
   "cell_type": "markdown",
   "id": "f9142122-deb4-40e5-85b8-b7fb95793007",
   "metadata": {},
   "source": [
    "A database is a collection of data organized in a way that makes it easy to access and use. Databases are used to store all sorts of \n",
    "information, from customer records to product catalogs to financial data.\n",
    "\n",
    "SQL (Structured Query Language) and NoSQL are two different types of databases. SQL databases are relational databases, while NoSQL\n",
    "databases are non-relational databases.\n",
    "\n",
    "SQL databases:\n",
    "\n",
    "->Relational databases store data in tables, which are made up of rows and columns.\n",
    "\n",
    "->SQL databases use a structured query language (SQL) to access and manipulate data.\n",
    "\n",
    "->SQL databases are good for applications that need to perform complex queries and transactions.\n",
    "\n",
    "->SQL databases are less flexible than NoSQL databases.\n",
    "\n",
    "NoSQL databases:\n",
    "\n",
    "->NoSQL databases do not store data in tables. Instead, they store data in a variety of ways, such as key-value pairs, document-oriented \n",
    "databases, and graph databases.\n",
    "\n",
    "->NoSQL databases do not use SQL. Instead, they use their own query languages.\n",
    "\n",
    "->NoSQL databases are good for applications that need to store large amounts of unstructured data.\n",
    "\n",
    "->NoSQL databases are more flexible than SQL databases."
   ]
  },
  {
   "cell_type": "markdown",
   "id": "45f80b5a-4eec-4561-a8ac-0f86a8413fc2",
   "metadata": {},
   "source": [
    "Question2\n",
    "Answer2:"
   ]
  },
  {
   "cell_type": "markdown",
   "id": "c108db47-faa2-4b5c-aede-7a8cc91e76a8",
   "metadata": {},
   "source": [
    "DDL stands for Data Definition Language. It is a set of SQL commands that are used to create, modify, and delete database objects. The four\n",
    "most common DDL commands are:\n",
    "\n",
    "->CREATE: This command is used to create new database objects, such as tables, views, and indexes. For example, the following command\n",
    "creates a new table called customers:"
   ]
  },
  {
   "cell_type": "code",
   "execution_count": null,
   "id": "aefeb212-e3fb-45a2-a829-4a0998b6428e",
   "metadata": {},
   "outputs": [],
   "source": [
    "CREATE TABLE customers (\n",
    "  id INT NOT NULL AUTO_INCREMENT,\n",
    "  name VARCHAR(255),\n",
    "  email VARCHAR(255),\n",
    ");\n"
   ]
  },
  {
   "cell_type": "markdown",
   "id": "b97f768c-4355-4784-9cae-b2b69c11e4fd",
   "metadata": {},
   "source": [
    "->DROP: This command is used to delete database objects. For example, the following command deletes the customers table:"
   ]
  },
  {
   "cell_type": "code",
   "execution_count": null,
   "id": "71c759cc-3140-48da-a363-369fd49e8a98",
   "metadata": {},
   "outputs": [],
   "source": [
    "DROP TABLE customers;\n"
   ]
  },
  {
   "cell_type": "markdown",
   "id": "1f669917-30ab-4ede-bd69-0f50ae971b2f",
   "metadata": {},
   "source": [
    "->ALTER: This command is used to modify database objects. For example, the following command adds a new column to the customers table:"
   ]
  },
  {
   "cell_type": "code",
   "execution_count": null,
   "id": "576f79d1-9f4d-411d-a777-21ec19ea3ec3",
   "metadata": {},
   "outputs": [],
   "source": [
    "ALTER TABLE customers ADD COLUMN address VARCHAR(255);\n"
   ]
  },
  {
   "cell_type": "markdown",
   "id": "a7413cd2-35d6-41b5-8665-39a52e9b6083",
   "metadata": {},
   "source": [
    "->TRUNCATE: This command is used to delete all rows from a table. However, the table structure is not deleted. For example, the following \n",
    "command truncates the customers table:"
   ]
  },
  {
   "cell_type": "code",
   "execution_count": null,
   "id": "65f9b4ab-74e2-418d-9ce8-a31933ae1d7a",
   "metadata": {},
   "outputs": [],
   "source": [
    "TRUNCATE TABLE customers;\n"
   ]
  },
  {
   "cell_type": "markdown",
   "id": "110d321f-5571-4a55-af1c-191173016eec",
   "metadata": {},
   "source": [
    "->CREATE, DROP, ALTER, and TRUNCATE are used to manage the structure of a database. CREATE is used to create new database objects, DROP\n",
    "is used to delete database objects, ALTER is used to modify database objects, and TRUNCATE is used to delete all rows from a table"
   ]
  },
  {
   "cell_type": "markdown",
   "id": "90993e39-be44-4f10-a435-8aa874e55799",
   "metadata": {},
   "source": [
    "Question3\n",
    "Answer3:"
   ]
  },
  {
   "cell_type": "markdown",
   "id": "ef5f63bf-647f-4cf0-a439-c221b3b331d9",
   "metadata": {},
   "source": [
    "->DML stands for Data Manipulation Language. It is a set of SQL statements that are used to add, update, and delete data in a database. The\n",
    "three main DML statements are INSERT, UPDATE, and DELETE."
   ]
  },
  {
   "cell_type": "markdown",
   "id": "b9fc8e5d-32d8-49a2-9269-a164d6ebe552",
   "metadata": {},
   "source": [
    "->INSERT is used to add new rows to a table. The syntax for the INSERT statement is:"
   ]
  },
  {
   "cell_type": "code",
   "execution_count": null,
   "id": "d2b69819-c382-4cc5-b321-fa73c4b2b504",
   "metadata": {},
   "outputs": [],
   "source": [
    "INSERT INTO table_name (column1, column2, ...)\n",
    "VALUES (value1, value2, ...);\n",
    "\n",
    "INSERT INTO employees (name, id)\n",
    "VALUES ('Shubham Tiwari', 9984785357);\n"
   ]
  },
  {
   "cell_type": "markdown",
   "id": "055da098-f1bc-4cb6-b743-5a9a86827f2f",
   "metadata": {},
   "source": [
    "->UPDATE is used to modify the data in existing rows. The syntax for the UPDATE statement is:"
   ]
  },
  {
   "cell_type": "code",
   "execution_count": null,
   "id": "391991e5-1202-4892-892c-4729dc9d0dfb",
   "metadata": {},
   "outputs": [],
   "source": [
    "UPDATE employees\n",
    "SET name = 'Shubham Tiwari'\n",
    "WHERE id = 12345;\n"
   ]
  },
  {
   "cell_type": "markdown",
   "id": "ec9ae7c2-32ec-4907-9bfb-1f3b77f143d2",
   "metadata": {},
   "source": [
    "->DELETE is used to delete rows from a table. The syntax for the DELETE statement is:"
   ]
  },
  {
   "cell_type": "code",
   "execution_count": null,
   "id": "939b1e1e-4f1a-461f-b13d-ee321745e9db",
   "metadata": {},
   "outputs": [],
   "source": [
    "DELETE FROM employees\n",
    "WHERE name = 'Shubham Tiwari';\n"
   ]
  },
  {
   "cell_type": "markdown",
   "id": "ca8d215f-908e-4fa2-b7cb-b9d56b9cb4ff",
   "metadata": {},
   "source": [
    "Question4\n",
    "Answer4:"
   ]
  },
  {
   "cell_type": "markdown",
   "id": "12d1557a-ffb1-4fa5-ac34-c1af09db3c1e",
   "metadata": {},
   "source": [
    "->DQL stands for Data Query Language. It is a set of SQL statements that are used to retrieve data from a database. The main DQL statement \n",
    "is SELECT."
   ]
  },
  {
   "cell_type": "markdown",
   "id": "b3fe0bb5-21d6-42f1-9c4c-ba82777f3dea",
   "metadata": {},
   "source": [
    "->The SELECT statement is used to retrieve a subset of data from a table or multiple tables. The syntax for the SELECT statement is:"
   ]
  },
  {
   "cell_type": "code",
   "execution_count": null,
   "id": "ebcf9540-f57f-42a2-a85f-a5c0e802fcac",
   "metadata": {},
   "outputs": [],
   "source": [
    "SELECT column_name, column_name, ...\n",
    "FROM table_name;\n"
   ]
  },
  {
   "cell_type": "markdown",
   "id": "a0ed8d0b-7671-496c-91cb-1c01c0cf521c",
   "metadata": {},
   "source": [
    "->The SELECT statement can also be used to filter the data that is retrieved. For example, the following statement would retrieve the name\n",
    "and department of all employees who are in the Sales department:"
   ]
  },
  {
   "cell_type": "code",
   "execution_count": null,
   "id": "4f6cd64d-c3ba-42d5-be60-6d3531600bdf",
   "metadata": {},
   "outputs": [],
   "source": [
    "SELECT name, department\n",
    "FROM employees\n",
    "WHERE department = 'Sales';\n"
   ]
  },
  {
   "cell_type": "markdown",
   "id": "438d4fc5-e396-43ed-888a-cc037add68d0",
   "metadata": {},
   "source": [
    "->The SELECT statement can also be used to order the data that is retrieved. For example, the following statement would retrieve the name\n",
    "and department of all employees in alphabetical order by name:"
   ]
  },
  {
   "cell_type": "code",
   "execution_count": null,
   "id": "3afa4e74-7a16-4ff8-831a-e44e5b6b23d7",
   "metadata": {},
   "outputs": [],
   "source": [
    "SELECT name, department\n",
    "FROM employees\n",
    "ORDER BY name;\n"
   ]
  },
  {
   "cell_type": "markdown",
   "id": "caf3eb6b-8802-4215-91e9-63635c7491b4",
   "metadata": {},
   "source": [
    "Question5\n",
    "Answer5:"
   ]
  },
  {
   "cell_type": "markdown",
   "id": "65b8f78d-0c50-4aad-af73-3664fe3626c9",
   "metadata": {},
   "source": [
    "->A primary key is a column or group of columns in a relational database table that uniquely identifies each row in the table. A foreign key\n",
    "is a column or group of columns in a table that refers to the primary key of another table.\n",
    "\n",
    "->Primary keys are used to ensure the uniqueness of data in a table. Foreign keys are used to establish a relationship between two tables."
   ]
  },
  {
   "cell_type": "markdown",
   "id": "67817648-67ce-46df-b853-b25c2aaea246",
   "metadata": {},
   "source": [
    "->A primary key must be unique for each row in a table. A foreign key can have duplicate values, as long as the values are also present in\n",
    "the primary key of the referenced table."
   ]
  },
  {
   "cell_type": "markdown",
   "id": "e87730e5-10e0-484b-af9e-77ddfd9fd2d4",
   "metadata": {},
   "source": [
    "->For example, in a table of employees, the employee ID column could be the primary key. This would ensure that each employee has a unique\n",
    "ID"
   ]
  },
  {
   "cell_type": "markdown",
   "id": "997b1ff4-df23-47d9-9621-3785b530d4d3",
   "metadata": {},
   "source": [
    "-> For example, in a table of orders, the product ID column could be a foreign key that refers to the product ID column in the products \n",
    "table. This would ensure that each order refers to a valid product."
   ]
  },
  {
   "cell_type": "markdown",
   "id": "f34fbe18-de0d-4595-bb5a-7a18fa5ad443",
   "metadata": {},
   "source": [
    "Question6\n",
    "Answer6:"
   ]
  },
  {
   "cell_type": "code",
   "execution_count": null,
   "id": "465f9ae6-8956-4209-b78e-e0a71734f633",
   "metadata": {},
   "outputs": [],
   "source": [
    "import mysql.connector\n",
    "mydb = mysql.connector.connect(\n",
    "  host=\"localhost\",\n",
    "  user=\"abc\",\n",
    "  password=\"password\"\n",
    ")\n",
    "\n",
    "mycursor = mydb.cursor()\n"
   ]
  },
  {
   "cell_type": "markdown",
   "id": "6b0f8da9-0591-4f7d-9548-c73e0fa44c4a",
   "metadata": {},
   "source": [
    "->The cursor() method creates a cursor object. A cursor object is used to execute SQL queries and fetch the results of those queries.\n",
    "\n",
    "->The execute() method executes a SQL query. The execute() method takes a SQL query as its argument."
   ]
  },
  {
   "cell_type": "markdown",
   "id": "a69867a0-f580-4b67-90a7-d283a7d517ab",
   "metadata": {},
   "source": [
    "Question7\n",
    "Answer7:"
   ]
  },
  {
   "cell_type": "code",
   "execution_count": null,
   "id": "7457a931-b6c1-4fc4-97e6-b4956e65aa1b",
   "metadata": {},
   "outputs": [],
   "source": [
    "The order of execution of SQL clauses in an SQL query is as follows:\n",
    "\n",
    "->SELECT: The SELECT clause specifies the columns that you want to retrieve from the database.\n",
    "->FROM: The FROM clause specifies the table(s) that you want to retrieve data from.\n",
    "->WHERE: The WHERE clause specifies the conditions that the rows must meet in order to be included in the result set.\n",
    "->GROUP BY: The GROUP BY clause groups the rows together based on the values in one or more columns.\n",
    "->HAVING: The HAVING clause specifies the conditions that the groups must meet in order to be included in the result set.\n",
    "->ORDER BY: The ORDER BY clause specifies the order in which the rows should be returned."
   ]
  }
 ],
 "metadata": {
  "kernelspec": {
   "display_name": "Python 3 (ipykernel)",
   "language": "python",
   "name": "python3"
  },
  "language_info": {
   "codemirror_mode": {
    "name": "ipython",
    "version": 3
   },
   "file_extension": ".py",
   "mimetype": "text/x-python",
   "name": "python",
   "nbconvert_exporter": "python",
   "pygments_lexer": "ipython3",
   "version": "3.10.8"
  }
 },
 "nbformat": 4,
 "nbformat_minor": 5
}
