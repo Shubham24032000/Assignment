{
 "cells": [
  {
   "cell_type": "markdown",
   "id": "82095b59-6ae0-4ac1-9edf-afe7ad72c6bb",
   "metadata": {},
   "source": [
    "Question1\n",
    "Answer1:"
   ]
  },
  {
   "cell_type": "markdown",
   "id": "18628777-ebd2-4fe9-9f7d-773d0449995f",
   "metadata": {},
   "source": [
    "->MongoDB is a non-relational database that stores data in JSON-like documents. It is a document-oriented database, which means that data \n",
    "is stored in documents that are similar to JSON objects. This makes it easy to store and query data that is not well-suited for a \n",
    "traditional relational database."
   ]
  },
  {
   "cell_type": "markdown",
   "id": "dc85e92b-3098-43ff-9b2f-a511b9f267c4",
   "metadata": {},
   "source": [
    "->Non-relational databases are a type of database that does not use the tabular structure of a relational database. Instead, they store\n",
    "data in a variety of ways, such as key-value pairs, documents, or graphs. Non-relational databases are often used for applications that \n",
    "require high performance, scalability, or flexibility."
   ]
  },
  {
   "cell_type": "markdown",
   "id": "c2b8fcc9-24a4-42b0-a9db-62ce9d6e1939",
   "metadata": {},
   "source": [
    "MongoDB is a good choice for applications that require:\n",
    "\n",
    "->High performance: MongoDB is a very fast database, and it can handle large volumes of data with ease.\n",
    "\n",
    "->Scalability: MongoDB is designed to scale horizontally, so you can add more servers as your data grows.\n",
    "\n",
    "->Flexibility: MongoDB is a very flexible database, and it can be used to store a variety of data types."
   ]
  },
  {
   "cell_type": "markdown",
   "id": "467b5026-3d67-43ba-8dd6-68b85e5440b9",
   "metadata": {},
   "source": [
    "->Real-time applications: MongoDB is a good choice for applications that need to process data in real time, such as social media \n",
    "applications or financial trading systems.\n",
    "\n",
    "Big data applications: MongoDB is a good choice for applications that need to store large volumes of data, such as e-commerce \n",
    "applications or log data analysis systems."
   ]
  },
  {
   "cell_type": "markdown",
   "id": "663ac520-36f5-4110-a6d4-73e66f9303ad",
   "metadata": {},
   "source": [
    "Question2\n",
    "Answer2:"
   ]
  },
  {
   "cell_type": "markdown",
   "id": "3d15f047-0d57-4f6d-8b22-4f3d1d779532",
   "metadata": {},
   "source": [
    "->Document-oriented database: MongoDB stores data in JSON-like documents. This makes it easy to store and query data that is not well-suited\n",
    "for a traditional relational database.\n",
    "\n",
    "->Schemaless: MongoDB is schemaless, which means that you do not need to define the schema of your data in advance. This gives you a lot of\n",
    "flexibility when storing data, but it can also make it more difficult to enforce data consistency.\n",
    "\n",
    "->High performance: MongoDB is a very fast database, and it can handle large volumes of data with ease.\n",
    "\n",
    "->Scalable: MongoDB is designed to scale horizontally, so you can add more servers as your data grows.\n",
    "\n",
    "->Flexible: MongoDB is a very flexible database, and it can be used to store a variety of data types.\n",
    "\n",
    "->JSON support: MongoDB supports JSON, which makes it easy to store and query data that is already in JSON format.\n",
    "\n",
    "->Replication: MongoDB supports replication, which means that your data is automatically copied to multiple servers. This helps to ensure \n",
    "that your data is always available, even if one of your servers fails.\n",
    "\n",
    "->Sharding: MongoDB supports sharding, which is a way to distribute your data across multiple servers. This helps to improve performance \n",
    "and scalability.\n",
    "\n",
    "->Querying: MongoDB supports a variety of query operators, including field queries, range queries, and regular expression searches.\n",
    "\n",
    "->Indexes: MongoDB supports indexes, which can help to improve the performance of your queries."
   ]
  },
  {
   "cell_type": "markdown",
   "id": "76c8e820-7743-45d6-886e-d565cffa4da5",
   "metadata": {},
   "source": [
    "Question3\n",
    "Answer3:"
   ]
  },
  {
   "cell_type": "code",
   "execution_count": null,
   "id": "7df9a1ba-1de5-445a-aaa2-28c294f7aa62",
   "metadata": {},
   "outputs": [],
   "source": [
    "import pymongo\n",
    "\n",
    "\n",
    "client = pymongo.MongoClient(\"mongodb://localhost:27017\")\n",
    "\n",
    "# Create a database\n",
    "db = client[\"my_database\"]\n",
    "\n",
    "# Create a collection\n",
    "collection = db[\"my_collection\"]\n",
    "\n",
    "\n"
   ]
  },
  {
   "cell_type": "markdown",
   "id": "a76eedc4-c0a9-4a02-823c-a2681af2587a",
   "metadata": {},
   "source": [
    "Question4\n",
    "Answer4:"
   ]
  },
  {
   "cell_type": "code",
   "execution_count": null,
   "id": "78628903-dc24-41b4-ab9c-e49bd779f337",
   "metadata": {},
   "outputs": [],
   "source": [
    "import pymongo\n",
    "\n",
    "# Connect to the MongoDB database\n",
    "client = pymongo.MongoClient(\"mongodb://localhost:27017\")\n",
    "\n",
    "# Create a database\n",
    "db = client[\"my_database\"]\n",
    "\n",
    "# Create a collection\n",
    "collection = db[\"my_collection\"]\n",
    "\n",
    "# Insert one record\n",
    "document1 = {\"name\": \"John Doe\", \"age\": 30}\n",
    "collection.insert_one(document1)\n",
    "\n",
    "# Insert many records\n",
    "documents = [\n",
    "  {\"name\": \"Shubham Tiwari\", \"age\": 25},\n",
    "  {\"name\": \"Rutvik Patel\", \"age\": 40},\n",
    "]\n",
    "collection.insert_many(documents)\n",
    "\n",
    "# Print the inserted record\n",
    "record = collection.find_one()\n",
    "print(record)\n",
    "\n",
    "# Print all the records in the collection\n",
    "records = collection.find()\n",
    "for record in records:\n",
    "print(record)\n"
   ]
  },
  {
   "cell_type": "markdown",
   "id": "faf46cef-abf8-4173-aa2a-05ad16ee5e5f",
   "metadata": {},
   "source": [
    "Question5\n",
    "Answer5:"
   ]
  },
  {
   "cell_type": "markdown",
   "id": "628536c4-d3cc-47dd-bfac-88dd2bf29dad",
   "metadata": {},
   "source": [
    "->The find() method is used to query documents from a collection in MongoDB. It takes a query document as its argument, and it returns a \n",
    "cursor object. The cursor object can then be used to iterate through the results of the query.\n",
    "\n",
    "->The query document is a JSON object that specifies the criteria that the documents must match in order to be returned by the query. The \n",
    "query document can contain field names, operators, and values."
   ]
  },
  {
   "cell_type": "code",
   "execution_count": null,
   "id": "2f33555f-9d75-461f-8181-7f613cb7c0dd",
   "metadata": {},
   "outputs": [],
   "source": [
    "import pymongo\n",
    "\n",
    "# Connect to the MongoDB database\n",
    "client = pymongo.MongoClient(\"mongodb://localhost:27017\")\n",
    "\n",
    "# Create a database\n",
    "db = client[\"my_database\"]\n",
    "\n",
    "# Create a collection\n",
    "collection = db[\"my_collection\"]\n",
    "\n",
    "# Insert one record\n",
    "document1 = {\"name\": \"John Doe\", \"age\": 30}\n",
    "collection.insert_one(document1)\n",
    "\n",
    "# Insert many records\n",
    "documents = [\n",
    "  {\"name\": \"Shubham Tiwari\", \"age\": 25},\n",
    "  {\"name\": \"Rutvik Patel\", \"age\": 40},\n",
    "]\n",
    "collection.insert_many(documents)\n",
    "\n",
    "# Query the collection\n",
    "cursor = collection.find({\"name\": \"Shubham Tiwari\"})\n",
    "\n",
    "# Iterate through the results\n",
    "for document in cursor:\n",
    "  print(document)"
   ]
  },
  {
   "cell_type": "markdown",
   "id": "9e60538a-e826-4ee9-9b07-56f893a33cb1",
   "metadata": {},
   "source": [
    "Question6\n",
    "Answer6:"
   ]
  },
  {
   "cell_type": "markdown",
   "id": "432eb064-2d79-4604-aa00-ab674cfd359f",
   "metadata": {},
   "source": [
    "->The sort() method is used to sort the results of a query in MongoDB. It takes a list of fields as its argument, and it sorts the results \n",
    "in ascending order by default. The order can be reversed by specifying -field_name for any field."
   ]
  },
  {
   "cell_type": "code",
   "execution_count": null,
   "id": "962b5103-7b66-43a8-accf-81f69950d5d9",
   "metadata": {},
   "outputs": [],
   "source": [
    "import pymongo\n",
    "\n",
    "# Connect to the MongoDB database\n",
    "client = pymongo.MongoClient(\"mongodb://localhost:27017\")\n",
    "\n",
    "# Create a database\n",
    "db = client[\"my_database\"]\n",
    "\n",
    "# Create a collection\n",
    "collection = db[\"my_collection\"]\n",
    "\n",
    "# Insert one record\n",
    "document1 = {\"name\": \"John Doe\", \"age\": 30}\n",
    "collection.insert_one(document1)\n",
    "\n",
    "# Insert many records\n",
    "documents = [\n",
    "  {\"name\": \"Shubham Tiwari\", \"age\": 25},\n",
    "  {\"name\": \"Rutvik Patel\", \"age\": 40},\n",
    "]\n",
    "collection.insert_many(documents)\n",
    "\n",
    "# Query the collection\n",
    "cursor = collection.find().sort(\"age\")\n",
    "\n",
    "# Iterate through the results\n",
    "for document in cursor:\n",
    "  print(document)"
   ]
  },
  {
   "cell_type": "markdown",
   "id": "237b2884-cc23-4612-9ae0-b2036649f656",
   "metadata": {},
   "source": [
    "Question7\n",
    "Anwer7:"
   ]
  },
  {
   "cell_type": "markdown",
   "id": "e5e4e35a-7fa3-4b06-8520-71ed2223a5fd",
   "metadata": {},
   "source": [
    "->The delete_one(), delete_many(), and drop() methods are used to delete documents from a collection in MongoDB.\n",
    "\n",
    "->The delete_one() method deletes a single document from the collection that matches the specified criteria. The delete_many() method \n",
    "deletes multiple documents from the collection that match the specified criteria. The drop() method deletes the entire collection."
   ]
  },
  {
   "cell_type": "code",
   "execution_count": null,
   "id": "0b90622d-8d8b-4a3e-b326-9072be1e32da",
   "metadata": {},
   "outputs": [],
   "source": [
    "import pymongo\n",
    "\n",
    "# Connect to the MongoDB database\n",
    "client = pymongo.MongoClient(\"mongodb://localhost:27017\")\n",
    "\n",
    "# Create a database\n",
    "db = client[\"my_database\"]\n",
    "\n",
    "# Create a collection\n",
    "collection = db[\"my_collection\"]\n",
    "\n",
    "# Insert one record\n",
    "document1 = {\"name\": \"John Doe\", \"age\": 30}\n",
    "collection.insert_one(document1)\n",
    "\n",
    "# Insert many records\n",
    "documents = [\n",
    "  {\"name\": \"Jane Doe\", \"age\": 25},\n",
    "  {\"name\": \"Peter Smith\", \"age\": 40},\n",
    "]\n",
    "collection.insert_many(documents)\n",
    "\n",
    "# Delete the document with the name \"John Doe\"\n",
    "collection.delete_one({\"name\": \"John Doe\"})\n",
    "\n",
    "# Delete all the documents in the collection\n",
    "collection.delete_many({})\n",
    "\n",
    "# Drop the collection\n",
    "collection.drop()"
   ]
  }
 ],
 "metadata": {
  "kernelspec": {
   "display_name": "Python 3 (ipykernel)",
   "language": "python",
   "name": "python3"
  },
  "language_info": {
   "codemirror_mode": {
    "name": "ipython",
    "version": 3
   },
   "file_extension": ".py",
   "mimetype": "text/x-python",
   "name": "python",
   "nbconvert_exporter": "python",
   "pygments_lexer": "ipython3",
   "version": "3.10.8"
  }
 },
 "nbformat": 4,
 "nbformat_minor": 5
}
