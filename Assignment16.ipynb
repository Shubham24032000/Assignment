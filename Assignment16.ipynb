{
 "cells": [
  {
   "cell_type": "markdown",
   "id": "6ee10528-640a-4681-b5de-76b217086b00",
   "metadata": {},
   "source": [
    "Question1\n",
    "Answer1:"
   ]
  },
  {
   "cell_type": "markdown",
   "id": "b7e44248-eac7-4911-8995-00ef005fa4cf",
   "metadata": {},
   "source": [
    "->The GET and POST methods are two of the most common HTTP request methods. They are used to send data from a client to a server.\n",
    "\n",
    "->The GET method is used to retrieve data from a server. The data is sent in the URL of the request. For example, the following request uses the GET \n",
    "method to retrieve the homepage of the Google website:\n",
    "\n",
    "->GET https://www.google.com"
   ]
  },
  {
   "cell_type": "markdown",
   "id": "472fa75c-75df-4d5a-b242-0bdde3c84660",
   "metadata": {},
   "source": [
    "->The POST method is used to send data to a server for processing. The data is sent in the body of the request. "
   ]
  },
  {
   "cell_type": "markdown",
   "id": "0d77cade-2f34-4e48-b530-8351daeb60ab",
   "metadata": {},
   "source": [
    "->The GET method is idempotent, which means that executing the same GET request multiple times will always produce the same result. The POST method is\n",
    "not idempotent.\n",
    "\n",
    "->The GET method is cachable, which means that the browser can store the response to a GET request and then use the cached response for subsequent\n",
    "requests. The POST method is not cachable.\n",
    "\n",
    "->The GET method is limited to a maximum length of 2048 characters. The POST method has no length limit."
   ]
  },
  {
   "cell_type": "markdown",
   "id": "7bfa04ae-0d71-40fc-b3ce-b60e105eadfb",
   "metadata": {},
   "source": [
    "Question2\n",
    "Answer2:"
   ]
  },
  {
   "cell_type": "markdown",
   "id": "56f0e09f-b97e-4ed4-897d-63606398f1ca",
   "metadata": {},
   "source": [
    "The request object is used in Flask to access the data that is sent from the client to the server. This data can be accessed using the following\n",
    "attributes:\n",
    "\n",
    "->request.method: The HTTP method that was used to make the request.\n",
    "\n",
    "->request.url: The URL of the request.\n",
    "\n",
    "->request.args: The query parameters that were sent in the URL.\n",
    "\n",
    "->request.form: The form data that was sent in the body of the request.\n",
    "\n",
    "->request.files: The uploaded files that were sent in the body of the request.\n",
    "\n",
    "->request.headers: The HTTP headers that were sent with the request."
   ]
  },
  {
   "cell_type": "code",
   "execution_count": null,
   "id": "2229792a-fdfc-4768-a8cb-8bbf11457517",
   "metadata": {},
   "outputs": [],
   "source": [
    "from flask import Flask, request\n",
    "\n",
    "app = Flask(__name__)\n",
    "\n",
    "@app.route('/hello/<name>')\n",
    "def hello(name):\n",
    "    return 'Hello, {}!'.format(request.args['name'])\n",
    "\n",
    "if __name__ == '__main__':\n",
    "    app.run(0.0.0.0)\n"
   ]
  },
  {
   "cell_type": "markdown",
   "id": "f6a32aad-6120-47a3-b912-cae89922007c",
   "metadata": {},
   "source": [
    "->It allows us to access the data that is sent from the client to the server in a centralized location. This makes our code more organized and easier\n",
    "to maintain.\n",
    "\n",
    "->It allows us to write more concise and expressive code. For example, instead of writing code to parse the query parameters from the URL, we can \n",
    "simply use the request.args['name'] attribute.\n",
    "\n",
    "->It makes our code more reusable. We can use the request object in any view function, regardless of the URL that the function is associated with."
   ]
  },
  {
   "cell_type": "markdown",
   "id": "f9ec904f-6920-43c0-aa94-46aaa3a0d383",
   "metadata": {},
   "source": [
    "Question3\n",
    "Answer3:"
   ]
  },
  {
   "cell_type": "markdown",
   "id": "e483a5b1-8625-4c2b-80b2-a9d988e5a1d0",
   "metadata": {},
   "source": [
    "->The redirect() function is used in Flask to redirect the user to a different URL. It takes two arguments: the URL to redirect to and the status code\n",
    "to use.\n",
    "\n",
    "The following are some of the reasons why redirect() is used in Flask:\n",
    "\n",
    "->To send the user to a different page after they have logged in.\n",
    "\n",
    "->To send the user back to the previous page after they have submitted a form.\n",
    "\n",
    "->To send the user to a different page if the resource they are trying to access is not found.\n",
    "\n",
    "->To send the user to a different page if the user does not have permission to access the resource they are trying to access.\n",
    "\n",
    "->The redirect() function is a very useful tool for controlling the flow of a Flask application. It allows us to redirect the user to different pages \n",
    "based on their actions or the status of the application."
   ]
  },
  {
   "cell_type": "code",
   "execution_count": null,
   "id": "e3e5189f-f97e-4b68-8f43-b3c23498935b",
   "metadata": {},
   "outputs": [],
   "source": [
    "from flask import Flask, redirect, url_for\n",
    "\n",
    "app = Flask(__name__)\n",
    "\n",
    "@app.route('/login')\n",
    "def login():\n",
    "    if not logged_in:\n",
    "        return redirect(url_for('login'))\n",
    "    else:\n",
    "        return 'You are logged in.'\n",
    "\n",
    "if __name__ == '__main__':\n",
    "    app.run(0.0.0.0)\n"
   ]
  },
  {
   "cell_type": "markdown",
   "id": "0495ea05-18b5-4b69-9c56-db89856ef5e3",
   "metadata": {},
   "source": [
    "->In this code, the login() function checks if the user is logged in. If the user is not logged in, the function redirects the user to the login page. If the user is logged in, the function returns the text \"You are logged in.\"\n",
    "\n",
    "->The redirect() function is a very powerful tool that can be used to control the flow of a Flask application. It is an essential part of any Flask\n",
    "application.\n",
    "\n"
   ]
  },
  {
   "cell_type": "markdown",
   "id": "11f25f18-f29b-4c74-94c6-ce91a8c38052",
   "metadata": {},
   "source": [
    "Question4\n",
    "Answer4:"
   ]
  },
  {
   "cell_type": "markdown",
   "id": "fb6514be-7465-4764-b300-60d159a89729",
   "metadata": {},
   "source": [
    "->Templates in Flask are files that contain HTML code, along with Jinja templating language syntax, which can be used to dynamically generate HTML \n",
    "pages. The render_template() function is used to render a template file and return the rendered HTML code.\n",
    "\n",
    "->The render_template() function takes two arguments: the name of the template file and a dictionary of variables that can be used in the template.\n",
    "The dictionary of variables is typically created in the view function that is associated with the URL that the user is visiting."
   ]
  },
  {
   "cell_type": "code",
   "execution_count": null,
   "id": "d7492db7-c511-48f2-b0a2-74922474e271",
   "metadata": {},
   "outputs": [],
   "source": [
    "from flask import Flask, render_template\n",
    "\n",
    "app = Flask(__name__)\n",
    "\n",
    "@app.route('/')\n",
    "def index():\n",
    "    # Create a dictionary of variables\n",
    "    variables = {\n",
    "        'name': 'John Doe',\n",
    "        'age': 30\n",
    "    }\n",
    "\n",
    "    # Render the template file and return the rendered HTML code\n",
    "    return render_template('index.html', variables=variables)\n",
    "\n",
    "if __name__ == '__main__':\n",
    "    app.run()\n"
   ]
  },
  {
   "cell_type": "markdown",
   "id": "505d5551-ea73-4940-94bc-faa1e3bd37fc",
   "metadata": {},
   "source": [
    "The index.html template file contains the following HTML code:"
   ]
  },
  {
   "cell_type": "code",
   "execution_count": null,
   "id": "f81c837b-e256-47f7-93f7-57d5eaa8bc7a",
   "metadata": {},
   "outputs": [],
   "source": [
    "<!DOCTYPE html>\n",
    "<html>\n",
    "<head>\n",
    "<title>Flask Template</title>\n",
    "</head>\n",
    "<body>\n",
    "<h1>Hello, {{ name }}!</h1>\n",
    "<p>You are {{ age }} years old.</p>\n",
    "</body>\n",
    "</html>\n"
   ]
  },
  {
   "cell_type": "markdown",
   "id": "c73c65a7-c702-48e1-b336-414437600f01",
   "metadata": {},
   "source": [
    "->The render_template() function is a very powerful tool that can be used to dynamically generate HTML pages. It is an essential part of any Flask \n",
    "application."
   ]
  },
  {
   "cell_type": "markdown",
   "id": "f2ad7f4e-96cd-49ed-bbc7-f2e3f0258027",
   "metadata": {},
   "source": [
    "\n",
    "Question5\n",
    "Answer5:"
   ]
  },
  {
   "cell_type": "code",
   "execution_count": null,
   "id": "2caf11f0-bde2-4aff-b485-267a7f0ff91f",
   "metadata": {},
   "outputs": [],
   "source": [
    "\"The sum of 23and34is57\""
   ]
  }
 ],
 "metadata": {
  "kernelspec": {
   "display_name": "Python 3 (ipykernel)",
   "language": "python",
   "name": "python3"
  },
  "language_info": {
   "codemirror_mode": {
    "name": "ipython",
    "version": 3
   },
   "file_extension": ".py",
   "mimetype": "text/x-python",
   "name": "python",
   "nbconvert_exporter": "python",
   "pygments_lexer": "ipython3",
   "version": "3.10.8"
  }
 },
 "nbformat": 4,
 "nbformat_minor": 5
}
