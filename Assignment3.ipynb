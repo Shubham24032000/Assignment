{
 "cells": [
  {
   "cell_type": "markdown",
   "id": "43f4e3a9-c083-4045-a4fb-b14061cdd0a8",
   "metadata": {},
   "source": [
    "Question1\n",
    "Answer1:def keyword is used to create a function in the python.\n"
   ]
  },
  {
   "cell_type": "code",
   "execution_count": 2,
   "id": "aeb5d4b2-2de4-429d-8d52-f79d204b537d",
   "metadata": {},
   "outputs": [],
   "source": [
    "l = [1,2,3,4,5,6,7,8,9,10,11,12,13,14,15,16,17,18,19,20,21,22,23,24,25]\n"
   ]
  },
  {
   "cell_type": "code",
   "execution_count": 3,
   "id": "fe33658d-d90d-49eb-b5f6-2d52119f2f88",
   "metadata": {},
   "outputs": [],
   "source": [
    "def test1(l):\n",
    "    l1 = []\n",
    "    for i in l:\n",
    "        if i % 2 != 0:\n",
    "            l1.append(i)\n",
    "    return l1"
   ]
  },
  {
   "cell_type": "code",
   "execution_count": 4,
   "id": "020193c4-74da-4c94-b1b5-0be3ee7b2a4f",
   "metadata": {},
   "outputs": [
    {
     "data": {
      "text/plain": [
       "[1, 3, 5, 7, 9, 11, 13, 15, 17, 19, 21, 23, 25]"
      ]
     },
     "execution_count": 4,
     "metadata": {},
     "output_type": "execute_result"
    }
   ],
   "source": [
    "test1(l)"
   ]
  },
  {
   "cell_type": "markdown",
   "id": "ff56ffe2-86e2-4658-b542-a1378aad567c",
   "metadata": {},
   "source": [
    "Question2\n",
    "Answer2:*args and **kwargs allow you to pass multiple arguments or a keyword argument to a function.for an example:\n",
    "if we make a function that takes two arguments and return their sum then it is only possible for only two arguments.\n"
   ]
  },
  {
   "cell_type": "code",
   "execution_count": 5,
   "id": "084912b5-e831-403a-8076-8d3339329c5a",
   "metadata": {},
   "outputs": [],
   "source": [
    "def test2(*args):\n",
    "    return args"
   ]
  },
  {
   "cell_type": "code",
   "execution_count": 6,
   "id": "eeef5d89-6427-4d0b-b737-32d470e36ab8",
   "metadata": {},
   "outputs": [
    {
     "data": {
      "text/plain": [
       "(1, 2, 3, 4, 5, 6, 7, 8)"
      ]
     },
     "execution_count": 6,
     "metadata": {},
     "output_type": "execute_result"
    }
   ],
   "source": [
    "test2(1,2,3,4,5,6,7,8)"
   ]
  },
  {
   "cell_type": "code",
   "execution_count": 8,
   "id": "5ae739a2-3172-46e7-a885-c5beba735346",
   "metadata": {},
   "outputs": [
    {
     "data": {
      "text/plain": [
       "tuple"
      ]
     },
     "execution_count": 8,
     "metadata": {},
     "output_type": "execute_result"
    }
   ],
   "source": [
    "type(test2())"
   ]
  },
  {
   "cell_type": "code",
   "execution_count": 11,
   "id": "d134934c-07c8-4e69-968c-0edc3c2689dd",
   "metadata": {},
   "outputs": [],
   "source": [
    "def test3(**kwargs):\n",
    "    return kwargs"
   ]
  },
  {
   "cell_type": "code",
   "execution_count": 12,
   "id": "814afcf5-435d-413e-a308-894f8a8303e7",
   "metadata": {},
   "outputs": [
    {
     "data": {
      "text/plain": [
       "{}"
      ]
     },
     "execution_count": 12,
     "metadata": {},
     "output_type": "execute_result"
    }
   ],
   "source": [
    "test3()"
   ]
  },
  {
   "cell_type": "code",
   "execution_count": 13,
   "id": "a7d752c6-7e25-4359-87b3-5a36e45073f8",
   "metadata": {},
   "outputs": [
    {
     "data": {
      "text/plain": [
       "dict"
      ]
     },
     "execution_count": 13,
     "metadata": {},
     "output_type": "execute_result"
    }
   ],
   "source": [
    "type(test3())"
   ]
  },
  {
   "cell_type": "code",
   "execution_count": 14,
   "id": "53293ff1-961e-4b10-913c-28b1ed1dd5bf",
   "metadata": {},
   "outputs": [
    {
     "data": {
      "text/plain": [
       "{'a': [1, 2, 3, 4, 5, 6], 'b': 'shubham', 'c': 23.12}"
      ]
     },
     "execution_count": 14,
     "metadata": {},
     "output_type": "execute_result"
    }
   ],
   "source": [
    "test3(a = [1,2,3,4,5,6] , b = \"shubham\" , c = 23.12)"
   ]
  },
  {
   "cell_type": "markdown",
   "id": "d016614a-1137-4972-b06d-da09b63511c7",
   "metadata": {},
   "source": [
    "Question3\n",
    "Answer3:An iterator in python is an object that is used to iterate over iterable objects like list,tuples,dictionary and sets.\n",
    "The python iterators object is initialized using the iter() method.It uses the next method for iteration."
   ]
  },
  {
   "cell_type": "code",
   "execution_count": 22,
   "id": "1d05565d-b9dd-4374-be8f-9dc784248e13",
   "metadata": {},
   "outputs": [
    {
     "name": "stdout",
     "output_type": "stream",
     "text": [
      "2\n",
      "4\n",
      "6\n",
      "8\n",
      "10\n"
     ]
    }
   ],
   "source": [
    "\n",
    "my_list = [2, 4, 6, 8, 10, 12, 14, 16, 18, 20]\n",
    "my_iter = iter(my_list)\n",
    "\n",
    "for i in range(5):\n",
    "    element = next(my_iter)\n",
    "    print(element)\n"
   ]
  },
  {
   "cell_type": "markdown",
   "id": "bb7f587c-eef5-489f-a2a7-e8e68d0941ea",
   "metadata": {},
   "source": [
    "Question4\n",
    "Answer4:A generator function in Python is a special type of function that can be used to produce a sequence of values one at a time. It does this by using the yield keyword instead of the return keyword.\n",
    "\n",
    "The yield keyword tells the generator function to pause its execution and return a value. The function can then be resumed later by calling the next() method on the generator object. This allows the generator function to produce a sequence of values without having to store the entire sequence in memory."
   ]
  },
  {
   "cell_type": "code",
   "execution_count": 23,
   "id": "109b610b-9326-4e25-9463-c42f561f2d1a",
   "metadata": {},
   "outputs": [],
   "source": [
    "def test_fib(n):\n",
    "    a,b=0,1\n",
    "    for i in range(n):\n",
    "        yield a\n",
    "        a,b=b,a+b"
   ]
  },
  {
   "cell_type": "code",
   "execution_count": 24,
   "id": "950f4c73-7126-4c85-a358-758a4a184917",
   "metadata": {},
   "outputs": [
    {
     "name": "stdout",
     "output_type": "stream",
     "text": [
      "0\n",
      "1\n",
      "1\n",
      "2\n",
      "3\n",
      "5\n",
      "8\n",
      "13\n",
      "21\n",
      "34\n"
     ]
    }
   ],
   "source": [
    "for i in test_fib(10):\n",
    "    print(i)"
   ]
  },
  {
   "cell_type": "markdown",
   "id": "464f47a8-a139-4357-aa9f-a58a8379ad9b",
   "metadata": {},
   "source": [
    "Question5\n",
    "Answer5:"
   ]
  },
  {
   "cell_type": "code",
   "execution_count": 42,
   "id": "2f4a3625-baa9-43b2-b19f-e33bf2063604",
   "metadata": {},
   "outputs": [],
   "source": [
    "def prime_generator():\n",
    "    primes = [2]\n",
    "    for i in range(3,1000):\n",
    "        is_prime = True\n",
    "        for p in primes:\n",
    "            if i % p == 0:\n",
    "                is_prime = False\n",
    "                break\n",
    "        if is_prime:\n",
    "            yield i\n",
    "                   \n",
    "     "
   ]
  },
  {
   "cell_type": "code",
   "execution_count": 43,
   "id": "7e4707cf-9417-474a-bb3a-48f188b06b0e",
   "metadata": {},
   "outputs": [
    {
     "data": {
      "text/plain": [
       "<generator object prime_generator at 0x7f8fa073eea0>"
      ]
     },
     "execution_count": 43,
     "metadata": {},
     "output_type": "execute_result"
    }
   ],
   "source": [
    "prime_generator()"
   ]
  },
  {
   "cell_type": "code",
   "execution_count": 44,
   "id": "000bdcf2-d67b-4d3b-9285-64f128c8ae03",
   "metadata": {},
   "outputs": [],
   "source": [
    "generator = prime_generator()"
   ]
  },
  {
   "cell_type": "code",
   "execution_count": 45,
   "id": "3b209473-2f5b-439c-ae35-1e8075c73bbc",
   "metadata": {},
   "outputs": [
    {
     "name": "stdout",
     "output_type": "stream",
     "text": [
      "3\n",
      "5\n",
      "7\n",
      "9\n",
      "11\n",
      "13\n",
      "15\n",
      "17\n",
      "19\n",
      "21\n",
      "23\n",
      "25\n",
      "27\n",
      "29\n",
      "31\n",
      "33\n",
      "35\n",
      "37\n",
      "39\n",
      "41\n"
     ]
    }
   ],
   "source": [
    "for i in range(20):\n",
    "    print(next(generator))"
   ]
  },
  {
   "cell_type": "markdown",
   "id": "27d6910d-8a5a-42a7-960e-16c70ffc5d67",
   "metadata": {},
   "source": [
    "Question 6\n",
    "Answer6"
   ]
  },
  {
   "cell_type": "code",
   "execution_count": 46,
   "id": "d49db459-0c21-440b-b776-f8fac7d14da4",
   "metadata": {},
   "outputs": [],
   "source": [
    "def test_fib1():\n",
    "    a,b=0,1\n",
    "    while True:\n",
    "        yield a\n",
    "        a,b=b,a+b"
   ]
  },
  {
   "cell_type": "code",
   "execution_count": 47,
   "id": "7e150170-a266-4665-8eef-de7e89224d4a",
   "metadata": {},
   "outputs": [],
   "source": [
    "fib = test_fib1()"
   ]
  },
  {
   "cell_type": "code",
   "execution_count": 48,
   "id": "ca326fad-4106-4132-bee1-b1c7aa2e0f9d",
   "metadata": {},
   "outputs": [
    {
     "name": "stdout",
     "output_type": "stream",
     "text": [
      "0\n",
      "1\n",
      "1\n",
      "2\n",
      "3\n",
      "5\n",
      "8\n",
      "13\n",
      "21\n",
      "34\n"
     ]
    }
   ],
   "source": [
    "for i in range(10):\n",
    "    print(next(fib))"
   ]
  },
  {
   "cell_type": "markdown",
   "id": "d075460f-14c2-4258-bfcc-86d06e205921",
   "metadata": {},
   "source": [
    "Question7\n",
    "Answer7:"
   ]
  },
  {
   "cell_type": "code",
   "execution_count": 1,
   "id": "1d82e5fe-78b0-4407-bda7-799df1e3ddcb",
   "metadata": {},
   "outputs": [],
   "source": [
    "s = \"pwskills\""
   ]
  },
  {
   "cell_type": "code",
   "execution_count": 6,
   "id": "7bcf294c-4e62-44f9-af17-b12a55aab970",
   "metadata": {},
   "outputs": [],
   "source": [
    "def test2(s):\n",
    "    s1=[]\n",
    "    for i in s:\n",
    "        s1.append(i)\n",
    "    return s1"
   ]
  },
  {
   "cell_type": "code",
   "execution_count": 7,
   "id": "5f317607-eb5b-454e-8889-907bd2d312bb",
   "metadata": {},
   "outputs": [
    {
     "data": {
      "text/plain": [
       "['p', 'w', 's', 'k', 'i', 'l', 'l', 's']"
      ]
     },
     "execution_count": 7,
     "metadata": {},
     "output_type": "execute_result"
    }
   ],
   "source": [
    "test2(s)"
   ]
  },
  {
   "cell_type": "markdown",
   "id": "68582631-e647-41fd-b42b-48d118381afe",
   "metadata": {},
   "source": [
    "Question8"
   ]
  },
  {
   "cell_type": "code",
   "execution_count": 2,
   "id": "c1639985-e165-4178-98af-8d1e5b1e4f74",
   "metadata": {},
   "outputs": [
    {
     "name": "stdin",
     "output_type": "stream",
     "text": [
      "Enter Number : 345\n"
     ]
    },
    {
     "name": "stdout",
     "output_type": "stream",
     "text": [
      "Not Palindrome\n"
     ]
    }
   ],
   "source": [
    "i=int(input(\"Enter Number :\"))\n",
    "rev=0\n",
    "x=i\n",
    "while(i>0):\n",
    "    rev = (rev*10)+i%10\n",
    "    i=i//10\n",
    "if(x==rev):\n",
    "    print(\"Palindrome Number\")\n",
    "else:\n",
    "    print(\"Not Palindrome\")"
   ]
  },
  {
   "cell_type": "markdown",
   "id": "dc53d39e-96a2-4619-b7b4-89ad880173de",
   "metadata": {},
   "source": [
    "Question9"
   ]
  },
  {
   "cell_type": "code",
   "execution_count": 11,
   "id": "c3b95b2b-5eb4-4286-b62d-f4c39ea22d37",
   "metadata": {},
   "outputs": [],
   "source": [
    "\n",
    "    l1=[]\n",
    "    for i in range(1,101):\n",
    "        l1.append(i)\n",
    "    "
   ]
  },
  {
   "cell_type": "code",
   "execution_count": 12,
   "id": "b2de8921-4efb-4e28-9ed8-dae9bee46415",
   "metadata": {},
   "outputs": [
    {
     "data": {
      "text/plain": [
       "[1,\n",
       " 2,\n",
       " 3,\n",
       " 4,\n",
       " 5,\n",
       " 6,\n",
       " 7,\n",
       " 8,\n",
       " 9,\n",
       " 10,\n",
       " 11,\n",
       " 12,\n",
       " 13,\n",
       " 14,\n",
       " 15,\n",
       " 16,\n",
       " 17,\n",
       " 18,\n",
       " 19,\n",
       " 20,\n",
       " 21,\n",
       " 22,\n",
       " 23,\n",
       " 24,\n",
       " 25,\n",
       " 26,\n",
       " 27,\n",
       " 28,\n",
       " 29,\n",
       " 30,\n",
       " 31,\n",
       " 32,\n",
       " 33,\n",
       " 34,\n",
       " 35,\n",
       " 36,\n",
       " 37,\n",
       " 38,\n",
       " 39,\n",
       " 40,\n",
       " 41,\n",
       " 42,\n",
       " 43,\n",
       " 44,\n",
       " 45,\n",
       " 46,\n",
       " 47,\n",
       " 48,\n",
       " 49,\n",
       " 50,\n",
       " 51,\n",
       " 52,\n",
       " 53,\n",
       " 54,\n",
       " 55,\n",
       " 56,\n",
       " 57,\n",
       " 58,\n",
       " 59,\n",
       " 60,\n",
       " 61,\n",
       " 62,\n",
       " 63,\n",
       " 64,\n",
       " 65,\n",
       " 66,\n",
       " 67,\n",
       " 68,\n",
       " 69,\n",
       " 70,\n",
       " 71,\n",
       " 72,\n",
       " 73,\n",
       " 74,\n",
       " 75,\n",
       " 76,\n",
       " 77,\n",
       " 78,\n",
       " 79,\n",
       " 80,\n",
       " 81,\n",
       " 82,\n",
       " 83,\n",
       " 84,\n",
       " 85,\n",
       " 86,\n",
       " 87,\n",
       " 88,\n",
       " 89,\n",
       " 90,\n",
       " 91,\n",
       " 92,\n",
       " 93,\n",
       " 94,\n",
       " 95,\n",
       " 96,\n",
       " 97,\n",
       " 98,\n",
       " 99,\n",
       " 100]"
      ]
     },
     "execution_count": 12,
     "metadata": {},
     "output_type": "execute_result"
    }
   ],
   "source": [
    "l1\n"
   ]
  },
  {
   "cell_type": "code",
   "execution_count": 13,
   "id": "5c053f69-3bbd-4675-94da-e63cd04e7aa6",
   "metadata": {},
   "outputs": [],
   "source": [
    "def test4(l1):\n",
    "    l2=[]\n",
    "    for i in l1:\n",
    "        if i % 2 == 1:\n",
    "            l2.append(i)\n",
    "    return l2"
   ]
  },
  {
   "cell_type": "code",
   "execution_count": 14,
   "id": "aeab411f-f0dd-46b6-a029-808e7ffb992d",
   "metadata": {},
   "outputs": [
    {
     "data": {
      "text/plain": [
       "[1,\n",
       " 3,\n",
       " 5,\n",
       " 7,\n",
       " 9,\n",
       " 11,\n",
       " 13,\n",
       " 15,\n",
       " 17,\n",
       " 19,\n",
       " 21,\n",
       " 23,\n",
       " 25,\n",
       " 27,\n",
       " 29,\n",
       " 31,\n",
       " 33,\n",
       " 35,\n",
       " 37,\n",
       " 39,\n",
       " 41,\n",
       " 43,\n",
       " 45,\n",
       " 47,\n",
       " 49,\n",
       " 51,\n",
       " 53,\n",
       " 55,\n",
       " 57,\n",
       " 59,\n",
       " 61,\n",
       " 63,\n",
       " 65,\n",
       " 67,\n",
       " 69,\n",
       " 71,\n",
       " 73,\n",
       " 75,\n",
       " 77,\n",
       " 79,\n",
       " 81,\n",
       " 83,\n",
       " 85,\n",
       " 87,\n",
       " 89,\n",
       " 91,\n",
       " 93,\n",
       " 95,\n",
       " 97,\n",
       " 99]"
      ]
     },
     "execution_count": 14,
     "metadata": {},
     "output_type": "execute_result"
    }
   ],
   "source": [
    "test4(l1)"
   ]
  },
  {
   "cell_type": "code",
   "execution_count": null,
   "id": "7d72180e-4b0f-407d-a290-fff7aa43a7b9",
   "metadata": {},
   "outputs": [],
   "source": []
  }
 ],
 "metadata": {
  "kernelspec": {
   "display_name": "Python 3 (ipykernel)",
   "language": "python",
   "name": "python3"
  },
  "language_info": {
   "codemirror_mode": {
    "name": "ipython",
    "version": 3
   },
   "file_extension": ".py",
   "mimetype": "text/x-python",
   "name": "python",
   "nbconvert_exporter": "python",
   "pygments_lexer": "ipython3",
   "version": "3.10.8"
  }
 },
 "nbformat": 4,
 "nbformat_minor": 5
}
