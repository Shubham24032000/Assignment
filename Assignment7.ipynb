{
 "cells": [
  {
   "cell_type": "markdown",
   "id": "b162c9a9-87c4-4c70-8663-f8333ee26ffd",
   "metadata": {},
   "source": [
    "Question1\n",
    "Answer1:\n",
    "    "
   ]
  },
  {
   "cell_type": "markdown",
   "id": "c0693408-1f53-4e20-b069-b0ff4037dff5",
   "metadata": {},
   "source": [
    "Abstraction is one of the four pillars of object-oriented programming (OOP). It is the process of hiding the implementation details of an \n",
    "object from the outside world.This allows the user to focus on the essential features of the object without having to worry about how it\n",
    "works internally.\n",
    "\n",
    "here are some example of abstraction:\n",
    "\n",
    "->A car: When you drive a car, you don't need to know how the engine works or how the brakes are applied. You just need to know how\n",
    "to start,stop, accelerate, and brake the car. This is because the data members of the car (such as the engine and brakes) are hidden from\n",
    "the user.\n",
    "\n",
    "->Abstraction is a powerful tool that can be used to simplify the design and implementation of software. It allows the user to focus on the \n",
    "essential features of an object without having to worry about the implementation details. This can make the code more readable, \n",
    "maintainable, and reusable."
   ]
  },
  {
   "cell_type": "markdown",
   "id": "3b96d2be-7ead-4d9e-a413-e73af00eab3d",
   "metadata": {},
   "source": [
    "Question2\n",
    "Answer2:"
   ]
  },
  {
   "cell_type": "markdown",
   "id": "829fcfce-d7c6-4bed-977b-8b9f8ff9146d",
   "metadata": {},
   "source": [
    "Abstraction and encapsulation are two of the four pillars of object-oriented programming (OOP). They are both important concepts, but \n",
    "they have different meanings.\n",
    "\n",
    "->Abstraction is the process of hiding the implementation details of an object from the outside world. This allows the user to focus on the \n",
    "essential features of the object without having to worryabout how it works internally.\n",
    "\n",
    "->Encapsulation is the process of grouping together data and methods into a single unit. This allows the data to be protected from \n",
    "unauthorized access and the methods to be used in a consistent way.\n",
    "\n"
   ]
  },
  {
   "cell_type": "code",
   "execution_count": 1,
   "id": "8ab464db-2970-44bb-8e72-b68afa4694c4",
   "metadata": {},
   "outputs": [],
   "source": [
    "class car:\n",
    "    \n",
    "    def __init__(self,make,model,year):\n",
    "        self.make = make\n",
    "        self.model = model\n",
    "        self.year = year\n",
    "        \n",
    "    def start(self):\n",
    "        print(\"The car is starting\")\n",
    "        \n",
    "    def stop(self):\n",
    "        print(\"The car is stopped\")"
   ]
  },
  {
   "cell_type": "code",
   "execution_count": 3,
   "id": "2912ba57-72b4-4b95-89db-c4daa0fa794d",
   "metadata": {},
   "outputs": [],
   "source": [
    "car1 = car(\"HondaCity\",2023,2021)"
   ]
  },
  {
   "cell_type": "code",
   "execution_count": 5,
   "id": "005c7fb3-bb1a-45e3-96c2-a825cc7661de",
   "metadata": {},
   "outputs": [
    {
     "data": {
      "text/plain": [
       "'HondaCity'"
      ]
     },
     "execution_count": 5,
     "metadata": {},
     "output_type": "execute_result"
    }
   ],
   "source": [
    "car1.make"
   ]
  },
  {
   "cell_type": "code",
   "execution_count": 4,
   "id": "6603b182-7674-4a18-981b-78d49b1b0c59",
   "metadata": {},
   "outputs": [
    {
     "name": "stdout",
     "output_type": "stream",
     "text": [
      "The car is starting\n"
     ]
    }
   ],
   "source": [
    "car1.start()"
   ]
  },
  {
   "cell_type": "markdown",
   "id": "212b3c25-43c8-48f3-967f-0d660f7c2b47",
   "metadata": {},
   "source": [
    "In this example, the Car class is an abstraction of a car. It hides the implementation details of the car, such as how the engine works or how the brakes are applied. The user of the Car class only needs to know how to start and stop the car.\n",
    "The Car class also uses encapsulation to protect the data members of the car. The make, model, and year attributes are private, which means that they cannot be accessed directly from outside the class.\n",
    "Instead, the user must use the car1.make, car1.model(), and car1.year() methods to access the data."
   ]
  },
  {
   "cell_type": "markdown",
   "id": "a229bba4-b23a-4be1-95ea-a9e582b44eaf",
   "metadata": {},
   "source": [
    "Question3\n",
    "Answer3:\n"
   ]
  },
  {
   "cell_type": "markdown",
   "id": "962509b3-c4c2-40f8-8c6c-06bfb99c485a",
   "metadata": {},
   "source": [
    "The abc module in Python provides the infrastructure for defining abstract base classes (ABCs).Abstract base classes are classes that \n",
    "cannot be instantiated, but they can be used to define the common interface for a set of classes.\n"
   ]
  },
  {
   "cell_type": "markdown",
   "id": "c608ce29-f3dd-4343-94e1-b1f43e3af815",
   "metadata": {},
   "source": [
    "Here is an example of how the abc module can be used to define an abstract base class:\n",
    "\n"
   ]
  },
  {
   "cell_type": "code",
   "execution_count": 18,
   "id": "69eae282-68d7-4d81-8b85-39187ba8ea28",
   "metadata": {},
   "outputs": [],
   "source": [
    "import abc\n",
    "\n",
    "class Shape:\n",
    "    @abc.abstractmethod\n",
    "    def area(self):\n",
    "        pass\n",
    "\n",
    "    @abc.abstractmethod\n",
    "    def perimeter(self):\n",
    "        pass\n",
    "\n",
    "\n",
    "class Square(Shape):\n",
    "    def __init__(self, side):\n",
    "        self.side = side\n",
    "\n",
    "    def area(self):\n",
    "        return self.side * self.side\n",
    "\n",
    "    def perimeter(self):\n",
    "        return 4 * self.side\n",
    "\n"
   ]
  },
  {
   "cell_type": "code",
   "execution_count": 19,
   "id": "8c13e6f7-3862-4d6d-a71a-9c923dbbf06a",
   "metadata": {},
   "outputs": [],
   "source": [
    "square = Square(5)"
   ]
  },
  {
   "cell_type": "code",
   "execution_count": 20,
   "id": "dba47bef-54d9-4267-9653-487b4c154485",
   "metadata": {},
   "outputs": [
    {
     "data": {
      "text/plain": [
       "25"
      ]
     },
     "execution_count": 20,
     "metadata": {},
     "output_type": "execute_result"
    }
   ],
   "source": [
    "square.area()"
   ]
  },
  {
   "cell_type": "code",
   "execution_count": 21,
   "id": "9afd64ab-2c0d-45a5-bcbd-8567118c736b",
   "metadata": {},
   "outputs": [
    {
     "data": {
      "text/plain": [
       "20"
      ]
     },
     "execution_count": 21,
     "metadata": {},
     "output_type": "execute_result"
    }
   ],
   "source": [
    "square.perimeter()"
   ]
  },
  {
   "cell_type": "markdown",
   "id": "d9b00eb7-3948-4276-b80f-6af3436a3de0",
   "metadata": {},
   "source": [
    "Question4\n",
    "Answer4:"
   ]
  },
  {
   "cell_type": "markdown",
   "id": "c6f8cd2f-21a7-4397-bd07-0f96655c538a",
   "metadata": {},
   "source": [
    "Data abstraction is a technique that separates the implementation details of an object from \n",
    "its interface. This allows the user to focus on the essential features of the object without having to worry about how it works internally."
   ]
  },
  {
   "cell_type": "markdown",
   "id": "b8975730-2148-4ede-8432-3005c247c646",
   "metadata": {},
   "source": [
    "There are two main ways to achieve data abstraction:\n",
    "\n",
    "->Abstract classes: An abstract class is a class that cannot be instantiated. It can only be used as a base class for other classes. \n",
    "Abstract classes can define abstract methods, which are methods that must be implemented by subclasses.\n",
    "\n",
    "\n",
    "->Interfaces: An interface is a set of methods that a class must implement. Interfaces cannot be instantiated, but they can be used to \n",
    "define the common interface for a set of classes."
   ]
  },
  {
   "cell_type": "markdown",
   "id": "d7ccb5d9-1493-4168-8038-81d924241691",
   "metadata": {},
   "source": [
    "Question5\n",
    "Answer5:"
   ]
  },
  {
   "cell_type": "markdown",
   "id": "dc3f4900-53cd-4f9b-9c41-336c3d91e8cd",
   "metadata": {},
   "source": [
    "->No, you cannot create an instance of an abstract class in Python. An abstract class is a class that cannot be instantiated. It can only\n",
    "be used as a base class for other classes. Abstract classes can define abstract methods, which are methods that must be implemented by \n",
    "subclasses."
   ]
  },
  {
   "cell_type": "code",
   "execution_count": 24,
   "id": "8b394707-9a7d-4197-9cf9-64ba955eeb64",
   "metadata": {},
   "outputs": [],
   "source": [
    "class Shape():\n",
    "    @abc.abstractmethod\n",
    "    def area(self):\n",
    "        pass\n",
    "\n",
    "    @abc.abstractmethod\n",
    "    def perimeter(self):\n",
    "        pass\n",
    "\n",
    "\n"
   ]
  },
  {
   "cell_type": "markdown",
   "id": "a8de243d-068d-47c7-9720-9f3b5285f9d1",
   "metadata": {},
   "source": [
    "The reason why you cannot create an instance of an abstract class is that it does not have a complete implementation.\n",
    "The abstract methods must be implemented by subclasses before the subclasses can be instantiated."
   ]
  },
  {
   "cell_type": "code",
   "execution_count": null,
   "id": "d4261669-d424-4612-a1cf-a3ecc425cfa3",
   "metadata": {},
   "outputs": [],
   "source": []
  }
 ],
 "metadata": {
  "kernelspec": {
   "display_name": "Python 3 (ipykernel)",
   "language": "python",
   "name": "python3"
  },
  "language_info": {
   "codemirror_mode": {
    "name": "ipython",
    "version": 3
   },
   "file_extension": ".py",
   "mimetype": "text/x-python",
   "name": "python",
   "nbconvert_exporter": "python",
   "pygments_lexer": "ipython3",
   "version": "3.10.8"
  }
 },
 "nbformat": 4,
 "nbformat_minor": 5
}
