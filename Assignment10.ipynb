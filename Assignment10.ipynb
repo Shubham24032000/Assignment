{
 "cells": [
  {
   "cell_type": "markdown",
   "id": "07fd906c-9674-4a16-8748-4e63e8b2bec8",
   "metadata": {},
   "source": [
    "Question1\n",
    "Answer1:"
   ]
  },
  {
   "cell_type": "markdown",
   "id": "8e2dca53-54d0-4fd8-a55c-c1e5443aa5de",
   "metadata": {},
   "source": [
    "Multithreading in Python is a programming technique that allows you to run multiple tasks at the same time. This can be useful for improving the \n",
    "performance of your application, as it allows you to take advantage of the available processing power.\n",
    "\n",
    "There are two main reasons why you might want to use multithreading in Python:\n",
    "\n",
    "->To improve performance: If your application has multiple tasks that can be run independently, then multithreading can help to improve the \n",
    "performance of your application by allowing those tasks to be run concurrently. This can be especially helpful for applications that are CPU-intensive\n",
    "or that perform a lot of I/O operations.\n",
    "\n",
    "\n",
    "->To improve responsiveness: Multithreading can also help to improve the responsiveness of your application by allowing it to respond to user input \n",
    "morequickly. This is because the main thread of your application will not be blocked while waiting for a long-running task to complete."
   ]
  },
  {
   "cell_type": "markdown",
   "id": "664944a3-f6f0-43e8-85ac-b71940ae225c",
   "metadata": {},
   "source": [
    "The threading module is used to handle threads in Python. To use the threading module, you first need to import it:"
   ]
  },
  {
   "cell_type": "code",
   "execution_count": 1,
   "id": "db68c093-fd0a-4404-9534-7f7509dab746",
   "metadata": {},
   "outputs": [],
   "source": [
    "import threading"
   ]
  },
  {
   "cell_type": "markdown",
   "id": "15cc0a07-646f-4403-8375-f54463518649",
   "metadata": {},
   "source": [
    "Question2\n",
    "Answer2:"
   ]
  },
  {
   "cell_type": "markdown",
   "id": "31aada7d-76b7-4fc1-ae33-8378ffbbb9e5",
   "metadata": {},
   "source": [
    "\n",
    "The threading module is used in Python to handle threads. Threads are a way of running multiple tasks at the same time. This can be useful for \n",
    "improving the performance of your application, as it allows you to take advantage of the available processing power"
   ]
  },
  {
   "cell_type": "markdown",
   "id": "27cf0cdb-8d82-4ab1-a826-f4477a6df268",
   "metadata": {},
   "source": [
    "1.activeCount(): The activeCount() method in the threading module is used to return the number of active threads. An active thread is a thread that has been started\n",
    "but has not yet terminated.\n",
    "\n",
    "->The activeCount() method is a Python built-in function, so you don't need to import the threading module to use it.\n",
    "\n"
   ]
  },
  {
   "cell_type": "markdown",
   "id": "29e95060-4c57-482b-b1f3-8500fa492be4",
   "metadata": {},
   "source": [
    "2.currentThread():The currentThread() method in the threading module is used to return the current thread object. The current thread object is a\n",
    "Thread object that represents the thread that is currently executing.\n",
    "\n",
    "->The currentThread() method is a Python built-in function, so you don't need to import the threading module to use it."
   ]
  },
  {
   "cell_type": "markdown",
   "id": "6d54db53-cb8b-434d-9332-b0a39b8803a5",
   "metadata": {},
   "source": [
    "3.enumerate():The enumerate() function in Python is used to return an enumerate object. An enumerate object is a tuple that contains two elements: the\n",
    "index and the value of the current element in the iterable.\n",
    "\n",
    "->The enumerate() function is a Python built-in function, so you don't need to import the threading module to use it."
   ]
  },
  {
   "cell_type": "markdown",
   "id": "d5510b13-32ca-4cb5-8eab-70d2419a6a1a",
   "metadata": {},
   "source": [
    "Question3\n",
    "Answer3:"
   ]
  },
  {
   "cell_type": "markdown",
   "id": "d5168458-f33c-4512-88a1-99690c8705e9",
   "metadata": {},
   "source": [
    "1.run():The run() method in the threading module is used to start the execution of the thread. The run() method is a method of the Thread class, so\n",
    "you needto import the threading module to use it."
   ]
  },
  {
   "cell_type": "code",
   "execution_count": 4,
   "id": "95872f18-ba03-4920-b082-d06cc361a2e9",
   "metadata": {},
   "outputs": [
    {
     "name": "stdout",
     "output_type": "stream",
     "text": [
      "This is my thread\n"
     ]
    }
   ],
   "source": [
    "import threading\n",
    "def my_function():\n",
    "    print(\"This is my thread\")\n",
    "    \n",
    "if __name__ == \"__main__\":\n",
    "    thread = threading.Thread(target = my_function)\n",
    "    \n",
    "    thread.run()"
   ]
  },
  {
   "cell_type": "markdown",
   "id": "b3e6f9f5-00c2-45ff-9300-be658b057f9e",
   "metadata": {},
   "source": [
    "2.start() : The start() method in the threading module is used to start the execution of a thread. The start() method is a method of the Thread class,\n",
    "so you need to import the threading module to use it."
   ]
  },
  {
   "cell_type": "code",
   "execution_count": 3,
   "id": "b24028e9-3c2f-48f4-85c2-0322cab58865",
   "metadata": {},
   "outputs": [
    {
     "name": "stdout",
     "output_type": "stream",
     "text": [
      "This is my thread\n"
     ]
    }
   ],
   "source": [
    "import threading\n",
    "\n",
    "def my_function():\n",
    "    print(\"This is my thread\")\n",
    "\n",
    "if __name__ == \"__main__\":\n",
    "    \n",
    "    thread = threading.Thread(target=my_function)\n",
    "\n",
    "\n",
    "    thread.start()\n"
   ]
  },
  {
   "cell_type": "markdown",
   "id": "0539248e-27b9-4c84-9293-085b0b884379",
   "metadata": {},
   "source": [
    "3.join():The join() method in the threading module is used to wait for a thread to terminate. The join() method is a method of the Thread class, so \n",
    "you need to import the threading module to use it."
   ]
  },
  {
   "cell_type": "code",
   "execution_count": 5,
   "id": "7b0ce84b-dd65-4603-b587-ac3d0d588545",
   "metadata": {},
   "outputs": [
    {
     "name": "stdout",
     "output_type": "stream",
     "text": [
      "This is my thread\n"
     ]
    }
   ],
   "source": [
    "import threading\n",
    "\n",
    "def my_function():\n",
    "    print(\"This is my thread\")\n",
    "\n",
    "if __name__ == \"__main__\":\n",
    "    \n",
    "    thread = threading.Thread(target=my_function)\n",
    "\n",
    "\n",
    "    thread.start()\n",
    "    thread.join()"
   ]
  },
  {
   "cell_type": "markdown",
   "id": "69f29e2b-b893-4a57-92cf-8a9c154d2ea9",
   "metadata": {},
   "source": [
    "4.isAlive():The isAlive() method in the threading module is used to check if a thread is still alive. The isAlive() method is a method of the Thread \n",
    "class, so you need to import the threading module to use it."
   ]
  },
  {
   "cell_type": "markdown",
   "id": "8ea04c4b-1d38-4903-afeb-6dd572ea3926",
   "metadata": {},
   "source": [
    "Qustion4\n",
    "Answer4:"
   ]
  },
  {
   "cell_type": "code",
   "execution_count": 14,
   "id": "6e83b1b3-5a71-486e-ba2c-0dbe602ea5ad",
   "metadata": {},
   "outputs": [
    {
     "name": "stdout",
     "output_type": "stream",
     "text": [
      "Square of 1 is 1\n",
      "Square of 2 is 4\n",
      "Square of 3 is 9\n",
      "Square of 4 is 16\n",
      "Square of 5 is 25\n",
      "Square of 6 is 36\n",
      "Square of 7 is 49\n",
      "Square of 8 is 64\n",
      "Square of 9 is 81\n",
      "Cube of 1 is 1\n",
      "Cube of 2 is 8\n",
      "Cube of 3 is 27\n",
      "Cube of 4 is 64\n",
      "Cube of 5 is 125\n",
      "Cube of 6 is 216\n",
      "Cube of 7 is 343\n",
      "Cube of 8 is 512\n",
      "Cube of 9 is 729\n"
     ]
    }
   ],
   "source": [
    "import threading\n",
    "\n",
    "def print_squares(nums):\n",
    "    for num in nums:\n",
    "        print(\"Square of {} is {}\".format(num,num*num))\n",
    "\n",
    "def print_cubes(nums):\n",
    "    for num in nums:\n",
    "        print(\"Cube of {} is {}\".format(num,num*num*num))\n",
    "        \n",
    "if __name__ == \"__main__\":\n",
    "    \n",
    "    nums = [1,2,3,4,5,6,7,8,9]\n",
    "    \n",
    "    \n",
    "    thread1 = threading.Thread(target=print_squares,args=(nums,))\n",
    "    thread2 = threading.Thread(target=print_cubes,args=(nums,))\n",
    "    \n",
    "    thread1.start()\n",
    "    thread1.join()\n",
    "    \n",
    "    thread2.start()\n",
    "    thread2.join()\n",
    "    "
   ]
  },
  {
   "cell_type": "markdown",
   "id": "8a38afb0-d60d-4b3a-8d64-2d9363b0ed72",
   "metadata": {},
   "source": [
    "Question5\n",
    "Answer5:"
   ]
  },
  {
   "cell_type": "markdown",
   "id": "ee5e8802-31ad-4f9e-bf48-1324b99588cd",
   "metadata": {},
   "source": [
    "Here are the advantages and disadvantages of multithreading:\n",
    "\n",
    "Advantages of multithreading:\n",
    "\n",
    "->Increased performance: Multithreading can improve performance by allowing multiple tasks to be executed simultaneously. This can be especially \n",
    "beneficial for tasks that are CPU-intensive or I/O-bound.\n",
    "\n",
    "->Improved responsiveness: Multithreading can improve the responsiveness of an application by allowing users to interact with the application while \n",
    "other tasks are being executed in the background.\n",
    "\n",
    "->Better resource utilization: Multithreading can help to improve resource utilization by allowing multiple tasks to share the same resources. This can be especially beneficial for applications that are running on a single processor or a single core.\n",
    "\n",
    "Disadvantages of multithreading:\n",
    "\n",
    "->Increased complexity: Multithreaded programs can be more complex to write, debug, and maintain. This is because multithreaded programs need to be able to handle concurrency and synchronization issues.\n",
    "\n",
    "->Increased overhead: Multithreading can add some overhead to the execution of a program. This is because the operating system needs to switch between threads, which can take time.\n",
    "\n",
    "->Potential for race conditions: Race conditions can occur in multithreaded programs when two or more threads are accessing the same data at the same time. This can lead to incorrect results."
   ]
  },
  {
   "cell_type": "markdown",
   "id": "9d8027bd-af79-46c4-bbf1-1ef9f25b300a",
   "metadata": {},
   "source": [
    "Question6\n",
    "Answer6:"
   ]
  },
  {
   "cell_type": "markdown",
   "id": "cbb5fa31-a70c-4443-b189-48991d37f8c7",
   "metadata": {},
   "source": [
    "Deadlocks and race conditions are two common problems that can occur in multithreaded programs.\n",
    "\n",
    "Deadlock:A deadlock occurs when two or more threads are waiting for each other to release a resource. This can happen when two threads are each\n",
    "holding a resource that the other thread needs. For example, suppose two threads are each holding a lock on a different file. If each thread then \n",
    "tries to lock the file that the other thread is holding, they will deadlock.\n",
    "\n",
    "Deadlocks can be difficult to detect and resolve. One way to avoid deadlocks is to use a deadlock prevention algorithm. A deadlock prevention\n",
    "algorithm works by ensuring that no thread can ever be waiting for a resource that is already being held by another thread.\n",
    "\n",
    "Another way to avoid deadlocks is to use a deadlock detection algorithm. A deadlock detection algorithm works by periodically checking for deadlocks\n",
    "and resolving them if they are found.\n",
    "\n",
    "RaceConditions:A race condition occurs when two or more threads are accessing the same data at the same time. This can lead to incorrect results if \n",
    "the threads are not synchronized. For example, suppose two threads are both updating the same variable. If one thread updates the variable before the\n",
    "other thread has finished reading it, the second thread will read the old value of the variable.\n",
    "\n",
    "Race conditions can be difficult to detect and resolve. One way to avoid race conditions is to use a synchronization mechanism. A synchronization \n",
    "mechanism works by ensuring that only one thread can access a piece of data at a time.\n",
    "\n",
    "Another way to avoid race conditions is to use a serialization mechanism. A serialization mechanism works by ensuring that all changes to data are\n",
    "made in a single atomic operation."
   ]
  },
  {
   "cell_type": "code",
   "execution_count": null,
   "id": "ac8a1b0d-e50c-4535-ad3d-d30a296dcd40",
   "metadata": {},
   "outputs": [],
   "source": []
  }
 ],
 "metadata": {
  "kernelspec": {
   "display_name": "Python 3 (ipykernel)",
   "language": "python",
   "name": "python3"
  },
  "language_info": {
   "codemirror_mode": {
    "name": "ipython",
    "version": 3
   },
   "file_extension": ".py",
   "mimetype": "text/x-python",
   "name": "python",
   "nbconvert_exporter": "python",
   "pygments_lexer": "ipython3",
   "version": "3.10.8"
  }
 },
 "nbformat": 4,
 "nbformat_minor": 5
}
