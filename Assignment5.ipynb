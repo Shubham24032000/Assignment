{
 "cells": [
  {
   "cell_type": "markdown",
   "id": "c895519c-2a03-4987-8e8d-6223d11f6adb",
   "metadata": {},
   "source": [
    "Question1"
   ]
  },
  {
   "cell_type": "code",
   "execution_count": 71,
   "id": "eee1b937-a9fc-41d9-b86f-f40d758ba818",
   "metadata": {},
   "outputs": [],
   "source": [
    "class Vehicle:\n",
    "    \n",
    "    def __init__(self,name_of_vehicle,max_speed,average_of_vehicle):\n",
    "        self.name_of_vehicle = name_of_vehicle\n",
    "        self.max_speed = max_speed\n",
    "        self.average_of_vehicle = average_of_vehicle\n",
    "        \n",
    "   \n",
    "        "
   ]
  },
  {
   "cell_type": "code",
   "execution_count": 72,
   "id": "ba0647c3-23fc-423e-8a99-2999799e650e",
   "metadata": {},
   "outputs": [],
   "source": [
    "vehicle1 = vehicle(\"toyata\",2400,250)"
   ]
  },
  {
   "cell_type": "code",
   "execution_count": 73,
   "id": "a6077b85-ce27-44d4-a2a9-66ace45f44ea",
   "metadata": {},
   "outputs": [
    {
     "data": {
      "text/plain": [
       "'toyata'"
      ]
     },
     "execution_count": 73,
     "metadata": {},
     "output_type": "execute_result"
    }
   ],
   "source": [
    "vehicle1.name_of_vehicle"
   ]
  },
  {
   "cell_type": "markdown",
   "id": "b5afa414-3790-4fdc-91b9-dacb3b734d1e",
   "metadata": {},
   "source": [
    "Question2"
   ]
  },
  {
   "cell_type": "code",
   "execution_count": 74,
   "id": "d873e987-2d5b-4d5b-bf98-38acfa48abd9",
   "metadata": {},
   "outputs": [],
   "source": [
    "class student(vehicle):\n",
    "    \n",
    "    def __init__(self,name_of_vehicle,max_speed,average_of_vehicle,capacity):\n",
    "        super().__init__(name_of_vehicle,max_speed,average_of_vehicle)\n",
    "        self.capacity = capacity\n",
    "        \n",
    "    def seating_capacity(self):\n",
    "        return self.name_of_vehicle,self.capacity"
   ]
  },
  {
   "cell_type": "code",
   "execution_count": 75,
   "id": "53a85724-7051-4d84-b998-c82c764edab4",
   "metadata": {},
   "outputs": [],
   "source": [
    "student1 = student(\"toyata\",234,23,24)"
   ]
  },
  {
   "cell_type": "code",
   "execution_count": 76,
   "id": "07d56c61-02b1-4bb5-92f7-f7355b23714e",
   "metadata": {},
   "outputs": [
    {
     "data": {
      "text/plain": [
       "('toyata', 24)"
      ]
     },
     "execution_count": 76,
     "metadata": {},
     "output_type": "execute_result"
    }
   ],
   "source": [
    "student1.seating_capacity()"
   ]
  },
  {
   "cell_type": "markdown",
   "id": "6ef8d96b-456c-42be-aeaa-8e32bb1d6b7e",
   "metadata": {},
   "source": [
    "Question3\n",
    "Answer3:"
   ]
  },
  {
   "cell_type": "markdown",
   "id": "5e623018-65ba-48cb-8492-d28d44248e8d",
   "metadata": {},
   "source": [
    "Multiple inheritance is a feature of object-oriented programming (OOP) that allows a class to inherit from multiple base classes.\n",
    "This means that the derived class inherits the properties and methods of all of its base classes."
   ]
  },
  {
   "cell_type": "code",
   "execution_count": 77,
   "id": "05878717-6356-4dfa-a6cb-14cf066856c4",
   "metadata": {},
   "outputs": [],
   "source": [
    "class Animal:\n",
    "    def speak(self):\n",
    "        print(\"I want to speak\")"
   ]
  },
  {
   "cell_type": "code",
   "execution_count": 78,
   "id": "f73d7379-388e-4f31-b485-ff4104311c6a",
   "metadata": {},
   "outputs": [],
   "source": [
    "class Dog(Animal):\n",
    "    def bark(self):\n",
    "        print(\"Woof\")"
   ]
  },
  {
   "cell_type": "code",
   "execution_count": 79,
   "id": "eabac1e2-7db6-4970-bbdd-a8d45e36017d",
   "metadata": {},
   "outputs": [],
   "source": [
    "class Cat(Animal):\n",
    "    def meow(self):\n",
    "        print(\"how is he\")"
   ]
  },
  {
   "cell_type": "code",
   "execution_count": 80,
   "id": "3da4773f-e5dc-4451-8cf9-fd09ae021a7e",
   "metadata": {},
   "outputs": [],
   "source": [
    "class pet(Dog,Cat):\n",
    "    pass"
   ]
  },
  {
   "cell_type": "code",
   "execution_count": 81,
   "id": "db86c6e0-246e-4653-8575-7a3114889b3d",
   "metadata": {},
   "outputs": [],
   "source": [
    "pet1 = pet()"
   ]
  },
  {
   "cell_type": "code",
   "execution_count": 83,
   "id": "ec50e24b-e8ea-4bb4-a315-a91e13142c17",
   "metadata": {},
   "outputs": [
    {
     "name": "stdout",
     "output_type": "stream",
     "text": [
      "Woof\n"
     ]
    }
   ],
   "source": [
    "pet1.bark()"
   ]
  },
  {
   "cell_type": "code",
   "execution_count": 84,
   "id": "66888e75-e069-4067-bb4e-ba633f0b890b",
   "metadata": {},
   "outputs": [
    {
     "name": "stdout",
     "output_type": "stream",
     "text": [
      "I want to speak\n"
     ]
    }
   ],
   "source": [
    "pet1.speak()"
   ]
  },
  {
   "cell_type": "markdown",
   "id": "e9258eaf-82dc-4cf8-8710-bc289ef6159e",
   "metadata": {},
   "source": [
    "Question4\n",
    "Answer4\n"
   ]
  },
  {
   "cell_type": "markdown",
   "id": "5ccc6477-1acc-4bcd-8525-da19e508ac58",
   "metadata": {},
   "source": [
    "->Getters are methods that allow you to access an attribute in a given class. They are typically used to get the value of an attribute,\n",
    "but they can also be used to do other things, such as perform validation on the value before returning it.\n",
    "\n",
    "->Setters are methods that allow you to set or mutate the value of an attribute in a class. They are typically used to set the value of an attribute,\n",
    "but they can also be used to do other things, such as perform validation on the value before setting it."
   ]
  },
  {
   "cell_type": "code",
   "execution_count": 85,
   "id": "5ff2ec04-f71c-46b5-9f49-9e476ea05fd0",
   "metadata": {},
   "outputs": [],
   "source": [
    "class Person:\n",
    "    def __init__(self, name, age):\n",
    "        self._name = name\n",
    "        self._age = age\n",
    "\n",
    "    @property\n",
    "    def name(self):\n",
    "        return self._name\n",
    "\n",
    "    @name.setter\n",
    "    def name(self, new_name):\n",
    "        self._name = new_name\n",
    "\n",
    "    @property\n",
    "    def age(self):\n",
    "        return self._age\n",
    "\n",
    "    @age.setter\n",
    "    def age(self, new_age):\n",
    "        if new_age < 0:\n",
    "            raise ValueError(\"Age cannot be negative\")\n",
    "        self._age = new_age\n",
    "\n"
   ]
  },
  {
   "cell_type": "code",
   "execution_count": 87,
   "id": "6f1ed0d4-d45f-4d63-8cc7-9352cc05afdc",
   "metadata": {},
   "outputs": [],
   "source": [
    "person = Person(\"Shubham Tiwari\",30)"
   ]
  },
  {
   "cell_type": "code",
   "execution_count": 88,
   "id": "eb32d1f6-fa58-4fad-8519-7ea946fcc9c9",
   "metadata": {},
   "outputs": [
    {
     "data": {
      "text/plain": [
       "'Shubham Tiwari'"
      ]
     },
     "execution_count": 88,
     "metadata": {},
     "output_type": "execute_result"
    }
   ],
   "source": [
    "person.name\n"
   ]
  },
  {
   "cell_type": "code",
   "execution_count": 89,
   "id": "059c4947-0c14-4cd7-9286-666cbb3ca3d8",
   "metadata": {},
   "outputs": [],
   "source": [
    "person.name=\"Rutvik Patel\""
   ]
  },
  {
   "cell_type": "code",
   "execution_count": 90,
   "id": "7be20e72-07d3-4378-99a3-aaa5a21e2249",
   "metadata": {},
   "outputs": [
    {
     "data": {
      "text/plain": [
       "'Rutvik Patel'"
      ]
     },
     "execution_count": 90,
     "metadata": {},
     "output_type": "execute_result"
    }
   ],
   "source": [
    "person.name"
   ]
  },
  {
   "cell_type": "code",
   "execution_count": 91,
   "id": "fe41c33b-238d-4650-9b72-b9b3a6eacb80",
   "metadata": {},
   "outputs": [],
   "source": [
    "person.age=23"
   ]
  },
  {
   "cell_type": "code",
   "execution_count": 92,
   "id": "971ca89a-0880-452b-954e-38207dbf7f6c",
   "metadata": {},
   "outputs": [
    {
     "data": {
      "text/plain": [
       "23"
      ]
     },
     "execution_count": 92,
     "metadata": {},
     "output_type": "execute_result"
    }
   ],
   "source": [
    "person.age"
   ]
  },
  {
   "cell_type": "markdown",
   "id": "b8691f23-cddf-431b-a21e-bf6480bf2213",
   "metadata": {},
   "source": [
    "Question5\n",
    "Answer5"
   ]
  },
  {
   "cell_type": "markdown",
   "id": "72fb8ba0-5b36-4c81-a850-1d54c5096532",
   "metadata": {},
   "source": [
    "Method overriding is a feature of object-oriented programming (OOP) that allows a subclass to provide a different implementation of a method\n",
    "that is already defined in its superclass.\n",
    "This means that the subclass can \"override\" the behavior of the method in the superclass."
   ]
  },
  {
   "cell_type": "code",
   "execution_count": 93,
   "id": "1c6352cb-8066-4de2-8d7c-a65ab8ebc6d5",
   "metadata": {},
   "outputs": [],
   "source": [
    "class Animal:\n",
    "    def speak(self):\n",
    "        print(\"I am an animal\")"
   ]
  },
  {
   "cell_type": "code",
   "execution_count": 94,
   "id": "4533d751-cf08-4bd4-b911-00c218df69f4",
   "metadata": {},
   "outputs": [],
   "source": [
    "class Dog(Animal):\n",
    "    def speak(self):\n",
    "        print(\"Woof\")"
   ]
  },
  {
   "cell_type": "code",
   "execution_count": 95,
   "id": "a2909dff-c76e-4a18-921d-59c521982d6d",
   "metadata": {},
   "outputs": [],
   "source": [
    "class Cat(Animal):\n",
    "    def speak(self):\n",
    "        print(\"Meow\")"
   ]
  },
  {
   "cell_type": "code",
   "execution_count": 96,
   "id": "2636c42c-4cab-4332-8988-b163eaa5799c",
   "metadata": {},
   "outputs": [],
   "source": [
    "animal = Animal()"
   ]
  },
  {
   "cell_type": "code",
   "execution_count": 98,
   "id": "2c87b5f5-7fde-412f-9001-0ae8bffb162d",
   "metadata": {},
   "outputs": [
    {
     "name": "stdout",
     "output_type": "stream",
     "text": [
      "I am an animal\n"
     ]
    }
   ],
   "source": [
    "animal.speak()"
   ]
  },
  {
   "cell_type": "code",
   "execution_count": 99,
   "id": "903de2ab-1fa1-4bf0-a760-519471efe317",
   "metadata": {},
   "outputs": [],
   "source": [
    "dog = Dog()"
   ]
  },
  {
   "cell_type": "code",
   "execution_count": 101,
   "id": "150cbacb-057e-4dab-8dc7-43416c00e72d",
   "metadata": {},
   "outputs": [
    {
     "name": "stdout",
     "output_type": "stream",
     "text": [
      "Woof\n"
     ]
    }
   ],
   "source": [
    "dog.speak()"
   ]
  },
  {
   "cell_type": "code",
   "execution_count": 102,
   "id": "dc073ca7-6305-4ab6-89b6-9ea5235220d7",
   "metadata": {},
   "outputs": [],
   "source": [
    "cat = Cat()"
   ]
  },
  {
   "cell_type": "code",
   "execution_count": 103,
   "id": "8f776c4f-5ab6-4ea2-a1c0-ffc685af768d",
   "metadata": {},
   "outputs": [
    {
     "name": "stdout",
     "output_type": "stream",
     "text": [
      "Meow\n"
     ]
    }
   ],
   "source": [
    "cat.speak()"
   ]
  },
  {
   "cell_type": "code",
   "execution_count": null,
   "id": "9bd983a1-10bd-4bf4-ad17-62b1a223b899",
   "metadata": {},
   "outputs": [],
   "source": []
  }
 ],
 "metadata": {
  "kernelspec": {
   "display_name": "Python 3 (ipykernel)",
   "language": "python",
   "name": "python3"
  },
  "language_info": {
   "codemirror_mode": {
    "name": "ipython",
    "version": 3
   },
   "file_extension": ".py",
   "mimetype": "text/x-python",
   "name": "python",
   "nbconvert_exporter": "python",
   "pygments_lexer": "ipython3",
   "version": "3.10.8"
  }
 },
 "nbformat": 4,
 "nbformat_minor": 5
}
