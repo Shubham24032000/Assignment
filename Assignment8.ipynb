{
 "cells": [
  {
   "cell_type": "markdown",
   "id": "ec33ed47-857f-4ad5-9e86-664672f5b1a9",
   "metadata": {},
   "source": [
    "Question 1:\n",
    "Answer1"
   ]
  },
  {
   "cell_type": "markdown",
   "id": "d30ef99a-6986-4675-b870-227855eca12b",
   "metadata": {},
   "source": [
    "->An exception in Python is an event that occurs during the execution of a program that disrupts the normal flow of the program. Exceptions can be \n",
    "caused by a variety of factors, such as trying to divide a number by zero, accessing a nonexistent object, or encountering an error in the program \n",
    "code.\n",
    "\n",
    "->When an exception occurs, the Python interpreter stops executing the current line of code and raises an exception object. The exception object\n",
    "contains information about the type of exception that occurred, as well as the line of code where the exception occurred.\n",
    "\n",
    "->The programmer can then handle the exception in one of two ways:\n",
    "*They can ignore the exception, in which case the program will terminate abruptly.\n",
    "*They can handle the exception gracefully, in which case the program will continue to execute, but with some modification\n",
    "\n",
    "->To handle an exception gracefully, the programmer can use the try and except statements. The try statement specifies a block of code that may potentially raise an exception. The except statement specifies a block of code that will be executed if an exception is raised in the try block."
   ]
  },
  {
   "cell_type": "code",
   "execution_count": 2,
   "id": "448c711c-6220-43b6-bb43-32992af83cda",
   "metadata": {},
   "outputs": [
    {
     "name": "stdout",
     "output_type": "stream",
     "text": [
      "Cannot divide by zero\n"
     ]
    }
   ],
   "source": [
    "try:\n",
    "    print(10 / 0)\n",
    "except ZeroDivisionError:\n",
    "    print(\"Cannot divide by zero\")\n"
   ]
  },
  {
   "cell_type": "markdown",
   "id": "0b9def72-5534-4737-9816-8dc36320e97c",
   "metadata": {},
   "source": [
    "->Syntax errors are errors that occur in the code itself. They are caused by violations of the Python syntax rules. For example, a syntax\n",
    "error would occur if you forgot to put a colon after a function definition, or if you misspelled a keyword.\n",
    "\n",
    "->Syntax errors are detected by the Python interpreter during the compilation phase. If a syntax error is detected, the interpreter will not execute\n",
    "the code, and will instead print an error message."
   ]
  },
  {
   "cell_type": "code",
   "execution_count": 3,
   "id": "e8a01926-e06c-45f2-aa16-f65809a54238",
   "metadata": {},
   "outputs": [
    {
     "ename": "SyntaxError",
     "evalue": "expected ':' (2582097494.py, line 1)",
     "output_type": "error",
     "traceback": [
      "\u001b[0;36m  Cell \u001b[0;32mIn[3], line 1\u001b[0;36m\u001b[0m\n\u001b[0;31m    def my_function()\u001b[0m\n\u001b[0m                     ^\u001b[0m\n\u001b[0;31mSyntaxError\u001b[0m\u001b[0;31m:\u001b[0m expected ':'\n"
     ]
    }
   ],
   "source": [
    "def my_function()\n",
    "    print(\"Hello world!\")\n"
   ]
  },
  {
   "cell_type": "markdown",
   "id": "d30ac60a-36f6-4c26-865d-436a5c2f98f3",
   "metadata": {},
   "source": [
    "Question2:\n",
    "Answer2"
   ]
  },
  {
   "cell_type": "markdown",
   "id": "17bf5912-8ed9-4406-b497-61d1f656266d",
   "metadata": {},
   "source": [
    "->If an exception is not handled, the Python interpreter will stop executing the current line of code and raise an exception object. The exception \n",
    "object contains information about the type of exception that occurred, as well as the line of code where the exception occurred.\n",
    "\n",
    "->The Python interpreter will then try to find an except statement that matches the type of exception that was raised. If it cannot find a matching\n",
    "except statement, the program will terminate abruptly."
   ]
  },
  {
   "cell_type": "code",
   "execution_count": 4,
   "id": "e6d9f1e0-549e-414d-827b-bf056a7db134",
   "metadata": {},
   "outputs": [
    {
     "name": "stdin",
     "output_type": "stream",
     "text": [
      "Enter the numerator:  23\n",
      "Enter the denominator:  0\n"
     ]
    },
    {
     "name": "stdout",
     "output_type": "stream",
     "text": [
      "Cannot divide by zero\n"
     ]
    }
   ],
   "source": [
    "try:\n",
    "    numerator = int(input(\"Enter the numerator: \"))\n",
    "    denominator = int(input(\"Enter the denominator: \"))\n",
    "    print(numerator / denominator)\n",
    "except ZeroDivisionError:\n",
    "    print(\"Cannot divide by zero\")\n"
   ]
  },
  {
   "cell_type": "markdown",
   "id": "7b0c2b1f-4d37-4e1c-88b1-9dbeea8a6ac2",
   "metadata": {},
   "source": [
    "It is important to handle exceptions gracefully, as it allows your program to continue to execute even if an error occurs. By handling exceptions, \n",
    "you can provide your users with informative error messages and prevent your program from crashing.\n",
    "\n"
   ]
  },
  {
   "cell_type": "markdown",
   "id": "145a5dff-f593-4c65-b278-513fa878acbe",
   "metadata": {},
   "source": [
    "Question3:\n",
    "Answer3"
   ]
  },
  {
   "cell_type": "markdown",
   "id": "9c5ce25e-9f38-4898-a908-9e1951dda897",
   "metadata": {},
   "source": [
    "The try and except statements are used to catch and handle exceptions in Python. The try statement specifies a block of code that may potentially \n",
    "raise an exception. The except statement specifies a block of code that will be executed if an exception is raised in the try block.\n"
   ]
  },
  {
   "cell_type": "code",
   "execution_count": 5,
   "id": "e78b2194-5f34-4488-997f-0b6a34c768aa",
   "metadata": {},
   "outputs": [
    {
     "name": "stdout",
     "output_type": "stream",
     "text": [
      "Cannot divide by zero\n"
     ]
    }
   ],
   "source": [
    "try:\n",
    "    print(10 / 0)\n",
    "except ZeroDivisionError:\n",
    "    print(\"Cannot divide by zero\")\n"
   ]
  },
  {
   "cell_type": "markdown",
   "id": "28873d3e-5996-4696-97d4-f1c19dd4e13d",
   "metadata": {},
   "source": [
    "If the code tries to divide 10 by 0, the ZeroDivisionError exception will be raised. The except block will then be executed, which will print the \n",
    "message \"Cannot divide by zero\".\n",
    "\n"
   ]
  },
  {
   "cell_type": "markdown",
   "id": "d120e1c7-3d49-496b-9ed1-b8126b681d3d",
   "metadata": {},
   "source": [
    "Question4:\n",
    "Answer4"
   ]
  },
  {
   "cell_type": "markdown",
   "id": "266cebc6-ed5e-408d-8237-cdbfd0ad7187",
   "metadata": {},
   "source": [
    "a)"
   ]
  },
  {
   "cell_type": "markdown",
   "id": "feb56218-bad0-4cfd-a671-2c15d0b53aa2",
   "metadata": {},
   "source": [
    "->The try and else statements can be used together to handle exceptions in Python. The try statement specifies a block of code that may potentially \n",
    "raise an exception. The else statement specifies a block of code that will be executed if the try block does not raise an exception.\n",
    "\n"
   ]
  },
  {
   "cell_type": "code",
   "execution_count": 6,
   "id": "b72264ce-d23f-4a05-9c95-eeed418007a1",
   "metadata": {},
   "outputs": [
    {
     "name": "stdout",
     "output_type": "stream",
     "text": [
      "this will be executed only try block will execute\n"
     ]
    }
   ],
   "source": [
    "try:\n",
    "    f = open(\"test.txt\",'w')\n",
    "    f.write(\"My name is Shubham Tiwari\")\n",
    "except Exception as e:\n",
    "    print(\"THis is my except block\",e)\n",
    "else:\n",
    "    f.close()\n",
    "    print(\"this will be executed only try block will execute\")"
   ]
  },
  {
   "cell_type": "markdown",
   "id": "e8fa4f2f-25c0-4846-b95e-0b633492cdd9",
   "metadata": {},
   "source": [
    "b)"
   ]
  },
  {
   "cell_type": "code",
   "execution_count": 9,
   "id": "a466c3d3-fed7-4dde-aeec-3f529c982345",
   "metadata": {},
   "outputs": [],
   "source": [
    "def divide(x,y):\n",
    "    try:\n",
    "        return x/y\n",
    "    except Exception as e:\n",
    "        print(\"Divison by zero error\",e)\n",
    "    finally:\n",
    "        print(\"THis is always executed\")\n",
    "\n"
   ]
  },
  {
   "cell_type": "code",
   "execution_count": 10,
   "id": "9ea340b7-6248-44fb-911f-a35c92b2e163",
   "metadata": {},
   "outputs": [
    {
     "name": "stdout",
     "output_type": "stream",
     "text": [
      "Divison by zero error division by zero\n",
      "THis is always executed\n"
     ]
    }
   ],
   "source": [
    "divide(10,0)"
   ]
  },
  {
   "cell_type": "markdown",
   "id": "f6473839-a4fc-4328-a84d-21c4a290d137",
   "metadata": {},
   "source": [
    "->In this code, the divide() function first tries to divide the two numbers x and y. If y is zero, a ZeroDivisionError exception is raised.\n",
    "In this case, the except clause is executed, which prints the message \"Division by zero error\".\n",
    "\n",
    "->The finally clause is always executed, regardless of whether an exception occurs or not. In this case, the finally clause prints the message\n",
    "\"This is always executed\".\n",
    "\n",
    "->The finally clause is useful for performing cleanup operations, such as closing files or releasing resources."
   ]
  },
  {
   "cell_type": "markdown",
   "id": "e6fc9fe8-8e43-49ba-baa3-396675d78747",
   "metadata": {},
   "source": [
    "c)"
   ]
  },
  {
   "cell_type": "markdown",
   "id": "8acd4991-2f4d-4bec-aff9-bdba6b0a3c8d",
   "metadata": {},
   "source": [
    "->Consider a scenario where we are asking the user to enter their roll number as input. We know that a roll number can only be a positive number.\n",
    "So, if the user enters a non-positivevalue as their roll number, we might want to throw an exception.\n",
    "\n",
    "->There can be more such cases where the values entered by the user or some piece of code are considered invalid for our program. In those cases, we \n",
    "can manually raise an exception."
   ]
  },
  {
   "cell_type": "code",
   "execution_count": 11,
   "id": "5f0eb2bf-fa7d-4cf5-9eee-a0f341b72fb5",
   "metadata": {},
   "outputs": [
    {
     "name": "stdin",
     "output_type": "stream",
     "text": [
      "Please enter your roll number -5\n"
     ]
    },
    {
     "name": "stdout",
     "output_type": "stream",
     "text": [
      "ValueError Exception thrown\n",
      "Outside of try-except clauses.\n"
     ]
    }
   ],
   "source": [
    "try:\n",
    "    roll = int(input(\"Please enter your roll number\"))\n",
    "    if roll <= 0:\n",
    "        raise ValueError()\n",
    "\n",
    "except ValueError:\n",
    "    print(\"ValueError Exception thrown\")\n",
    "\n",
    "print(\"Outside of try-except clauses.\")\n"
   ]
  },
  {
   "cell_type": "markdown",
   "id": "3c034541-bf27-4de0-9ab6-e78131dc1a02",
   "metadata": {},
   "source": [
    "Question5\n",
    "Answer5:"
   ]
  },
  {
   "cell_type": "markdown",
   "id": "2102a091-1eba-4720-a9f4-3e1b81d78905",
   "metadata": {},
   "source": [
    "->Custom exceptions are exceptions that are defined by the programmer. They are useful for creating exceptions that are specific to the application or \n",
    "project.\n",
    "\n"
   ]
  },
  {
   "cell_type": "code",
   "execution_count": 14,
   "id": "ae43d9a5-d70a-4eda-b2e2-6d811f91ded5",
   "metadata": {},
   "outputs": [
    {
     "name": "stdin",
     "output_type": "stream",
     "text": [
      "Enter a number between positive integer: -23\n"
     ]
    },
    {
     "name": "stdout",
     "output_type": "stream",
     "text": [
      "please provide positive integers values only\n"
     ]
    }
   ],
   "source": [
    "class NegativeError(Exception):\n",
    "    def __init__(self,data):\n",
    "        self.data = data\n",
    "        \n",
    "try:\n",
    "    x = int(input(\"Enter a number between positive integer:\"))\n",
    "    if x<0:\n",
    "        raise NegativeError(x)\n",
    "except NegativeError as e:\n",
    "    print(\"please provide positive integers values only\")"
   ]
  },
  {
   "cell_type": "markdown",
   "id": "3e89a788-10c6-4746-9805-ac2348ac3f23",
   "metadata": {},
   "source": [
    "Custom exceptions are useful for a number of reasons. They can be used to:\n",
    "\n",
    "->Create exceptions that are specific to the application or project.\n",
    "\n",
    "->Provide more information about the exception, such as the message that caused the exception to be raised.\n",
    "\n",
    "->Allow the programmer to handle exceptions in a way that is specific to the application or project"
   ]
  },
  {
   "cell_type": "markdown",
   "id": "ed69ca4f-6884-4c1e-93a7-b2eab4c27a5b",
   "metadata": {},
   "source": [
    "Question6\n",
    "Answer6:"
   ]
  },
  {
   "cell_type": "code",
   "execution_count": 21,
   "id": "23794877-77dc-4d27-80b6-5421ea025b1f",
   "metadata": {},
   "outputs": [],
   "source": [
    "class validateage(Exception):\n",
    "    \n",
    "    def __init__(self,message):\n",
    "        self.message = message\n",
    "        \n",
    "  \n",
    "            \n"
   ]
  },
  {
   "cell_type": "code",
   "execution_count": 22,
   "id": "c8d0548a-afa9-49ff-adc5-aacf17d2d972",
   "metadata": {},
   "outputs": [
    {
     "name": "stdin",
     "output_type": "stream",
     "text": [
      "Enter your age : -12\n"
     ]
    },
    {
     "name": "stdout",
     "output_type": "stream",
     "text": [
      "Entered age is negative\n"
     ]
    }
   ],
   "source": [
    "def validate_age(age):\n",
    "    if age < 0:\n",
    "        raise validateage(\"Entered age is negative\")\n",
    "    elif age > 200:\n",
    "        raise validateage(\"Entered age is greater\")\n",
    "    else:\n",
    "        print(\"Entered age is valid\")\n",
    "\n",
    "        \n",
    "try:\n",
    "    age = int(input(\"Enter your age :\"))\n",
    "    validate_age(age)\n",
    "except validateage as e:\n",
    "    print(e)\n",
    "       \n",
    "        "
   ]
  },
  {
   "cell_type": "code",
   "execution_count": null,
   "id": "44a35031-9f13-4dda-b76b-1a2db9c73642",
   "metadata": {},
   "outputs": [],
   "source": []
  }
 ],
 "metadata": {
  "kernelspec": {
   "display_name": "Python 3 (ipykernel)",
   "language": "python",
   "name": "python3"
  },
  "language_info": {
   "codemirror_mode": {
    "name": "ipython",
    "version": 3
   },
   "file_extension": ".py",
   "mimetype": "text/x-python",
   "name": "python",
   "nbconvert_exporter": "python",
   "pygments_lexer": "ipython3",
   "version": "3.10.8"
  }
 },
 "nbformat": 4,
 "nbformat_minor": 5
}
