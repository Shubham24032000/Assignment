{
 "cells": [
  {
   "cell_type": "markdown",
   "id": "c602b8b4-06ab-4622-85be-928c61531cfc",
   "metadata": {},
   "source": [
    "Question1\n",
    "Answer1:"
   ]
  },
  {
   "cell_type": "markdown",
   "id": "8f8a753c-0ea6-44d1-9f4c-29521ce2d5e5",
   "metadata": {},
   "source": [
    "Flask is a lightweight Python microframework that enables rapid development of web applications. It is based on Werkzeug, a Python WSGI utility\n",
    "library and Jinja2, a template engine for Python.\n",
    "\n",
    "Flask is a popular choice for developing web applications because it is:\n",
    "\n",
    "->Lightweight: Flask is a very lightweight framework, which means that it requires fewer dependencies than other frameworks. This makes it easier to\n",
    "set up and deploy, and it can also improve performance.\n",
    "\n",
    "->Flexible: Flask is very flexible, which means that it can be used to develop a wide variety of web applications.\n",
    "\n",
    "->Extensible: Flask is extensible with a variety of third-party extensions, which allows you to add functionality to your application without having\n",
    "to modify the core framework.\n",
    "\n",
    "->Documented: Flask is well-documented, which makes it easy to learn and use.\n",
    "\n",
    "Here are some of the advantages of using the Flask framework:\n",
    "\n",
    "->Lightweight and easy to use: Flask is a lightweight framework, which means that it is easy to learn and use. It does not have a lot of built-in \n",
    "features, which gives you more control over your application.\n",
    "\n",
    "->Flexible: Flask is very flexible and can be used to create a wide variety of web applications. It is not as opinionated as some other frameworks,\n",
    "which means that you can choose the tools and libraries that work best for your project.\n",
    "\n",
    "->Extensible: Flask is extensible with a wide variety of third-party extensions. This allows you to add functionality to your application without \n",
    "having to modify the core framework.\n",
    "\n",
    "->Well-documented: Flask is well-documented, which makes it easy to learn and use. The documentation is extensive and covers all aspects of the \n",
    "framework.\n",
    "\n",
    "->Active community: Flask has a large and active community of users and developers. This means that there are plenty of resources available if you \n",
    "need help or want to collaborate on a project."
   ]
  },
  {
   "cell_type": "markdown",
   "id": "48b297fe-cd69-407b-9b10-b5ae747dfbe0",
   "metadata": {},
   "source": [
    "Question2\n",
    "Answer2:"
   ]
  },
  {
   "cell_type": "code",
   "execution_count": null,
   "id": "234a9fc6-89e7-46ad-b850-2550da3a10e9",
   "metadata": {},
   "outputs": [],
   "source": [
    "[title](img/p1.png)"
   ]
  },
  {
   "cell_type": "markdown",
   "id": "01d2f660-9f8f-4385-81f9-a09f085928ce",
   "metadata": {},
   "source": [
    "Question3\n",
    "Answer3:"
   ]
  },
  {
   "cell_type": "markdown",
   "id": "f32144ae-cbdf-43d4-b166-71bedd870fea",
   "metadata": {},
   "source": [
    "->App routing in Flask is the process of mapping specific URLs to functions that perform specific tasks. This allows users to access different parts of your application by entering specific URLs in their web browser. For example, you might have a route that maps the URL /hello to a function that\n",
    "displays a greeting message. When a user enters /hello in their browser, the greeting message will be displayed."
   ]
  },
  {
   "cell_type": "markdown",
   "id": "bf406b55-4f8f-41ae-91c1-f8ada7b34f20",
   "metadata": {},
   "source": [
    "We use app routes in Flask for a number of reasons:\n",
    "\n",
    "->To make our applications more user-friendly:By giving users specific URLs to access different parts of our applications, we make it easier for them\n",
    "to find what they're looking for.\n",
    "\n",
    "->To make our applications more organized:By grouping related functions together under specific URLs, we make our code easier to read and maintain.\n",
    "\n",
    "->To improve performance. By routing requests to specific functions, we can avoid having to execute unnecessary code."
   ]
  },
  {
   "cell_type": "markdown",
   "id": "3ebbcbfd-b4a4-42d6-bfa3-cc0e947a91a7",
   "metadata": {},
   "source": [
    "Question4\n",
    "Answer4:"
   ]
  },
  {
   "cell_type": "code",
   "execution_count": null,
   "id": "288073f9-f8ee-46ea-862c-ba4e5514a3be",
   "metadata": {},
   "outputs": [],
   "source": [
    "[title](img/p2.png)"
   ]
  },
  {
   "cell_type": "markdown",
   "id": "c5a78e7d-44d2-4b40-aef3-668f4e297032",
   "metadata": {},
   "source": [
    "Question5\n",
    "Answer5:"
   ]
  },
  {
   "cell_type": "markdown",
   "id": "4c704ab8-bfdc-46b6-b03b-ac057411c751",
   "metadata": {},
   "source": [
    "->The url_for() function is used in Flask for URL building. It takes two arguments: the name of the function and the keyword arguments to be passed to\n",
    "the function."
   ]
  },
  {
   "cell_type": "markdown",
   "id": "3d3448e9-0c2c-4e6f-8978-f5570d4ef824",
   "metadata": {},
   "source": [
    "->The url_for() function is a very useful tool for building URLs in Flask. It allows us to build URLs dynamically, without having to hard-code them in\n",
    "our code. This makes our code more flexible and easier to maintain."
   ]
  },
  {
   "cell_type": "code",
   "execution_count": null,
   "id": "ecd043b8-4e02-4ea0-a1db-6f4b3cce998a",
   "metadata": {},
   "outputs": [],
   "source": [
    "from flask import Flask, url_for\n",
    "\n",
    "app = Flask(__name__)\n",
    "\n",
    "@app.route('/index')\n",
    "def index():\n",
    "    return 'This is the index page.'\n",
    "\n",
    "@app.route('/hello/<name>')\n",
    "def hello(name):\n",
    "    return 'Hello, {}!'.format(name)\n",
    "\n",
    "@app.route('/redirect')\n",
    "def redirect():\n",
    "    return redirect(url_for('hello', name='World'))\n",
    "\n",
    "if __name__ == '__main__':\n",
    "    app.run(0.0.0.0)\n"
   ]
  },
  {
   "cell_type": "markdown",
   "id": "0b5eece1-f8ca-4209-b408-e491fef5aefa",
   "metadata": {},
   "source": [
    "->In this code, we have two routes: /index and /hello/<name>. The /index route simply returns the text \"This is the index page.\" The /hello/<name>\n",
    "route takes a name parameter and returns the text \"Hello, {}!\". The /redirect route redirects to the /hello/World route.\n",
    "\n"
   ]
  },
  {
   "cell_type": "markdown",
   "id": "b2442e4e-d5c4-4b53-bcb5-1e42a1290c94",
   "metadata": {},
   "source": [
    "->The first URL will return the text \"This is the index page.\" The second URL will return the text \"Hello, John!\". The third URL will redirect to the\n",
    "/hello/World route, which will then return the text \"Hello, World!\"."
   ]
  },
  {
   "cell_type": "markdown",
   "id": "918de1e7-519e-43a7-9304-389978db622d",
   "metadata": {},
   "source": [
    "\n",
    "->The url_for() function can also be used to generate URLs for remote resources. To do this, you simply need to pass the full URL as the first \n",
    "argument to the url_for() function. For example, the following code will generate a URL for the Google homepage"
   ]
  },
  {
   "cell_type": "code",
   "execution_count": null,
   "id": "aa3f1fe0-92a2-40e5-8e2f-595566367743",
   "metadata": {},
   "outputs": [],
   "source": []
  }
 ],
 "metadata": {
  "kernelspec": {
   "display_name": "Python 3 (ipykernel)",
   "language": "python",
   "name": "python3"
  },
  "language_info": {
   "codemirror_mode": {
    "name": "ipython",
    "version": 3
   },
   "file_extension": ".py",
   "mimetype": "text/x-python",
   "name": "python",
   "nbconvert_exporter": "python",
   "pygments_lexer": "ipython3",
   "version": "3.10.8"
  }
 },
 "nbformat": 4,
 "nbformat_minor": 5
}
