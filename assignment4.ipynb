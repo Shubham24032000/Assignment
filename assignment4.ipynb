{
 "cells": [
  {
   "cell_type": "markdown",
   "id": "65cc38f5-4aa4-4b30-9075-b96ee773894e",
   "metadata": {},
   "source": [
    "Question1"
   ]
  },
  {
   "cell_type": "code",
   "execution_count": 1,
   "id": "656d1397-1653-4458-9ae7-f7b7eae9d808",
   "metadata": {},
   "outputs": [],
   "source": [
    "l = [('Sachin Tendulkar', 34357), ('Ricky Ponting', 27483), ('Jack Kallis', 25534), ('Virat Kohli', 24936)]"
   ]
  },
  {
   "cell_type": "code",
   "execution_count": 4,
   "id": "6ec6ea33-d3ad-4020-9658-de630d6ce3b2",
   "metadata": {},
   "outputs": [
    {
     "data": {
      "text/plain": [
       "[('Virat Kohli', 24936),\n",
       " ('Jack Kallis', 25534),\n",
       " ('Ricky Ponting', 27483),\n",
       " ('Sachin Tendulkar', 34357)]"
      ]
     },
     "execution_count": 4,
     "metadata": {},
     "output_type": "execute_result"
    }
   ],
   "source": [
    "sorted(l,key = lambda x: x[1])"
   ]
  },
  {
   "cell_type": "markdown",
   "id": "c4af16b9-75e7-4b46-8e1c-611999b2897d",
   "metadata": {},
   "source": [
    "Question2"
   ]
  },
  {
   "cell_type": "code",
   "execution_count": 5,
   "id": "c5bde10c-e32f-42cb-9117-902ffb0fa559",
   "metadata": {},
   "outputs": [],
   "source": [
    "l1 = [1,2,3,4,5,6,7,8,9,10]"
   ]
  },
  {
   "cell_type": "code",
   "execution_count": 6,
   "id": "3929f110-7064-4968-8792-064dddd1c883",
   "metadata": {},
   "outputs": [
    {
     "data": {
      "text/plain": [
       "[1, 4, 9, 16, 25, 36, 49, 64, 81, 100]"
      ]
     },
     "execution_count": 6,
     "metadata": {},
     "output_type": "execute_result"
    }
   ],
   "source": [
    "list(map(lambda x:x**2 ,l1))"
   ]
  },
  {
   "cell_type": "markdown",
   "id": "40924423-7628-46b3-927b-9cbaa815c8de",
   "metadata": {},
   "source": [
    "Question3"
   ]
  },
  {
   "cell_type": "code",
   "execution_count": 7,
   "id": "02f164b1-9de7-4632-803a-308f25fd6322",
   "metadata": {},
   "outputs": [],
   "source": [
    "l2=[1,2,3,4,5,6,7,8,9,10]"
   ]
  },
  {
   "cell_type": "code",
   "execution_count": 8,
   "id": "f059f310-3f05-4333-9b91-158c10081b56",
   "metadata": {},
   "outputs": [
    {
     "data": {
      "text/plain": [
       "(1, 2, 3, 4, 5, 6, 7, 8, 9, 10)"
      ]
     },
     "execution_count": 8,
     "metadata": {},
     "output_type": "execute_result"
    }
   ],
   "source": [
    "tuple(map(lambda x:x,l2))"
   ]
  },
  {
   "cell_type": "markdown",
   "id": "e67abaf9-5301-4385-b975-88526b85d860",
   "metadata": {},
   "source": [
    "Question4"
   ]
  },
  {
   "cell_type": "code",
   "execution_count": 15,
   "id": "781c6a6b-2258-4aa3-96d0-9079de1038ac",
   "metadata": {},
   "outputs": [],
   "source": [
    "from functools import reduce"
   ]
  },
  {
   "cell_type": "code",
   "execution_count": 16,
   "id": "ab7c7595-5425-4710-90bc-5f747ae001d2",
   "metadata": {},
   "outputs": [],
   "source": [
    "l3 = [1,2,3,4,5,6,7,8,9,10,11,12,13,14,15,16,17,18,19,20,21,22,23,24,25]"
   ]
  },
  {
   "cell_type": "code",
   "execution_count": 18,
   "id": "982e146d-b603-41aa-9703-d5b6709bf587",
   "metadata": {},
   "outputs": [
    {
     "data": {
      "text/plain": [
       "15511210043330985984000000"
      ]
     },
     "execution_count": 18,
     "metadata": {},
     "output_type": "execute_result"
    }
   ],
   "source": [
    "reduce(lambda x,y:x*y ,l3)"
   ]
  },
  {
   "cell_type": "markdown",
   "id": "ad8a1f94-328b-4fe6-8401-79f06a5e7af8",
   "metadata": {},
   "source": [
    "Question5"
   ]
  },
  {
   "cell_type": "code",
   "execution_count": 24,
   "id": "c60059ee-3eb4-4a1a-a214-2f45469ebc7a",
   "metadata": {},
   "outputs": [],
   "source": [
    "l4 = [2, 3, 6, 9, 27, 60, 90, 120, 55, 46]\n"
   ]
  },
  {
   "cell_type": "code",
   "execution_count": 25,
   "id": "869c6ae9-c2b5-43c9-93b9-50115b0a66bd",
   "metadata": {},
   "outputs": [
    {
     "data": {
      "text/plain": [
       "[2, 6, 60, 90, 120, 46]"
      ]
     },
     "execution_count": 25,
     "metadata": {},
     "output_type": "execute_result"
    }
   ],
   "source": [
    "list(filter(lambda x: x%2 == 0 ,l4))"
   ]
  },
  {
   "cell_type": "code",
   "execution_count": 26,
   "id": "9abd9488-afe7-4bb8-9c1f-649e57b77001",
   "metadata": {},
   "outputs": [
    {
     "data": {
      "text/plain": [
       "[3, 6, 9, 27, 60, 90, 120]"
      ]
     },
     "execution_count": 26,
     "metadata": {},
     "output_type": "execute_result"
    }
   ],
   "source": [
    "list(filter(lambda x: x%3 == 0 ,l4))"
   ]
  },
  {
   "cell_type": "markdown",
   "id": "cc3f129b-8b92-4d65-9130-ad027eb076f0",
   "metadata": {},
   "source": [
    "Question 6"
   ]
  },
  {
   "cell_type": "code",
   "execution_count": 27,
   "id": "16438123-63f9-4a60-aab2-755c4563fba7",
   "metadata": {},
   "outputs": [],
   "source": [
    "l = ['python', 'php', 'aba', 'radar', 'level']"
   ]
  },
  {
   "cell_type": "code",
   "execution_count": 28,
   "id": "a286b541-3add-4570-999f-d38c77769cf4",
   "metadata": {},
   "outputs": [],
   "source": [
    "result = list(filter(lambda x: (x == \"\".join(reversed(x))), l)) "
   ]
  },
  {
   "cell_type": "code",
   "execution_count": 29,
   "id": "3f41c73b-565d-472f-96aa-c5fab23b9af8",
   "metadata": {},
   "outputs": [
    {
     "data": {
      "text/plain": [
       "['php', 'aba', 'radar', 'level']"
      ]
     },
     "execution_count": 29,
     "metadata": {},
     "output_type": "execute_result"
    }
   ],
   "source": [
    "result"
   ]
  },
  {
   "cell_type": "code",
   "execution_count": null,
   "id": "31e49e4a-a200-43f4-b153-1ffe943dd5da",
   "metadata": {},
   "outputs": [],
   "source": []
  }
 ],
 "metadata": {
  "kernelspec": {
   "display_name": "Python 3 (ipykernel)",
   "language": "python",
   "name": "python3"
  },
  "language_info": {
   "codemirror_mode": {
    "name": "ipython",
    "version": 3
   },
   "file_extension": ".py",
   "mimetype": "text/x-python",
   "name": "python",
   "nbconvert_exporter": "python",
   "pygments_lexer": "ipython3",
   "version": "3.10.8"
  }
 },
 "nbformat": 4,
 "nbformat_minor": 5
}
