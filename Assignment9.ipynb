{
 "cells": [
  {
   "cell_type": "markdown",
   "id": "6971acba-7545-4afd-8997-f55e2aa6cc32",
   "metadata": {},
   "source": [
    "Question1\n",
    "Answer1:"
   ]
  },
  {
   "cell_type": "markdown",
   "id": "608e70fe-d99e-4cbf-afd2-deeb50f3debc",
   "metadata": {},
   "source": [
    "->In Python, all exceptions must be instances of a class that derives from the built-in Exception class. This is because the Exception class \n",
    "provides a number of useful properties and methods that can be used to handle exceptions.\n",
    "->Using the Exception class as the base for custom exceptions ensures that your exceptions integrate well with the language's built-in error handling mechanism, follows established conventions, and maintains consistency with other exceptions in the system. This approach also allows you to extend and enhance the exception hierarchy, providing a more organized and maintainable structure for handling errors in your code."
   ]
  },
  {
   "cell_type": "markdown",
   "id": "1a41d2ae-1c07-4683-b378-48f38941b96b",
   "metadata": {},
   "source": [
    "Question2\n",
    "Answer2:"
   ]
  },
  {
   "cell_type": "code",
   "execution_count": 2,
   "id": "10669324-8253-407a-8ea1-bee1c863b425",
   "metadata": {},
   "outputs": [
    {
     "name": "stdout",
     "output_type": "stream",
     "text": [
      "The class hierarchy for built-in exceptions is:\n",
      " Exception\n",
      "... TypeError\n",
      "...... FloatOperation\n",
      "...... MultipartConversionError\n",
      "... StopAsyncIteration\n",
      "... StopIteration\n",
      "... ImportError\n",
      "...... ModuleNotFoundError\n",
      "...... ZipImportError\n",
      "... OSError\n",
      "...... ConnectionError\n",
      "......... BrokenPipeError\n",
      "......... ConnectionAbortedError\n",
      "......... ConnectionRefusedError\n",
      "......... ConnectionResetError\n",
      "............ RemoteDisconnected\n",
      "...... BlockingIOError\n",
      "...... ChildProcessError\n",
      "...... FileExistsError\n",
      "...... FileNotFoundError\n",
      "...... IsADirectoryError\n",
      "...... NotADirectoryError\n",
      "...... InterruptedError\n",
      "......... InterruptedSystemCall\n",
      "...... PermissionError\n",
      "...... ProcessLookupError\n",
      "...... TimeoutError\n",
      "...... UnsupportedOperation\n",
      "...... itimer_error\n",
      "...... herror\n",
      "...... gaierror\n",
      "...... SSLError\n",
      "......... SSLCertVerificationError\n",
      "......... SSLZeroReturnError\n",
      "......... SSLWantWriteError\n",
      "......... SSLWantReadError\n",
      "......... SSLSyscallError\n",
      "......... SSLEOFError\n",
      "...... Error\n",
      "......... SameFileError\n",
      "...... SpecialFileError\n",
      "...... ExecError\n",
      "...... ReadError\n",
      "...... URLError\n",
      "......... HTTPError\n",
      "......... ContentTooShortError\n",
      "...... BadGzipFile\n",
      "... EOFError\n",
      "...... IncompleteReadError\n",
      "... RuntimeError\n",
      "...... RecursionError\n",
      "...... NotImplementedError\n",
      "......... ZMQVersionError\n",
      "......... StdinNotImplementedError\n",
      "...... _DeadlockError\n",
      "...... BrokenBarrierError\n",
      "...... BrokenExecutor\n",
      "......... BrokenThreadPool\n",
      "...... SendfileNotAvailableError\n",
      "...... ExtractionError\n",
      "...... VariableError\n",
      "... NameError\n",
      "...... UnboundLocalError\n",
      "... AttributeError\n",
      "...... FrozenInstanceError\n",
      "... SyntaxError\n",
      "...... IndentationError\n",
      "......... TabError\n",
      "... LookupError\n",
      "...... IndexError\n",
      "...... KeyError\n",
      "......... NoSuchKernel\n",
      "......... UnknownBackend\n",
      "...... CodecRegistryError\n",
      "... ValueError\n",
      "...... UnicodeError\n",
      "......... UnicodeEncodeError\n",
      "......... UnicodeDecodeError\n",
      "......... UnicodeTranslateError\n",
      "...... UnsupportedOperation\n",
      "...... JSONDecodeError\n",
      "...... SSLCertVerificationError\n",
      "...... Error\n",
      "...... UnsupportedDigestmodError\n",
      "...... IllegalMonthError\n",
      "...... IllegalWeekdayError\n",
      "...... ParserError\n",
      "...... ClassNotFound\n",
      "...... ClipboardEmpty\n",
      "...... MessageDefect\n",
      "......... NoBoundaryInMultipartDefect\n",
      "......... StartBoundaryNotFoundDefect\n",
      "......... CloseBoundaryNotFoundDefect\n",
      "......... FirstHeaderLineIsContinuationDefect\n",
      "......... MisplacedEnvelopeHeaderDefect\n",
      "......... MissingHeaderBodySeparatorDefect\n",
      "......... MultipartInvariantViolationDefect\n",
      "......... InvalidMultipartContentTransferEncodingDefect\n",
      "......... UndecodableBytesDefect\n",
      "......... InvalidBase64PaddingDefect\n",
      "......... InvalidBase64CharactersDefect\n",
      "......... InvalidBase64LengthDefect\n",
      "......... HeaderDefect\n",
      "............ InvalidHeaderDefect\n",
      "............ HeaderMissingRequiredValue\n",
      "............ NonPrintableDefect\n",
      "............ ObsoleteHeaderDefect\n",
      "............ NonASCIILocalPartDefect\n",
      "............ InvalidDateDefect\n",
      "...... MacroToEdit\n",
      "...... InvalidFileException\n",
      "...... UnequalIterablesError\n",
      "...... InvalidVersion\n",
      "...... _InvalidELFFileHeader\n",
      "...... InvalidWheelFilename\n",
      "...... InvalidSdistFilename\n",
      "...... InvalidSpecifier\n",
      "...... InvalidMarker\n",
      "...... UndefinedComparison\n",
      "...... UndefinedEnvironmentName\n",
      "...... InvalidRequirement\n",
      "......... RequirementParseError\n",
      "...... InvalidVersion\n",
      "... AssertionError\n",
      "... ArithmeticError\n",
      "...... FloatingPointError\n",
      "...... OverflowError\n",
      "...... ZeroDivisionError\n",
      "......... DivisionByZero\n",
      "......... DivisionUndefined\n",
      "...... DecimalException\n",
      "......... Clamped\n",
      "......... Rounded\n",
      "............ Underflow\n",
      "............ Overflow\n",
      "......... Inexact\n",
      "............ Underflow\n",
      "............ Overflow\n",
      "......... Subnormal\n",
      "............ Underflow\n",
      "......... DivisionByZero\n",
      "......... FloatOperation\n",
      "......... InvalidOperation\n",
      "............ ConversionSyntax\n",
      "............ DivisionImpossible\n",
      "............ DivisionUndefined\n",
      "............ InvalidContext\n",
      "... SystemError\n",
      "...... CodecRegistryError\n",
      "... ReferenceError\n",
      "... MemoryError\n",
      "... BufferError\n",
      "... Warning\n",
      "...... UserWarning\n",
      "......... GetPassWarning\n",
      "......... FormatterWarning\n",
      "...... EncodingWarning\n",
      "...... DeprecationWarning\n",
      "......... ProvisionalWarning\n",
      "...... PendingDeprecationWarning\n",
      "...... SyntaxWarning\n",
      "...... RuntimeWarning\n",
      "......... ProactorSelectorThreadWarning\n",
      "......... UnknownTimezoneWarning\n",
      "......... PEP440Warning\n",
      "...... FutureWarning\n",
      "......... ProvisionalCompleterWarning\n",
      "...... ImportWarning\n",
      "...... UnicodeWarning\n",
      "...... BytesWarning\n",
      "...... ResourceWarning\n",
      "...... DeprecatedTzFormatWarning\n",
      "...... PkgResourcesDeprecationWarning\n",
      "... _OptionError\n",
      "... _Error\n",
      "... error\n",
      "... Verbose\n",
      "... Error\n",
      "... SubprocessError\n",
      "...... CalledProcessError\n",
      "...... TimeoutExpired\n",
      "... TokenError\n",
      "... StopTokenizing\n",
      "... ClassFoundException\n",
      "... EndOfBlock\n",
      "... TraitError\n",
      "... Error\n",
      "... Error\n",
      "...... CancelledError\n",
      "...... TimeoutError\n",
      "...... InvalidStateError\n",
      "... _GiveupOnSendfile\n",
      "... error\n",
      "... Incomplete\n",
      "... TimeoutError\n",
      "... InvalidStateError\n",
      "... LimitOverrunError\n",
      "... QueueEmpty\n",
      "... QueueFull\n",
      "... Empty\n",
      "... Full\n",
      "... ArgumentError\n",
      "... ZMQBaseError\n",
      "...... ZMQError\n",
      "......... ContextTerminated\n",
      "......... Again\n",
      "......... InterruptedSystemCall\n",
      "...... ZMQBindError\n",
      "...... NotDone\n",
      "... PickleError\n",
      "...... PicklingError\n",
      "...... UnpicklingError\n",
      "... _Stop\n",
      "... ArgumentError\n",
      "... ArgumentTypeError\n",
      "... ConfigError\n",
      "...... ConfigLoaderError\n",
      "......... ArgumentError\n",
      "...... ConfigFileNotFound\n",
      "... ConfigurableError\n",
      "...... MultipleInstanceError\n",
      "... ApplicationError\n",
      "... error\n",
      "... TimeoutError\n",
      "... error\n",
      "... ReturnValueIgnoredError\n",
      "... KeyReuseError\n",
      "... UnknownKeyError\n",
      "... LeakedCallbackError\n",
      "... BadYieldError\n",
      "... ReturnValueIgnoredError\n",
      "... Return\n",
      "... InvalidPortNumber\n",
      "... error\n",
      "... LZMAError\n",
      "... RegistryError\n",
      "... _GiveupOnFastCopy\n",
      "... Error\n",
      "...... NoSectionError\n",
      "...... DuplicateSectionError\n",
      "...... DuplicateOptionError\n",
      "...... NoOptionError\n",
      "...... InterpolationError\n",
      "......... InterpolationMissingOptionError\n",
      "......... InterpolationSyntaxError\n",
      "......... InterpolationDepthError\n",
      "...... ParsingError\n",
      "......... MissingSectionHeaderError\n",
      "... NoIPAddresses\n",
      "... BadZipFile\n",
      "... LargeZipFile\n",
      "... BadEntryPoint\n",
      "... NoSuchEntryPoint\n",
      "... DuplicateKernelError\n",
      "... ErrorDuringImport\n",
      "... NotOneValueFound\n",
      "... CannotEval\n",
      "... OptionError\n",
      "... BdbQuit\n",
      "... Restart\n",
      "... ExceptionPexpect\n",
      "...... EOF\n",
      "...... TIMEOUT\n",
      "... PtyProcessError\n",
      "... FindCmdError\n",
      "... HomeDirError\n",
      "... ProfileDirError\n",
      "... IPythonCoreError\n",
      "...... TryNext\n",
      "...... UsageError\n",
      "...... StdinNotImplementedError\n",
      "... InputRejected\n",
      "... GetoptError\n",
      "... ErrorToken\n",
      "... PrefilterError\n",
      "... AliasError\n",
      "...... InvalidAliasError\n",
      "... Error\n",
      "...... InterfaceError\n",
      "...... DatabaseError\n",
      "......... InternalError\n",
      "......... OperationalError\n",
      "......... ProgrammingError\n",
      "......... IntegrityError\n",
      "......... DataError\n",
      "......... NotSupportedError\n",
      "... Warning\n",
      "... SpaceInInput\n",
      "... DOMException\n",
      "...... IndexSizeErr\n",
      "...... DomstringSizeErr\n",
      "...... HierarchyRequestErr\n",
      "...... WrongDocumentErr\n",
      "...... InvalidCharacterErr\n",
      "...... NoDataAllowedErr\n",
      "...... NoModificationAllowedErr\n",
      "...... NotFoundErr\n",
      "...... NotSupportedErr\n",
      "...... InuseAttributeErr\n",
      "...... InvalidStateErr\n",
      "...... SyntaxErr\n",
      "...... InvalidModificationErr\n",
      "...... NamespaceErr\n",
      "...... InvalidAccessErr\n",
      "...... ValidationErr\n",
      "... ValidationError\n",
      "... EditReadOnlyBuffer\n",
      "... _Retry\n",
      "... InvalidLayoutError\n",
      "... HeightIsUnknownError\n",
      "... ParserSyntaxError\n",
      "... InternalParseError\n",
      "... _PositionUpdatingFinished\n",
      "... SimpleGetItemNotFound\n",
      "... UncaughtAttributeError\n",
      "... HasNoContext\n",
      "... ParamIssue\n",
      "... _JediError\n",
      "...... InternalError\n",
      "...... WrongVersion\n",
      "...... RefactoringError\n",
      "... OnErrorLeaf\n",
      "... InvalidPythonEnvironment\n",
      "... MessageError\n",
      "...... MessageParseError\n",
      "......... HeaderParseError\n",
      "......... BoundaryError\n",
      "...... MultipartConversionError\n",
      "...... CharsetError\n",
      "... Error\n",
      "... HTTPException\n",
      "...... NotConnected\n",
      "...... InvalidURL\n",
      "...... UnknownProtocol\n",
      "...... UnknownTransferEncoding\n",
      "...... UnimplementedFileMode\n",
      "...... IncompleteRead\n",
      "...... ImproperConnectionState\n",
      "......... CannotSendRequest\n",
      "......... CannotSendHeader\n",
      "......... ResponseNotReady\n",
      "...... BadStatusLine\n",
      "......... RemoteDisconnected\n",
      "...... LineTooLong\n",
      "... InteractivelyDefined\n",
      "... KillEmbedded\n",
      "... Error\n",
      "...... NoSuchProcess\n",
      "......... ZombieProcess\n",
      "...... AccessDenied\n",
      "...... TimeoutExpired\n",
      "... _Ipv6UnsupportedError\n",
      "... QueueEmpty\n",
      "... QueueFull\n",
      "... DebuggerInitializationError\n",
      "... ExpatError\n",
      "... Error\n",
      "...... ProtocolError\n",
      "...... ResponseError\n",
      "...... Fault\n",
      "... ParseBaseException\n",
      "...... ParseException\n",
      "...... ParseFatalException\n",
      "......... ParseSyntaxException\n",
      "... RecursiveGrammarException\n",
      "... ResolutionError\n",
      "...... VersionConflict\n",
      "......... ContextualVersionConflict\n",
      "...... DistributionNotFound\n",
      "...... UnknownExtra\n",
      "... _Error\n",
      "... UnableToResolveVariableException\n",
      "... InvalidTypeInArgsException\n"
     ]
    }
   ],
   "source": [
    "import inspect\n",
    "print(\"The class hierarchy for built-in exceptions is:\")\n",
    "inspect.getclasstree(inspect.getmro(Exception))\n",
    "def classtree(cls, indent=0):\n",
    "    print('.' * indent, cls.__name__)\n",
    "    for subcls in cls.__subclasses__():\n",
    "        classtree(subcls, indent + 3)\n",
    "classtree(Exception)"
   ]
  },
  {
   "cell_type": "markdown",
   "id": "7572036d-9e89-4f50-abce-2e16470a98d4",
   "metadata": {},
   "source": [
    "Question3\n",
    "Answer3:"
   ]
  },
  {
   "cell_type": "markdown",
   "id": "af0c272a-99fe-436e-bcc8-72ac26993a70",
   "metadata": {},
   "source": [
    "The ArithmeticError class is the base class for all errors associated with arithmetic operations in Python. The following are the errors \n",
    "defined in the ArithmeticError class:\n",
    "    \n",
    "1.ZeroDivisionError\n",
    "\n",
    "->This error is raised when an arithmetic operation is performed on a zero divisor. For example, the following code will raise a ZeroDivisionError:\n",
    "\n"
   ]
  },
  {
   "cell_type": "code",
   "execution_count": 27,
   "id": "6fb32fcb-934c-4823-8cc4-684dbdd8ae4c",
   "metadata": {},
   "outputs": [],
   "source": [
    "def divide_numbers(a,b):\n",
    "    try:\n",
    "        result = a/b\n",
    "        return result\n",
    "    except Exception as e:\n",
    "        return f\"Error:{e}\"\n",
    "\n"
   ]
  },
  {
   "cell_type": "code",
   "execution_count": 28,
   "id": "16e0f449-0884-4e85-93f1-54aafc4ff2fa",
   "metadata": {},
   "outputs": [
    {
     "data": {
      "text/plain": [
       "'Error:division by zero'"
      ]
     },
     "execution_count": 28,
     "metadata": {},
     "output_type": "execute_result"
    }
   ],
   "source": [
    "divide_numbers(10,0)"
   ]
  },
  {
   "cell_type": "markdown",
   "id": "965501a3-bb59-45ad-859c-bd05c73ecca7",
   "metadata": {},
   "source": [
    "2. FloatingPointError\n",
    "\n",
    "->This error is raised when an arithmetic operation results in a value that is not a valid floating point number. For example, the following code will raise a FloatingPointError:"
   ]
  },
  {
   "cell_type": "code",
   "execution_count": 29,
   "id": "21abbf4d-9cec-42e1-a28b-9cbcc1ed7878",
   "metadata": {},
   "outputs": [],
   "source": [
    "def divide_num(a,b):\n",
    "    try:\n",
    "        result = a/b\n",
    "        return result\n",
    "    except Exception as e:\n",
    "        return f\"Error:{e}\""
   ]
  },
  {
   "cell_type": "code",
   "execution_count": 30,
   "id": "7768940c-1c46-4a70-8d65-f444a9333d50",
   "metadata": {},
   "outputs": [
    {
     "data": {
      "text/plain": [
       "'Error:float division by zero'"
      ]
     },
     "execution_count": 30,
     "metadata": {},
     "output_type": "execute_result"
    }
   ],
   "source": [
    "divide_num(10,0.0)"
   ]
  },
  {
   "cell_type": "markdown",
   "id": "30739319-0f0a-4721-92aa-aca9e341aac9",
   "metadata": {},
   "source": [
    "Question4\n",
    "Answer4:"
   ]
  },
  {
   "cell_type": "markdown",
   "id": "5c8765a1-3e0a-43fd-bbcc-4746b2ff3266",
   "metadata": {},
   "source": [
    "The LookupError exception class is used in Python to handle errors that occur when an index or key is not found for a sequence or dictionary."
   ]
  },
  {
   "cell_type": "markdown",
   "id": "63816fc9-cf7e-4980-abfa-8ff72680bf0f",
   "metadata": {},
   "source": [
    "\n",
    "\n",
    "The KeyError exception is a subclass of the LookupError exception. This means that we can catch KeyError exceptions by using the LookupError \n",
    "exception class. For example, the following code will print \"Key not found\" if the key 'c' is not found in the dictionary d"
   ]
  },
  {
   "cell_type": "code",
   "execution_count": 32,
   "id": "6a36fa33-3fc0-484e-a4f7-3f123a8af14d",
   "metadata": {},
   "outputs": [
    {
     "name": "stdout",
     "output_type": "stream",
     "text": [
      "key not found\n"
     ]
    }
   ],
   "source": [
    "d = {'a': 1, 'b': 2}\n",
    "try:\n",
    "    print(d['c'])\n",
    "except LookupError:\n",
    "    print('key not found')\n"
   ]
  },
  {
   "cell_type": "markdown",
   "id": "59de0009-9b97-480b-ad72-294101dadfad",
   "metadata": {},
   "source": [
    "The LookupError exception class can also be used to handle IndexError exceptions. For example, the following code will raise an IndexError exception:"
   ]
  },
  {
   "cell_type": "code",
   "execution_count": 35,
   "id": "3fe8d586-127c-437d-b768-77afd5f798bd",
   "metadata": {},
   "outputs": [
    {
     "name": "stdout",
     "output_type": "stream",
     "text": [
      "index not found\n"
     ]
    }
   ],
   "source": [
    "l = [1,2,3,4,5,6]\n",
    "try:\n",
    "    print(d[7])\n",
    "except LookupError:\n",
    "    print('index not found')"
   ]
  },
  {
   "cell_type": "markdown",
   "id": "1be7e304-3e94-401a-abb7-75cd60b91fb3",
   "metadata": {},
   "source": [
    "Question5\n",
    "Answer5:"
   ]
  },
  {
   "cell_type": "markdown",
   "id": "f6e37e29-2e2b-46a6-930c-7a0c69097809",
   "metadata": {},
   "source": [
    "->The ImportError exception is raised in Python when an import statement cannot successfully import a module.\n",
    "\n",
    "->The ModuleNotFoundError exception is a subclass of the ImportError exception. It is raised specifically when the module cannot be found at all. Other\n",
    "problems that can occur after the file is found, but during the actual process of loading the file or defining the function,would raise ImportError."
   ]
  },
  {
   "cell_type": "code",
   "execution_count": 36,
   "id": "5dd7dafa-b92c-4998-9034-09bc11d42373",
   "metadata": {},
   "outputs": [
    {
     "name": "stdout",
     "output_type": "stream",
     "text": [
      "The my_module module could not be imported\n"
     ]
    }
   ],
   "source": [
    "def my_function():\n",
    "    try:\n",
    "        import my_module\n",
    "    except ImportError:\n",
    "        print(\"The my_module module could not be imported\")\n",
    "\n",
    "if __name__ == \"__main__\":\n",
    "    my_function()\n"
   ]
  },
  {
   "cell_type": "markdown",
   "id": "61db13d3-0e80-4979-a88a-e5fea222232a",
   "metadata": {},
   "source": [
    "Question6\n",
    "Answer6:"
   ]
  },
  {
   "cell_type": "markdown",
   "id": "ef7449b6-495f-4f4b-85ef-c7d3b0b113b9",
   "metadata": {},
   "source": [
    "Here are some best practices for exception handling in Python:\n",
    "\n",
    "Use try-except blocks. A try-except block is a way to execute some code and handle exceptions that may occur."
   ]
  },
  {
   "cell_type": "code",
   "execution_count": 37,
   "id": "fa905601-a81b-4314-bbe4-288c3ebbdaff",
   "metadata": {},
   "outputs": [
    {
     "name": "stdout",
     "output_type": "stream",
     "text": [
      "division by zero\n"
     ]
    }
   ],
   "source": [
    "try :\n",
    "    10/0\n",
    "except Exception as e :\n",
    "    print(e)"
   ]
  },
  {
   "cell_type": "markdown",
   "id": "a4b7aca1-e26a-4a25-b94a-24c04e2b43fc",
   "metadata": {},
   "source": [
    "Log exceptions. When an exception occurs, it is a good idea to log it so that you can track down the source of the problem. \n",
    "You can use the logging module to log exceptions."
   ]
  },
  {
   "cell_type": "code",
   "execution_count": 39,
   "id": "28bd024b-aafe-4d2c-b8c5-3ca1770959ea",
   "metadata": {},
   "outputs": [],
   "source": [
    "import logging\n",
    "logging.basicConfig(filename = \"error.log\" , level = logging.ERROR)\n",
    "try:\n",
    "    10/0\n",
    "except Exception as e:\n",
    "    logging.error(\"I am trying to handle a zero divison error {}\".format(e))"
   ]
  },
  {
   "cell_type": "markdown",
   "id": "33a6ee36-9663-4f9e-b8b7-cb97e37447d3",
   "metadata": {},
   "source": [
    "->Throw exceptions instead of returning an error code. If an error occurs, it is a good idea to throw an exception instead of returning an error code. \n",
    "This will make your code more readable and maintainable."
   ]
  },
  {
   "cell_type": "code",
   "execution_count": null,
   "id": "2f3f1d76-4488-4e50-ae25-366d662f6a5c",
   "metadata": {},
   "outputs": [],
   "source": []
  }
 ],
 "metadata": {
  "kernelspec": {
   "display_name": "Python 3 (ipykernel)",
   "language": "python",
   "name": "python3"
  },
  "language_info": {
   "codemirror_mode": {
    "name": "ipython",
    "version": 3
   },
   "file_extension": ".py",
   "mimetype": "text/x-python",
   "name": "python",
   "nbconvert_exporter": "python",
   "pygments_lexer": "ipython3",
   "version": "3.10.8"
  }
 },
 "nbformat": 4,
 "nbformat_minor": 5
}
