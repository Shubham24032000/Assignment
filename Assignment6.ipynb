{
 "cells": [
  {
   "cell_type": "markdown",
   "id": "f0821fde-f9d1-4664-a69d-421631dfd251",
   "metadata": {},
   "source": [
    "Question1\n",
    "Answer1:"
   ]
  },
  {
   "cell_type": "code",
   "execution_count": null,
   "id": "95dba4d0-0099-4cb4-846c-7bd2097848b7",
   "metadata": {},
   "outputs": [],
   "source": [
    "In object-oriented programming (OOP), a class is a blueprint for creating objects. \n",
    "It defines the data and behavior that all objects of that class will share. \n",
    "An object is an instance of a class. It is a real-world entity that has state and behavior.\n",
    "For example, the class Car might define the following data:\n",
    "->make: The make of the car\n",
    "->model: The model of the car\n",
    "->year: The year the car was made\n",
    "The class Car might also define the following behavior:\n",
    "->drive(): This method would cause the car to move forward.\n",
    "->stop(): This method would cause the car to stop moving.\n",
    "When we create an object of the Car class, we would specify the values for the make, model, and year data members. \n",
    "We could then call the drive() and stop() methods to control the car.\n",
    "Classes and objects are the two fundamental building blocks of object-oriented programming.\n",
    "They allow us to create reusable code that can be easily manipulated and modified."
   ]
  },
  {
   "cell_type": "markdown",
   "id": "272d6b03-d0bb-443c-bca6-98d5b9a22a86",
   "metadata": {},
   "source": [
    "Question2\n",
    "Answer2:"
   ]
  },
  {
   "cell_type": "markdown",
   "id": "eafd9394-466e-4aea-845e-29afcc6f8b4c",
   "metadata": {},
   "source": [
    "The four pillars of OOPs are abstraction, encapsulation, inheritance, and polymorphism.\n",
    "\n",
    "->Abstraction is the process of hiding the implementation details of an object from the user.This allows the user to focus on \n",
    "the object's functionality, without having to worry about how it works.\n",
    "\n",
    "->Encapsulation is the bundling of data and methods into a single unit. This makes the code more modular and easier to maintain.\n",
    "->Inheritance is the ability of one class to inherit the properties and methods of another class. This allows for code reuse \n",
    "and makes the code more efficient.\n",
    "->Polymorphism is the ability of an object to take on multiple forms. This allows for code to be more flexible and adaptable."
   ]
  },
  {
   "cell_type": "markdown",
   "id": "0629c246-2c60-4bfe-92e7-08006cd0ecec",
   "metadata": {},
   "source": [
    "Question3\n",
    "Answer3:"
   ]
  },
  {
   "cell_type": "markdown",
   "id": "250ffccb-a73d-4985-a27f-25d6ab776b64",
   "metadata": {},
   "source": [
    "The __init__() function is a special method in Python that is used to initialize the attributes of an object when it is created. It is called automatically when an object is created, and it is often used to set the default values for the object's attributes.\n",
    "\n",
    "For example, the following code defines a class called Car with two attributes: make and model:\n"
   ]
  },
  {
   "cell_type": "code",
   "execution_count": 1,
   "id": "ea426eee-764d-453e-b434-b05a7a0c962e",
   "metadata": {},
   "outputs": [],
   "source": [
    "class car:\n",
    "    \n",
    "    def __init__(self,make,model):\n",
    "        self.make = make\n",
    "        self.model = model"
   ]
  },
  {
   "cell_type": "code",
   "execution_count": 3,
   "id": "f8643abe-01b9-49fd-999c-b7ed7fff2d4f",
   "metadata": {},
   "outputs": [],
   "source": [
    "car1 = car(\"Toyata\",2023)"
   ]
  },
  {
   "cell_type": "code",
   "execution_count": 4,
   "id": "89706832-fe7a-4563-ada8-db69d1474441",
   "metadata": {},
   "outputs": [
    {
     "data": {
      "text/plain": [
       "'Toyata'"
      ]
     },
     "execution_count": 4,
     "metadata": {},
     "output_type": "execute_result"
    }
   ],
   "source": [
    "car1.make"
   ]
  },
  {
   "cell_type": "markdown",
   "id": "5e88f439-b18c-434a-b523-619db839827d",
   "metadata": {},
   "source": [
    "Question4\n",
    "Answer4:"
   ]
  },
  {
   "cell_type": "markdown",
   "id": "492e701a-ff9f-4c80-8656-84dbd8e7207b",
   "metadata": {},
   "source": [
    "->The self keyword is used in object-oriented programming (OOP) to refer to the current instance of the class. It is used to access\n",
    "the attributes and methods of the class from within the class's methods.\n",
    "\n",
    "->The self keyword is a convention that is used in many object-oriented programming languages. It is not a keyword in Python, but it is \n",
    "a good programming practice to use it.\n",
    "\n",
    "->In Python, methods are defined within a class, and they are called on objects of the class. When a method is called on an object, the self keyword is automatically passed as the first argument to the method. This allows the method to access the attributes and methods of the object that it is being called on.\n",
    "\n"
   ]
  },
  {
   "cell_type": "code",
   "execution_count": 6,
   "id": "9bbfac18-de8f-49b1-8440-47e9621d1530",
   "metadata": {},
   "outputs": [],
   "source": [
    "class car:\n",
    "    \n",
    "    def __init__(self,make):\n",
    "        self.make = make\n",
    "    \n",
    "    def get_make(self):\n",
    "        return self.make\n",
    "    "
   ]
  },
  {
   "cell_type": "code",
   "execution_count": 7,
   "id": "5befdfe9-a1ae-4cb0-b02b-34cee3407542",
   "metadata": {},
   "outputs": [],
   "source": [
    "car2 = car(\"BMW\")"
   ]
  },
  {
   "cell_type": "code",
   "execution_count": 9,
   "id": "3d59a29e-3355-4f9a-91eb-93e48ffe734f",
   "metadata": {},
   "outputs": [
    {
     "data": {
      "text/plain": [
       "'BMW'"
      ]
     },
     "execution_count": 9,
     "metadata": {},
     "output_type": "execute_result"
    }
   ],
   "source": [
    "car2.get_make()"
   ]
  },
  {
   "cell_type": "markdown",
   "id": "7018deef-227c-4022-a885-ea0e364444ef",
   "metadata": {},
   "source": [
    "Question5\n",
    "Answer5:"
   ]
  },
  {
   "cell_type": "markdown",
   "id": "e4b4e056-77af-472a-bf1b-98402f9e48cd",
   "metadata": {},
   "source": [
    "->Inheritance is a concept in object-oriented programming (OOP) that allows a new class to inherit the properties and behaviors of an existing class. This means that the new class can reuse the code of the existing class, which can save time and effort.\n",
    "\n",
    "There are three types of inheritance: single inheritance,multiple inheritance and multilevel inheritance.\n",
    "\n",
    "->Single inheritance occurs when a new class inherits from a single existing class. For example, a class called Dog could inherit from a class called Animal. This would mean that the Dog class would have all of the properties and behaviors of the Animal class, plus any additional properties and behaviors that are specific to dogs.\n",
    "\n",
    "->Multiple inheritance occurs when a new class inherits from multiple existing classes. This is less common than single inheritance, but it can be useful in some cases. For example, a class called Car could inherit from classes called Vehicle and Transportation. This would mean that the Car class would have all of the properties and behaviors of the Vehicle and Transportation classes, plus any additional properties and behaviors that are specific to cars.\n",
    "\n",
    "->Multilevel Inheritance in Python is a type of Inheritance that involves inheriting a class that has already inherited some other class. That means the derived/subclass class inherits the features of the base class/parent class, and the new derived class inherits the features of the derived class.\n",
    "\n"
   ]
  }
 ],
 "metadata": {
  "kernelspec": {
   "display_name": "Python 3 (ipykernel)",
   "language": "python",
   "name": "python3"
  },
  "language_info": {
   "codemirror_mode": {
    "name": "ipython",
    "version": 3
   },
   "file_extension": ".py",
   "mimetype": "text/x-python",
   "name": "python",
   "nbconvert_exporter": "python",
   "pygments_lexer": "ipython3",
   "version": "3.10.8"
  }
 },
 "nbformat": 4,
 "nbformat_minor": 5
}
