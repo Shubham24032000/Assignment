{
 "cells": [
  {
   "cell_type": "markdown",
   "id": "07a177f0-94c6-4a8e-9de3-d1a987361103",
   "metadata": {},
   "source": [
    "Question1\n",
    "Answer1:"
   ]
  },
  {
   "cell_type": "markdown",
   "id": "0b4edf73-228e-4d95-a903-90c77d74c123",
   "metadata": {},
   "source": [
    " here are five functions of the pandas library with execution:\n",
    " \n",
    " ->read_csv():This function reads a comma-separated values (CSV) file into a DataFrame."
   ]
  },
  {
   "cell_type": "code",
   "execution_count": 6,
   "id": "20fb76a2-b7cf-4336-992a-843328db6af9",
   "metadata": {},
   "outputs": [],
   "source": [
    "import pandas as pd\n",
    "\n",
    "df = pd.read_csv('https://raw.githubusercontent.com/datasciencedojo/datasets/master/titanic.csv')\n",
    "\n",
    "\n"
   ]
  },
  {
   "cell_type": "code",
   "execution_count": 8,
   "id": "30f1276f-35a2-4c7f-abab-bcfae372ab5d",
   "metadata": {},
   "outputs": [
    {
     "data": {
      "text/html": [
       "<div>\n",
       "<style scoped>\n",
       "    .dataframe tbody tr th:only-of-type {\n",
       "        vertical-align: middle;\n",
       "    }\n",
       "\n",
       "    .dataframe tbody tr th {\n",
       "        vertical-align: top;\n",
       "    }\n",
       "\n",
       "    .dataframe thead th {\n",
       "        text-align: right;\n",
       "    }\n",
       "</style>\n",
       "<table border=\"1\" class=\"dataframe\">\n",
       "  <thead>\n",
       "    <tr style=\"text-align: right;\">\n",
       "      <th></th>\n",
       "      <th>PassengerId</th>\n",
       "      <th>Survived</th>\n",
       "      <th>Pclass</th>\n",
       "      <th>Name</th>\n",
       "      <th>Sex</th>\n",
       "      <th>Age</th>\n",
       "      <th>SibSp</th>\n",
       "      <th>Parch</th>\n",
       "      <th>Ticket</th>\n",
       "      <th>Fare</th>\n",
       "      <th>Cabin</th>\n",
       "      <th>Embarked</th>\n",
       "    </tr>\n",
       "  </thead>\n",
       "  <tbody>\n",
       "    <tr>\n",
       "      <th>0</th>\n",
       "      <td>1</td>\n",
       "      <td>0</td>\n",
       "      <td>3</td>\n",
       "      <td>Braund, Mr. Owen Harris</td>\n",
       "      <td>male</td>\n",
       "      <td>22.0</td>\n",
       "      <td>1</td>\n",
       "      <td>0</td>\n",
       "      <td>A/5 21171</td>\n",
       "      <td>7.2500</td>\n",
       "      <td>NaN</td>\n",
       "      <td>S</td>\n",
       "    </tr>\n",
       "    <tr>\n",
       "      <th>1</th>\n",
       "      <td>2</td>\n",
       "      <td>1</td>\n",
       "      <td>1</td>\n",
       "      <td>Cumings, Mrs. John Bradley (Florence Briggs Th...</td>\n",
       "      <td>female</td>\n",
       "      <td>38.0</td>\n",
       "      <td>1</td>\n",
       "      <td>0</td>\n",
       "      <td>PC 17599</td>\n",
       "      <td>71.2833</td>\n",
       "      <td>C85</td>\n",
       "      <td>C</td>\n",
       "    </tr>\n",
       "    <tr>\n",
       "      <th>2</th>\n",
       "      <td>3</td>\n",
       "      <td>1</td>\n",
       "      <td>3</td>\n",
       "      <td>Heikkinen, Miss. Laina</td>\n",
       "      <td>female</td>\n",
       "      <td>26.0</td>\n",
       "      <td>0</td>\n",
       "      <td>0</td>\n",
       "      <td>STON/O2. 3101282</td>\n",
       "      <td>7.9250</td>\n",
       "      <td>NaN</td>\n",
       "      <td>S</td>\n",
       "    </tr>\n",
       "    <tr>\n",
       "      <th>3</th>\n",
       "      <td>4</td>\n",
       "      <td>1</td>\n",
       "      <td>1</td>\n",
       "      <td>Futrelle, Mrs. Jacques Heath (Lily May Peel)</td>\n",
       "      <td>female</td>\n",
       "      <td>35.0</td>\n",
       "      <td>1</td>\n",
       "      <td>0</td>\n",
       "      <td>113803</td>\n",
       "      <td>53.1000</td>\n",
       "      <td>C123</td>\n",
       "      <td>S</td>\n",
       "    </tr>\n",
       "    <tr>\n",
       "      <th>4</th>\n",
       "      <td>5</td>\n",
       "      <td>0</td>\n",
       "      <td>3</td>\n",
       "      <td>Allen, Mr. William Henry</td>\n",
       "      <td>male</td>\n",
       "      <td>35.0</td>\n",
       "      <td>0</td>\n",
       "      <td>0</td>\n",
       "      <td>373450</td>\n",
       "      <td>8.0500</td>\n",
       "      <td>NaN</td>\n",
       "      <td>S</td>\n",
       "    </tr>\n",
       "  </tbody>\n",
       "</table>\n",
       "</div>"
      ],
      "text/plain": [
       "   PassengerId  Survived  Pclass  \\\n",
       "0            1         0       3   \n",
       "1            2         1       1   \n",
       "2            3         1       3   \n",
       "3            4         1       1   \n",
       "4            5         0       3   \n",
       "\n",
       "                                                Name     Sex   Age  SibSp  \\\n",
       "0                            Braund, Mr. Owen Harris    male  22.0      1   \n",
       "1  Cumings, Mrs. John Bradley (Florence Briggs Th...  female  38.0      1   \n",
       "2                             Heikkinen, Miss. Laina  female  26.0      0   \n",
       "3       Futrelle, Mrs. Jacques Heath (Lily May Peel)  female  35.0      1   \n",
       "4                           Allen, Mr. William Henry    male  35.0      0   \n",
       "\n",
       "   Parch            Ticket     Fare Cabin Embarked  \n",
       "0      0         A/5 21171   7.2500   NaN        S  \n",
       "1      0          PC 17599  71.2833   C85        C  \n",
       "2      0  STON/O2. 3101282   7.9250   NaN        S  \n",
       "3      0            113803  53.1000  C123        S  \n",
       "4      0            373450   8.0500   NaN        S  "
      ]
     },
     "execution_count": 8,
     "metadata": {},
     "output_type": "execute_result"
    }
   ],
   "source": [
    "df.head()"
   ]
  },
  {
   "cell_type": "markdown",
   "id": "b30f1c65-5c90-4225-b039-451229129ef4",
   "metadata": {},
   "source": [
    "->to_csv():This function writes a DataFrame to a CSV file."
   ]
  },
  {
   "cell_type": "code",
   "execution_count": 9,
   "id": "c790b093-6f4e-46a6-841a-4bfe653f6103",
   "metadata": {},
   "outputs": [],
   "source": [
    "import pandas as pd\n",
    "df = pd.read_csv('https://raw.githubusercontent.com/datasciencedojo/datasets/master/titanic.csv')\n",
    "df.to_csv('student.csv')"
   ]
  },
  {
   "cell_type": "markdown",
   "id": "232b1016-1aec-406e-b82a-60a7eff740c0",
   "metadata": {},
   "source": [
    "->describe():This function provides a summary of a DataFrame, including the number of rows, columns, and the mean, standard deviation,\n",
    "minimum, and maximum values for each column."
   ]
  },
  {
   "cell_type": "code",
   "execution_count": 10,
   "id": "1fa7362a-1d5f-48e6-87b6-c3e8da2b351b",
   "metadata": {},
   "outputs": [
    {
     "data": {
      "text/html": [
       "<div>\n",
       "<style scoped>\n",
       "    .dataframe tbody tr th:only-of-type {\n",
       "        vertical-align: middle;\n",
       "    }\n",
       "\n",
       "    .dataframe tbody tr th {\n",
       "        vertical-align: top;\n",
       "    }\n",
       "\n",
       "    .dataframe thead th {\n",
       "        text-align: right;\n",
       "    }\n",
       "</style>\n",
       "<table border=\"1\" class=\"dataframe\">\n",
       "  <thead>\n",
       "    <tr style=\"text-align: right;\">\n",
       "      <th></th>\n",
       "      <th>PassengerId</th>\n",
       "      <th>Survived</th>\n",
       "      <th>Pclass</th>\n",
       "      <th>Age</th>\n",
       "      <th>SibSp</th>\n",
       "      <th>Parch</th>\n",
       "      <th>Fare</th>\n",
       "    </tr>\n",
       "  </thead>\n",
       "  <tbody>\n",
       "    <tr>\n",
       "      <th>count</th>\n",
       "      <td>891.000000</td>\n",
       "      <td>891.000000</td>\n",
       "      <td>891.000000</td>\n",
       "      <td>714.000000</td>\n",
       "      <td>891.000000</td>\n",
       "      <td>891.000000</td>\n",
       "      <td>891.000000</td>\n",
       "    </tr>\n",
       "    <tr>\n",
       "      <th>mean</th>\n",
       "      <td>446.000000</td>\n",
       "      <td>0.383838</td>\n",
       "      <td>2.308642</td>\n",
       "      <td>29.699118</td>\n",
       "      <td>0.523008</td>\n",
       "      <td>0.381594</td>\n",
       "      <td>32.204208</td>\n",
       "    </tr>\n",
       "    <tr>\n",
       "      <th>std</th>\n",
       "      <td>257.353842</td>\n",
       "      <td>0.486592</td>\n",
       "      <td>0.836071</td>\n",
       "      <td>14.526497</td>\n",
       "      <td>1.102743</td>\n",
       "      <td>0.806057</td>\n",
       "      <td>49.693429</td>\n",
       "    </tr>\n",
       "    <tr>\n",
       "      <th>min</th>\n",
       "      <td>1.000000</td>\n",
       "      <td>0.000000</td>\n",
       "      <td>1.000000</td>\n",
       "      <td>0.420000</td>\n",
       "      <td>0.000000</td>\n",
       "      <td>0.000000</td>\n",
       "      <td>0.000000</td>\n",
       "    </tr>\n",
       "    <tr>\n",
       "      <th>25%</th>\n",
       "      <td>223.500000</td>\n",
       "      <td>0.000000</td>\n",
       "      <td>2.000000</td>\n",
       "      <td>20.125000</td>\n",
       "      <td>0.000000</td>\n",
       "      <td>0.000000</td>\n",
       "      <td>7.910400</td>\n",
       "    </tr>\n",
       "    <tr>\n",
       "      <th>50%</th>\n",
       "      <td>446.000000</td>\n",
       "      <td>0.000000</td>\n",
       "      <td>3.000000</td>\n",
       "      <td>28.000000</td>\n",
       "      <td>0.000000</td>\n",
       "      <td>0.000000</td>\n",
       "      <td>14.454200</td>\n",
       "    </tr>\n",
       "    <tr>\n",
       "      <th>75%</th>\n",
       "      <td>668.500000</td>\n",
       "      <td>1.000000</td>\n",
       "      <td>3.000000</td>\n",
       "      <td>38.000000</td>\n",
       "      <td>1.000000</td>\n",
       "      <td>0.000000</td>\n",
       "      <td>31.000000</td>\n",
       "    </tr>\n",
       "    <tr>\n",
       "      <th>max</th>\n",
       "      <td>891.000000</td>\n",
       "      <td>1.000000</td>\n",
       "      <td>3.000000</td>\n",
       "      <td>80.000000</td>\n",
       "      <td>8.000000</td>\n",
       "      <td>6.000000</td>\n",
       "      <td>512.329200</td>\n",
       "    </tr>\n",
       "  </tbody>\n",
       "</table>\n",
       "</div>"
      ],
      "text/plain": [
       "       PassengerId    Survived      Pclass         Age       SibSp  \\\n",
       "count   891.000000  891.000000  891.000000  714.000000  891.000000   \n",
       "mean    446.000000    0.383838    2.308642   29.699118    0.523008   \n",
       "std     257.353842    0.486592    0.836071   14.526497    1.102743   \n",
       "min       1.000000    0.000000    1.000000    0.420000    0.000000   \n",
       "25%     223.500000    0.000000    2.000000   20.125000    0.000000   \n",
       "50%     446.000000    0.000000    3.000000   28.000000    0.000000   \n",
       "75%     668.500000    1.000000    3.000000   38.000000    1.000000   \n",
       "max     891.000000    1.000000    3.000000   80.000000    8.000000   \n",
       "\n",
       "            Parch        Fare  \n",
       "count  891.000000  891.000000  \n",
       "mean     0.381594   32.204208  \n",
       "std      0.806057   49.693429  \n",
       "min      0.000000    0.000000  \n",
       "25%      0.000000    7.910400  \n",
       "50%      0.000000   14.454200  \n",
       "75%      0.000000   31.000000  \n",
       "max      6.000000  512.329200  "
      ]
     },
     "execution_count": 10,
     "metadata": {},
     "output_type": "execute_result"
    }
   ],
   "source": [
    "df.describe()\n"
   ]
  },
  {
   "cell_type": "markdown",
   "id": "8ec28baf-be66-4d13-a378-9763cb6c1b4b",
   "metadata": {},
   "source": [
    "->filter():This function selects rows from a DataFrame that meet certain criteria."
   ]
  },
  {
   "cell_type": "code",
   "execution_count": 11,
   "id": "2911eb7d-f72a-4430-975f-1338e1903ad2",
   "metadata": {},
   "outputs": [],
   "source": [
    "df = df[df['Fare'] > 50]\n"
   ]
  },
  {
   "cell_type": "code",
   "execution_count": 12,
   "id": "b15c360f-d52b-457d-b87b-ab4cca3d4dbd",
   "metadata": {},
   "outputs": [
    {
     "data": {
      "text/html": [
       "<div>\n",
       "<style scoped>\n",
       "    .dataframe tbody tr th:only-of-type {\n",
       "        vertical-align: middle;\n",
       "    }\n",
       "\n",
       "    .dataframe tbody tr th {\n",
       "        vertical-align: top;\n",
       "    }\n",
       "\n",
       "    .dataframe thead th {\n",
       "        text-align: right;\n",
       "    }\n",
       "</style>\n",
       "<table border=\"1\" class=\"dataframe\">\n",
       "  <thead>\n",
       "    <tr style=\"text-align: right;\">\n",
       "      <th></th>\n",
       "      <th>PassengerId</th>\n",
       "      <th>Survived</th>\n",
       "      <th>Pclass</th>\n",
       "      <th>Name</th>\n",
       "      <th>Sex</th>\n",
       "      <th>Age</th>\n",
       "      <th>SibSp</th>\n",
       "      <th>Parch</th>\n",
       "      <th>Ticket</th>\n",
       "      <th>Fare</th>\n",
       "      <th>Cabin</th>\n",
       "      <th>Embarked</th>\n",
       "    </tr>\n",
       "  </thead>\n",
       "  <tbody>\n",
       "    <tr>\n",
       "      <th>1</th>\n",
       "      <td>2</td>\n",
       "      <td>1</td>\n",
       "      <td>1</td>\n",
       "      <td>Cumings, Mrs. John Bradley (Florence Briggs Th...</td>\n",
       "      <td>female</td>\n",
       "      <td>38.0</td>\n",
       "      <td>1</td>\n",
       "      <td>0</td>\n",
       "      <td>PC 17599</td>\n",
       "      <td>71.2833</td>\n",
       "      <td>C85</td>\n",
       "      <td>C</td>\n",
       "    </tr>\n",
       "    <tr>\n",
       "      <th>3</th>\n",
       "      <td>4</td>\n",
       "      <td>1</td>\n",
       "      <td>1</td>\n",
       "      <td>Futrelle, Mrs. Jacques Heath (Lily May Peel)</td>\n",
       "      <td>female</td>\n",
       "      <td>35.0</td>\n",
       "      <td>1</td>\n",
       "      <td>0</td>\n",
       "      <td>113803</td>\n",
       "      <td>53.1000</td>\n",
       "      <td>C123</td>\n",
       "      <td>S</td>\n",
       "    </tr>\n",
       "    <tr>\n",
       "      <th>6</th>\n",
       "      <td>7</td>\n",
       "      <td>0</td>\n",
       "      <td>1</td>\n",
       "      <td>McCarthy, Mr. Timothy J</td>\n",
       "      <td>male</td>\n",
       "      <td>54.0</td>\n",
       "      <td>0</td>\n",
       "      <td>0</td>\n",
       "      <td>17463</td>\n",
       "      <td>51.8625</td>\n",
       "      <td>E46</td>\n",
       "      <td>S</td>\n",
       "    </tr>\n",
       "    <tr>\n",
       "      <th>27</th>\n",
       "      <td>28</td>\n",
       "      <td>0</td>\n",
       "      <td>1</td>\n",
       "      <td>Fortune, Mr. Charles Alexander</td>\n",
       "      <td>male</td>\n",
       "      <td>19.0</td>\n",
       "      <td>3</td>\n",
       "      <td>2</td>\n",
       "      <td>19950</td>\n",
       "      <td>263.0000</td>\n",
       "      <td>C23 C25 C27</td>\n",
       "      <td>S</td>\n",
       "    </tr>\n",
       "    <tr>\n",
       "      <th>31</th>\n",
       "      <td>32</td>\n",
       "      <td>1</td>\n",
       "      <td>1</td>\n",
       "      <td>Spencer, Mrs. William Augustus (Marie Eugenie)</td>\n",
       "      <td>female</td>\n",
       "      <td>NaN</td>\n",
       "      <td>1</td>\n",
       "      <td>0</td>\n",
       "      <td>PC 17569</td>\n",
       "      <td>146.5208</td>\n",
       "      <td>B78</td>\n",
       "      <td>C</td>\n",
       "    </tr>\n",
       "    <tr>\n",
       "      <th>...</th>\n",
       "      <td>...</td>\n",
       "      <td>...</td>\n",
       "      <td>...</td>\n",
       "      <td>...</td>\n",
       "      <td>...</td>\n",
       "      <td>...</td>\n",
       "      <td>...</td>\n",
       "      <td>...</td>\n",
       "      <td>...</td>\n",
       "      <td>...</td>\n",
       "      <td>...</td>\n",
       "      <td>...</td>\n",
       "    </tr>\n",
       "    <tr>\n",
       "      <th>856</th>\n",
       "      <td>857</td>\n",
       "      <td>1</td>\n",
       "      <td>1</td>\n",
       "      <td>Wick, Mrs. George Dennick (Mary Hitchcock)</td>\n",
       "      <td>female</td>\n",
       "      <td>45.0</td>\n",
       "      <td>1</td>\n",
       "      <td>1</td>\n",
       "      <td>36928</td>\n",
       "      <td>164.8667</td>\n",
       "      <td>NaN</td>\n",
       "      <td>S</td>\n",
       "    </tr>\n",
       "    <tr>\n",
       "      <th>863</th>\n",
       "      <td>864</td>\n",
       "      <td>0</td>\n",
       "      <td>3</td>\n",
       "      <td>Sage, Miss. Dorothy Edith \"Dolly\"</td>\n",
       "      <td>female</td>\n",
       "      <td>NaN</td>\n",
       "      <td>8</td>\n",
       "      <td>2</td>\n",
       "      <td>CA. 2343</td>\n",
       "      <td>69.5500</td>\n",
       "      <td>NaN</td>\n",
       "      <td>S</td>\n",
       "    </tr>\n",
       "    <tr>\n",
       "      <th>867</th>\n",
       "      <td>868</td>\n",
       "      <td>0</td>\n",
       "      <td>1</td>\n",
       "      <td>Roebling, Mr. Washington Augustus II</td>\n",
       "      <td>male</td>\n",
       "      <td>31.0</td>\n",
       "      <td>0</td>\n",
       "      <td>0</td>\n",
       "      <td>PC 17590</td>\n",
       "      <td>50.4958</td>\n",
       "      <td>A24</td>\n",
       "      <td>S</td>\n",
       "    </tr>\n",
       "    <tr>\n",
       "      <th>871</th>\n",
       "      <td>872</td>\n",
       "      <td>1</td>\n",
       "      <td>1</td>\n",
       "      <td>Beckwith, Mrs. Richard Leonard (Sallie Monypeny)</td>\n",
       "      <td>female</td>\n",
       "      <td>47.0</td>\n",
       "      <td>1</td>\n",
       "      <td>1</td>\n",
       "      <td>11751</td>\n",
       "      <td>52.5542</td>\n",
       "      <td>D35</td>\n",
       "      <td>S</td>\n",
       "    </tr>\n",
       "    <tr>\n",
       "      <th>879</th>\n",
       "      <td>880</td>\n",
       "      <td>1</td>\n",
       "      <td>1</td>\n",
       "      <td>Potter, Mrs. Thomas Jr (Lily Alexenia Wilson)</td>\n",
       "      <td>female</td>\n",
       "      <td>56.0</td>\n",
       "      <td>0</td>\n",
       "      <td>1</td>\n",
       "      <td>11767</td>\n",
       "      <td>83.1583</td>\n",
       "      <td>C50</td>\n",
       "      <td>C</td>\n",
       "    </tr>\n",
       "  </tbody>\n",
       "</table>\n",
       "<p>160 rows × 12 columns</p>\n",
       "</div>"
      ],
      "text/plain": [
       "     PassengerId  Survived  Pclass  \\\n",
       "1              2         1       1   \n",
       "3              4         1       1   \n",
       "6              7         0       1   \n",
       "27            28         0       1   \n",
       "31            32         1       1   \n",
       "..           ...       ...     ...   \n",
       "856          857         1       1   \n",
       "863          864         0       3   \n",
       "867          868         0       1   \n",
       "871          872         1       1   \n",
       "879          880         1       1   \n",
       "\n",
       "                                                  Name     Sex   Age  SibSp  \\\n",
       "1    Cumings, Mrs. John Bradley (Florence Briggs Th...  female  38.0      1   \n",
       "3         Futrelle, Mrs. Jacques Heath (Lily May Peel)  female  35.0      1   \n",
       "6                              McCarthy, Mr. Timothy J    male  54.0      0   \n",
       "27                      Fortune, Mr. Charles Alexander    male  19.0      3   \n",
       "31      Spencer, Mrs. William Augustus (Marie Eugenie)  female   NaN      1   \n",
       "..                                                 ...     ...   ...    ...   \n",
       "856         Wick, Mrs. George Dennick (Mary Hitchcock)  female  45.0      1   \n",
       "863                  Sage, Miss. Dorothy Edith \"Dolly\"  female   NaN      8   \n",
       "867               Roebling, Mr. Washington Augustus II    male  31.0      0   \n",
       "871   Beckwith, Mrs. Richard Leonard (Sallie Monypeny)  female  47.0      1   \n",
       "879      Potter, Mrs. Thomas Jr (Lily Alexenia Wilson)  female  56.0      0   \n",
       "\n",
       "     Parch    Ticket      Fare        Cabin Embarked  \n",
       "1        0  PC 17599   71.2833          C85        C  \n",
       "3        0    113803   53.1000         C123        S  \n",
       "6        0     17463   51.8625          E46        S  \n",
       "27       2     19950  263.0000  C23 C25 C27        S  \n",
       "31       0  PC 17569  146.5208          B78        C  \n",
       "..     ...       ...       ...          ...      ...  \n",
       "856      1     36928  164.8667          NaN        S  \n",
       "863      2  CA. 2343   69.5500          NaN        S  \n",
       "867      0  PC 17590   50.4958          A24        S  \n",
       "871      1     11751   52.5542          D35        S  \n",
       "879      1     11767   83.1583          C50        C  \n",
       "\n",
       "[160 rows x 12 columns]"
      ]
     },
     "execution_count": 12,
     "metadata": {},
     "output_type": "execute_result"
    }
   ],
   "source": [
    "df"
   ]
  },
  {
   "cell_type": "markdown",
   "id": "934749b0-51ea-4b97-bee8-f1b5b65c106a",
   "metadata": {},
   "source": [
    "->groupby():This function groups rows in a DataFrame together based on a common value and then performs an operation on each group."
   ]
  },
  {
   "cell_type": "code",
   "execution_count": 13,
   "id": "c5f34ff6-ac26-4db6-be08-b00ed363ea8f",
   "metadata": {},
   "outputs": [
    {
     "name": "stdout",
     "output_type": "stream",
     "text": [
      "Fare\n",
      "50.4958      50.4958\n",
      "51.4792      51.4792\n",
      "51.8625      51.8625\n",
      "52.0000      52.0000\n",
      "52.5542      52.5542\n",
      "              ...   \n",
      "227.5250    227.5250\n",
      "247.5208    247.5208\n",
      "262.3750    262.3750\n",
      "263.0000    263.0000\n",
      "512.3292    512.3292\n",
      "Name: Fare, Length: 64, dtype: float64\n"
     ]
    }
   ],
   "source": [
    "grouped_df = df.groupby('Fare')\n",
    "\n",
    "average_values = grouped_df['Fare'].mean()\n",
    "\n",
    "print(average_values)\n"
   ]
  },
  {
   "cell_type": "markdown",
   "id": "e81c12e2-b3c6-4ef9-84ae-63322e322c54",
   "metadata": {},
   "source": [
    "Question2\n",
    "Answer2"
   ]
  },
  {
   "cell_type": "code",
   "execution_count": 17,
   "id": "a1770fbc-c814-4940-9132-4ba5d69c9fb7",
   "metadata": {},
   "outputs": [
    {
     "name": "stdout",
     "output_type": "stream",
     "text": [
      "   A  B  C\n",
      "1  1  4  7\n",
      "3  2  5  8\n",
      "5  3  6  9\n"
     ]
    }
   ],
   "source": [
    "def reindex_df(df):\n",
    "    new_index = list(range(1, len(df) * 2, 2))\n",
    "    df.index = new_index\n",
    "    return df\n",
    "\n",
    "\n",
    "df = pd.DataFrame({'A': [1, 2, 3], 'B': [4, 5, 6], 'C': [7, 8, 9]})\n",
    "\n",
    "reindexed_df = reindex_df(df)\n",
    "\n",
    "print(reindexed_df)\n"
   ]
  },
  {
   "cell_type": "markdown",
   "id": "ae9a4d6a-dc50-4241-9f73-5d2911d2aefc",
   "metadata": {},
   "source": [
    "Question3\n",
    "Answer3:"
   ]
  },
  {
   "cell_type": "code",
   "execution_count": 18,
   "id": "c40f655f-26d2-4594-91f0-e1268ee2d2fd",
   "metadata": {},
   "outputs": [
    {
     "name": "stdout",
     "output_type": "stream",
     "text": [
      "60\n"
     ]
    }
   ],
   "source": [
    "def sum_first_three_values(df):\n",
    "    first_three_values = df['Values'].head(3).sum()\n",
    "    print(first_three_values)\n",
    "\n",
    "\n",
    "df = pd.DataFrame({'Values': [10, 20, 30, 40, 50]})\n",
    "\n",
    "sum_first_three_values(df)\n"
   ]
  },
  {
   "cell_type": "markdown",
   "id": "acd74f8c-95ff-4147-aebc-cdd554002783",
   "metadata": {},
   "source": [
    "Question4\n",
    "Answer4:"
   ]
  },
  {
   "cell_type": "code",
   "execution_count": 20,
   "id": "c1f43058-482d-4ec0-b5fe-923dabfb63af",
   "metadata": {},
   "outputs": [
    {
     "name": "stdout",
     "output_type": "stream",
     "text": [
      "                       Text  Word_Count\n",
      "0        This is a number1.           4\n",
      "1  This is another number2.           4\n",
      "2  This is a third number3.           5\n"
     ]
    }
   ],
   "source": [
    "def create_word_count_column(df):\n",
    "    df['Word_Count'] = df['Text'].str.split().str.len()\n",
    "    return df\n",
    "\n",
    "\n",
    "df = pd.DataFrame({'Text': ['This is a number1.', 'This is another number2.', 'This is a third number3.']})\n",
    "\n",
    "df = create_word_count_column(df)\n",
    "\n",
    "print(df)\n"
   ]
  },
  {
   "cell_type": "markdown",
   "id": "cbd3c345-21b0-4543-9669-8474ec455f5d",
   "metadata": {},
   "source": [
    "Question5\n",
    "Answer5:"
   ]
  },
  {
   "cell_type": "markdown",
   "id": "812b7368-7e52-408f-b003-ba634220dac6",
   "metadata": {},
   "source": [
    "->The DataFrame.size() and DataFrame.shape() attributes in pandas are both used to get the number of elements in a DataFrame. However, they\n",
    "do so in different ways.\n",
    "\n",
    "->DataFrame.size() returns the total number of elements in the DataFrame, which is calculated by multiplying the number of rows by the \n",
    "number of columns. For example, if a DataFrame has 3 rows and 4 columns, then DataFrame.size() will return 12.\n",
    "\n",
    "->DataFrame.shape() returns a tuple that represents the dimensions of the DataFrame. The first element of the tuple is the number of rows, \n",
    "and the second element is the number of columns. For example, if a DataFrame has 3 rows and 4 columns, then DataFrame.shape() will return \n",
    "the tuple (3, 4).\n",
    "\n",
    "->In other words, DataFrame.size() returns the total number of elements in the DataFrame, while DataFrame.shape() returns the number of \n",
    "rows and columns in the DataFrame."
   ]
  },
  {
   "cell_type": "code",
   "execution_count": 21,
   "id": "fd0aa413-922f-4ae7-8f93-9c498129d76f",
   "metadata": {},
   "outputs": [
    {
     "name": "stdout",
     "output_type": "stream",
     "text": [
      "9\n",
      "(3, 3)\n"
     ]
    }
   ],
   "source": [
    "import pandas as pd\n",
    "\n",
    "df = pd.DataFrame({'A': [1, 2, 3], 'B': [4, 5, 6], 'C': [7, 8, 9]})\n",
    "\n",
    "print(df.size)\n",
    "\n",
    "\n",
    "print(df.shape)\n",
    "\n"
   ]
  },
  {
   "cell_type": "markdown",
   "id": "ec60ef6c-fa7d-4a37-b21d-7a1e99fe3a4a",
   "metadata": {},
   "source": [
    "Question6\n",
    "Answer6:"
   ]
  },
  {
   "cell_type": "markdown",
   "id": "8184dbe1-757e-4370-b0e4-7521858c4aff",
   "metadata": {},
   "source": [
    "->The read_excel() function in pandas is used to read an Excel file. It takes the path to the Excel file as its first argument, and it can \n",
    "also take other arguments, such as the sheet name to read, the index column, and the dtypes of the columns."
   ]
  },
  {
   "cell_type": "markdown",
   "id": "46086a62-e9af-4323-a6bb-87aa41149e25",
   "metadata": {},
   "source": [
    "Question7\n",
    "Answer7:"
   ]
  },
  {
   "cell_type": "code",
   "execution_count": 22,
   "id": "a105bd0f-8d31-464a-a379-139ab296b132",
   "metadata": {},
   "outputs": [
    {
     "name": "stdout",
     "output_type": "stream",
     "text": [
      "               Email Username\n",
      "0  shubham@gmail.com  shubham\n",
      "1   tiwari@gmail.com   tiwari\n",
      "2   pandey@gmail.com   pandey\n"
     ]
    }
   ],
   "source": [
    "def create_username_column(df):\n",
    "    df['Username'] = df['Email'].str.split('@').str[0]\n",
    "    return df\n",
    "\n",
    "\n",
    "df = pd.DataFrame({'Email': ['shubham@gmail.com', 'tiwari@gmail.com', 'pandey@gmail.com']})\n",
    "\n",
    "df = create_username_column(df)\n",
    "\n",
    "print(df)\n"
   ]
  },
  {
   "cell_type": "markdown",
   "id": "666516c6-2baa-436c-ba0e-cf7862bb13f1",
   "metadata": {},
   "source": [
    "Question8\n",
    "Answer8:"
   ]
  },
  {
   "cell_type": "code",
   "execution_count": 29,
   "id": "436c54ba-aa9a-48db-bbe3-2e66dacccf86",
   "metadata": {},
   "outputs": [
    {
     "data": {
      "text/html": [
       "<div>\n",
       "<style scoped>\n",
       "    .dataframe tbody tr th:only-of-type {\n",
       "        vertical-align: middle;\n",
       "    }\n",
       "\n",
       "    .dataframe tbody tr th {\n",
       "        vertical-align: top;\n",
       "    }\n",
       "\n",
       "    .dataframe thead th {\n",
       "        text-align: right;\n",
       "    }\n",
       "</style>\n",
       "<table border=\"1\" class=\"dataframe\">\n",
       "  <thead>\n",
       "    <tr style=\"text-align: right;\">\n",
       "      <th></th>\n",
       "      <th>A</th>\n",
       "      <th>B</th>\n",
       "      <th>C</th>\n",
       "    </tr>\n",
       "  </thead>\n",
       "  <tbody>\n",
       "    <tr>\n",
       "      <th>1</th>\n",
       "      <td>8</td>\n",
       "      <td>2</td>\n",
       "      <td>7</td>\n",
       "    </tr>\n",
       "    <tr>\n",
       "      <th>2</th>\n",
       "      <td>6</td>\n",
       "      <td>9</td>\n",
       "      <td>4</td>\n",
       "    </tr>\n",
       "    <tr>\n",
       "      <th>4</th>\n",
       "      <td>9</td>\n",
       "      <td>1</td>\n",
       "      <td>2</td>\n",
       "    </tr>\n",
       "  </tbody>\n",
       "</table>\n",
       "</div>"
      ],
      "text/plain": [
       "   A  B  C\n",
       "1  8  2  7\n",
       "2  6  9  4\n",
       "4  9  1  2"
      ]
     },
     "execution_count": 29,
     "metadata": {},
     "output_type": "execute_result"
    }
   ],
   "source": [
    "import pandas as pd\n",
    "\n",
    "df = pd.DataFrame({'A':[3,8,6,2,9], 'B':[5,2,9,3,1],'C':[1,7,4,5,2]})\n",
    "\n",
    "df[(df['A']>5) & (df['B']<10)]"
   ]
  },
  {
   "cell_type": "markdown",
   "id": "f5286e47-46e8-49af-ac0e-54c5cc473140",
   "metadata": {},
   "source": [
    "Question9\n",
    "Answer9:"
   ]
  },
  {
   "cell_type": "code",
   "execution_count": 34,
   "id": "023d7cd6-2474-49b8-989c-02df4677c9ea",
   "metadata": {},
   "outputs": [
    {
     "name": "stdout",
     "output_type": "stream",
     "text": [
      "3.0 3.0 1.5811388300841898\n"
     ]
    }
   ],
   "source": [
    "def calculate_statistics(df):\n",
    "    mean = df['Values'].mean()\n",
    "    median = df['Values'].median()\n",
    "    std = df['Values'].std()\n",
    "\n",
    "df = pd.DataFrame({'Values': [1, 2, 3, 4, 5]})\n",
    "print(mean, median, std)\n"
   ]
  },
  {
   "cell_type": "markdown",
   "id": "e0cf10f0-0b65-48ff-867f-00bd61b5d8bd",
   "metadata": {},
   "source": [
    "Question10\n",
    "Answer10:"
   ]
  },
  {
   "cell_type": "code",
   "execution_count": 46,
   "id": "1994c17b-1422-49d9-8946-5904c811d066",
   "metadata": {},
   "outputs": [
    {
     "name": "stdout",
     "output_type": "stream",
     "text": [
      "   Sales        Date  MovingAverage\n",
      "0      4  2023-01-10            NaN\n",
      "1     23  2023-01-02            NaN\n",
      "2     34  2023-01-03            NaN\n",
      "3     56  2023-01-04            NaN\n",
      "4     78  2023-01-05            NaN\n",
      "5     83  2023-01-06            NaN\n",
      "6     96  2023-01-07      53.428571\n"
     ]
    }
   ],
   "source": [
    "def calculate_moving_average(df):\n",
    "    rolling_mean = df['Sales'].rolling(7).mean()\n",
    "    df['MovingAverage'] = rolling_mean\n",
    "    return df\n",
    "\n",
    "\n",
    "df = pd.DataFrame({'Sales': [4, 23, 34, 56, 78, 83, 96], 'Date': ['2023-01-10', '2023-01-02', '2023-01-03', '2023-01-04', '2023-01-05', '2023-01-06', '2023-01-07']})\n",
    "\n",
    "df = calculate_moving_average(df)\n",
    "\n",
    "print(df)\n"
   ]
  },
  {
   "cell_type": "markdown",
   "id": "2905044f-f11b-4e92-93a3-c6d687f79d98",
   "metadata": {},
   "source": [
    "Question11\n",
    "Answer11:"
   ]
  },
  {
   "cell_type": "code",
   "execution_count": 49,
   "id": "9ebf16df-37ce-492c-ad7f-12131a821330",
   "metadata": {},
   "outputs": [
    {
     "name": "stdout",
     "output_type": "stream",
     "text": [
      "        Date    Weekday\n",
      "0 2023-01-01     Sunday\n",
      "1 2023-01-02     Monday\n",
      "2 2023-01-03    Tuesday\n",
      "3 2023-01-04  Wednesday\n",
      "4 2023-01-05   Thursday\n"
     ]
    }
   ],
   "source": [
    "import datetime\n",
    "\n",
    "def create_weekday_column(df):\n",
    "    df['Weekday'] = df['Date'].dt.day_name()\n",
    "    return df\n",
    "\n",
    "\n",
    "df = pd.DataFrame({'Date': pd.to_datetime(['2023-01-01', '2023-01-02', '2023-01-03', '2023-01-04', '2023-01-05'])})\n",
    "\n",
    "df = create_weekday_column(df)\n",
    "\n",
    "print(df)\n"
   ]
  },
  {
   "cell_type": "markdown",
   "id": "6b39c61f-0773-440d-ba22-6eaad8d5d9a1",
   "metadata": {},
   "source": [
    "Question12\n",
    "Answer12:"
   ]
  },
  {
   "cell_type": "code",
   "execution_count": 57,
   "id": "0b7a89f8-6c12-451d-b638-404264dc1339",
   "metadata": {},
   "outputs": [
    {
     "name": "stdout",
     "output_type": "stream",
     "text": [
      "        Date\n",
      "0 2023-01-01\n",
      "1 2023-01-02\n",
      "3 2023-01-31\n"
     ]
    }
   ],
   "source": [
    "import datetime\n",
    "df = pd.DataFrame({'Date': pd.to_datetime(['2023-01-01', '2023-01-02', '2023-02-01', '2023-01-31'])})\n",
    "\n",
    "def select_dates(df):\n",
    "    return df[(df['Date'] >= '2023-01-01') & (df['Date'] <= '2023-01-31')]\n",
    "\n",
    "filtered_df = select_dates(df)\n",
    "print(filtered_df)\n"
   ]
  },
  {
   "cell_type": "markdown",
   "id": "df0e0518-7156-4932-828f-7ca17bf5dbb2",
   "metadata": {},
   "source": [
    "Question13\n",
    "Answer13:"
   ]
  },
  {
   "cell_type": "code",
   "execution_count": null,
   "id": "51a55bef-50e7-442e-8ad0-0cb1f9b1e370",
   "metadata": {},
   "outputs": [],
   "source": [
    "import pandas as pd\n"
   ]
  },
  {
   "cell_type": "markdown",
   "id": "0a706c03-29b5-4aca-aa9f-f59c61a2583d",
   "metadata": {},
   "source": [
    "->To use the basic functions of pandas, you need to import the pandas library.\n",
    "\n",
    "->The pandas library provides a number of functions and methods for working with dataframes, series, and other data structures. It is a\n",
    "powerful library that can be used for a variety of data analysis tasks.\n"
   ]
  },
  {
   "cell_type": "code",
   "execution_count": null,
   "id": "2c99c379-256f-4664-b980-96a229453cd7",
   "metadata": {},
   "outputs": [],
   "source": []
  }
 ],
 "metadata": {
  "kernelspec": {
   "display_name": "Python 3 (ipykernel)",
   "language": "python",
   "name": "python3"
  },
  "language_info": {
   "codemirror_mode": {
    "name": "ipython",
    "version": 3
   },
   "file_extension": ".py",
   "mimetype": "text/x-python",
   "name": "python",
   "nbconvert_exporter": "python",
   "pygments_lexer": "ipython3",
   "version": "3.10.8"
  }
 },
 "nbformat": 4,
 "nbformat_minor": 5
}
