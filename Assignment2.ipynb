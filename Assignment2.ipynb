{
 "cells": [
  {
   "cell_type": "markdown",
   "id": "f2af0f34-fa67-4799-a128-671dd4ffa8f7",
   "metadata": {},
   "source": [
    "Question1\n",
    "Answer1: In the python ther are two types of comments\n",
    "1. we can comment any one line through this symbol(#)\n",
    "2. for commenting multiple lines we can use (\"\"\" \"\"\") this symbol in the starting and ending"
   ]
  },
  {
   "cell_type": "code",
   "execution_count": null,
   "id": "6170f243-1b83-4720-83d9-0e7c727818c9",
   "metadata": {},
   "outputs": [],
   "source": [
    "Question2\n",
    "Answer2: Variables are container for storing data values.Variables names are case sensitive.\n",
    "for e.g. a = 23\n",
    "        b = 45.23\n",
    "    Variables can be stored in either string,integer,float.\n",
    "    String variables can be stored either by using single,double quotes."
   ]
  },
  {
   "cell_type": "code",
   "execution_count": null,
   "id": "b76b71a1-6362-4717-aaa6-31835dbbfa1d",
   "metadata": {},
   "outputs": [],
   "source": [
    "Question3\n",
    "Answer3: we can convert one data type to another data type using int(),float(),str().This is called typecasting."
   ]
  },
  {
   "cell_type": "code",
   "execution_count": null,
   "id": "92199a71-f78c-4a6e-888f-09a8ef93e14f",
   "metadata": {},
   "outputs": [],
   "source": [
    "Question4\n",
    "Answer4:you need to open a command prompt and then enter python for checking the version of python and then\n",
    "write python and file name for e.g. python first.py"
   ]
  },
  {
   "cell_type": "code",
   "execution_count": 1,
   "id": "a30c371d-e259-46e7-b4f8-a7b3a28ee075",
   "metadata": {},
   "outputs": [],
   "source": [
    "#Question5\n",
    "my_list = [1,2,3,4,5]\n"
   ]
  },
  {
   "cell_type": "code",
   "execution_count": 3,
   "id": "c357d817-5979-4020-b428-8dbb371df857",
   "metadata": {},
   "outputs": [
    {
     "data": {
      "text/plain": [
       "[2, 3]"
      ]
     },
     "execution_count": 3,
     "metadata": {},
     "output_type": "execute_result"
    }
   ],
   "source": [
    "my_list[1:3]"
   ]
  },
  {
   "cell_type": "markdown",
   "id": "d342456f-52cc-4d8e-9181-c037c2216dca",
   "metadata": {},
   "source": [
    "Question6\n",
    "Answer6:Complex number is the mixture of real and imaginary number.\n",
    "in python it is represented by 3+5j."
   ]
  },
  {
   "cell_type": "code",
   "execution_count": null,
   "id": "1102fc8b-9a70-4047-acf2-69d7e818a2e2",
   "metadata": {},
   "outputs": [],
   "source": [
    "Question7\n",
    "Answer7: age = 25"
   ]
  },
  {
   "cell_type": "code",
   "execution_count": null,
   "id": "ad817bda-3f59-4d0d-a53c-f606f58df10b",
   "metadata": {},
   "outputs": [],
   "source": [
    "Question8\n",
    "Answer8: price=9.99\n"
   ]
  },
  {
   "cell_type": "code",
   "execution_count": 4,
   "id": "8a61f89e-5fae-4011-a712-47cb82826ab1",
   "metadata": {},
   "outputs": [],
   "source": [
    "price = 9.99"
   ]
  },
  {
   "cell_type": "code",
   "execution_count": 5,
   "id": "e2c09648-0633-400d-a31f-af56e9792fb0",
   "metadata": {},
   "outputs": [
    {
     "data": {
      "text/plain": [
       "float"
      ]
     },
     "execution_count": 5,
     "metadata": {},
     "output_type": "execute_result"
    }
   ],
   "source": [
    "type(price)"
   ]
  },
  {
   "cell_type": "code",
   "execution_count": 6,
   "id": "9b883e42-0301-4f96-bfe9-21d1e5f9306c",
   "metadata": {},
   "outputs": [],
   "source": [
    "#Question9\n",
    "name = \"Shubham Tiwari\"\n"
   ]
  },
  {
   "cell_type": "code",
   "execution_count": 7,
   "id": "f2f9dcc3-7eaa-42a4-81c4-88a1b55e3922",
   "metadata": {},
   "outputs": [
    {
     "data": {
      "text/plain": [
       "'Shubham Tiwari'"
      ]
     },
     "execution_count": 7,
     "metadata": {},
     "output_type": "execute_result"
    }
   ],
   "source": [
    "name"
   ]
  },
  {
   "cell_type": "code",
   "execution_count": 8,
   "id": "7424fa87-15e5-484d-a66e-841fa3351af0",
   "metadata": {},
   "outputs": [
    {
     "data": {
      "text/plain": [
       "str"
      ]
     },
     "execution_count": 8,
     "metadata": {},
     "output_type": "execute_result"
    }
   ],
   "source": [
    "type(name)"
   ]
  },
  {
   "cell_type": "code",
   "execution_count": null,
   "id": "590220af-37d0-4cb2-a6d9-5717a558aa9c",
   "metadata": {},
   "outputs": [],
   "source": [
    "#Question10\n",
    "l = \"Hello,World!\""
   ]
  },
  {
   "cell_type": "code",
   "execution_count": 10,
   "id": "ff1a1fc7-0a9c-4ba7-b85e-1538834affed",
   "metadata": {},
   "outputs": [
    {
     "data": {
      "text/plain": [
       "'World'"
      ]
     },
     "execution_count": 10,
     "metadata": {},
     "output_type": "execute_result"
    }
   ],
   "source": [
    "l[6:11]"
   ]
  },
  {
   "cell_type": "code",
   "execution_count": null,
   "id": "bd94aef2-4382-4f30-ac12-a72af3d689b3",
   "metadata": {},
   "outputs": [],
   "source": [
    "#Question11\n",
    "is_student = [True,False]\n",
    "if is_student == True :\n",
    "    print(\"You currently a student\")\n",
    "elif is_student == False :\n",
    "    print(\"You are not a Student\")"
   ]
  },
  {
   "cell_type": "code",
   "execution_count": null,
   "id": "99ce863a-6e62-494a-9e46-44f833989008",
   "metadata": {},
   "outputs": [],
   "source": []
  }
 ],
 "metadata": {
  "kernelspec": {
   "display_name": "Python 3 (ipykernel)",
   "language": "python",
   "name": "python3"
  },
  "language_info": {
   "codemirror_mode": {
    "name": "ipython",
    "version": 3
   },
   "file_extension": ".py",
   "mimetype": "text/x-python",
   "name": "python",
   "nbconvert_exporter": "python",
   "pygments_lexer": "ipython3",
   "version": "3.10.8"
  }
 },
 "nbformat": 4,
 "nbformat_minor": 5
}
