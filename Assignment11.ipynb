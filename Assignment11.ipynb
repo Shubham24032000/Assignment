{
 "cells": [
  {
   "cell_type": "markdown",
   "id": "f6c3c8aa-8d5f-422e-99d0-7d6081225488",
   "metadata": {},
   "source": [
    "Question1\n",
    "Answer1:"
   ]
  },
  {
   "cell_type": "markdown",
   "id": "bd6b7de7-839e-4176-ab82-990cb97d7b13",
   "metadata": {},
   "source": [
    "Multiprocessing in Python is a way to run multiple processes simultaneously on a single computer. This can be useful for a variety of tasks, such as:\n",
    "\n",
    "->Processing large amounts of data\n",
    "\n",
    "->Running computationally intensive tasks\n",
    "\n",
    "->Distributing work across multiple machines\n",
    "\n",
    "->When you use multiprocessing, each process is assigned its own CPU core. This allows the processes to run independently of each other, which can \n",
    "significantly speed up the execution of your code.\n",
    "\n",
    "Here are some of the benefits of using multiprocessing in Python:\n",
    "\n",
    "->Increased speed: Multiprocessing can significantly speed up the execution of your code, especially for tasks that are CPU-intensive.\n",
    "\n",
    "->Improved scalability: Multiprocessing can be scaled to meet the needs of your application. If you need to process more data or run more \n",
    "computationally intensive tasks, you can simply add more CPUs to your machine.\n",
    "\n",
    "->Improved parallelism: Multiprocessing allows you to distribute work across multiple CPUs, which can further improve the performance of your \n",
    "application."
   ]
  },
  {
   "cell_type": "markdown",
   "id": "9385cbbd-ff73-47d9-9588-5c43b4f2d4e4",
   "metadata": {},
   "source": [
    "Question2\n",
    "Answer2:"
   ]
  },
  {
   "cell_type": "markdown",
   "id": "6d642a2c-886c-4124-be7c-657573d84a88",
   "metadata": {},
   "source": [
    "Multiprocessing and multithreading are both techniques for running multiple tasks simultaneously on a single computer. However, they differ in a few\n",
    "key ways:\n",
    "\n",
    "->Multiprocessing creates multiple processes, each of which is assigned its own CPU core. This allows the processes to run independently of each \n",
    "other,which can significantly speed up the execution of your code.\n",
    "\n",
    "->Multithreading creates multiple threads, which are lightweight processes that share the same CPU core. This allows the threads to run concurrently, \n",
    "which can improve the responsiveness of your application.\n",
    "\n",
    "->We should use multiprocessing when we need to improve the speed of your application for CPU-intensive tasks. For example, we could use \n",
    "multiprocessing to train a machine learning model or render a video.\n",
    "\n",
    "->You should use multithreading when you need to improve the responsiveness of your application for I/O-bound tasks. For example, you could use \n",
    "multithreading to handle multiple requests from a web server or to process multiple images at the same time."
   ]
  },
  {
   "cell_type": "markdown",
   "id": "0847e7b6-ee62-4d6f-9c59-4e5c7f2644f6",
   "metadata": {},
   "source": [
    "Question3\n",
    "Answer3:"
   ]
  },
  {
   "cell_type": "code",
   "execution_count": 3,
   "id": "29fd9b24-0e1e-42f0-90ca-dc9b43eb7d19",
   "metadata": {},
   "outputs": [
    {
     "name": "stdout",
     "output_type": "stream",
     "text": [
      "hello How are you\n"
     ]
    }
   ],
   "source": [
    "import multiprocessing\n",
    "\n",
    "def myfunction():\n",
    "    print(\"hello How are you\")\n",
    "    \n",
    "if __name__ == \"__main__\":\n",
    "    process = multiprocessing.Process(target=myfunction)\n",
    "    process.start()\n",
    "    process.join()"
   ]
  },
  {
   "cell_type": "markdown",
   "id": "e7ac5714-647f-4aae-8508-f13ebe9397bf",
   "metadata": {},
   "source": [
    "Question4\n",
    "Answer4:"
   ]
  },
  {
   "cell_type": "markdown",
   "id": "39f647ff-4893-4a59-b090-1f0a9e93a78d",
   "metadata": {},
   "source": [
    "A multiprocessing pool in Python is a tool that allows you to execute multiple tasks simultaneously. This can be useful for a\n",
    "variety of tasks, such as:\n",
    "\n",
    "->Processing large amounts of data.\n",
    "\n",
    "->Running computationally intensive tasks.\n",
    "\n",
    "->Distributing work across multiple machines.\n",
    "\n",
    "->When you use a multiprocessing pool, each task is assigned to its own process. This allows the tasks to run independently of each other, which can \n",
    "significantly speed up the execution of your code."
   ]
  },
  {
   "cell_type": "markdown",
   "id": "ddcfe452-8972-4384-a3c0-4eecb3ce7215",
   "metadata": {},
   "source": [
    "Question5\n",
    "Answer5:"
   ]
  },
  {
   "cell_type": "code",
   "execution_count": 5,
   "id": "9ce68a57-646e-472a-b8a3-27516f593a0d",
   "metadata": {},
   "outputs": [
    {
     "name": "stdout",
     "output_type": "stream",
     "text": [
      "10416925\n",
      "\n",
      "\n",
      "\n",
      "\n",
      "\n",
      "49366481\n",
      "\n",
      "\n",
      "\n"
     ]
    }
   ],
   "source": [
    "import multiprocessing\n",
    "\n",
    "def my_function(x):\n",
    "    print(x**2)\n",
    "    \n",
    "if __name__ == \"__main__\":\n",
    "    pool = multiprocessing.Pool(processes=6)\n",
    "    \n",
    "    results = pool.map(my_function,range(10))\n",
    "    \n",
    "    pool.close()\n",
    "    \n",
    "    pool.join()"
   ]
  },
  {
   "cell_type": "markdown",
   "id": "8c3854cf-9530-479c-9c14-6224abc3bbcd",
   "metadata": {},
   "source": [
    "Question6\n",
    "Answer6:"
   ]
  },
  {
   "cell_type": "code",
   "execution_count": 6,
   "id": "37e4b70c-3a17-44fe-937f-17a7041a8f3f",
   "metadata": {},
   "outputs": [
    {
     "name": "stdout",
     "output_type": "stream",
     "text": [
      "Process 1: My number is 1\n",
      "Process 2: My number is 2\n",
      "Process 3: My number is 3\n",
      "Process 4: My number is 4\n"
     ]
    }
   ],
   "source": [
    "import multiprocessing\n",
    "\n",
    "def print_number(number):\n",
    "    print(f\"Process {number}: My number is {number}\")\n",
    "\n",
    "if __name__ == \"__main__\":\n",
    "    processes = []\n",
    "\n",
    "    for i in range(1, 5):\n",
    "        process = multiprocessing.Process(target=print_number, args=(i,))\n",
    "        processes.append(process)\n",
    "        process.start()\n",
    "\n",
    "    for process in processes:\n",
    "        process.join()\n"
   ]
  },
  {
   "cell_type": "code",
   "execution_count": null,
   "id": "a28ceddf-c536-4788-9b04-924c349ed30d",
   "metadata": {},
   "outputs": [],
   "source": []
  }
 ],
 "metadata": {
  "kernelspec": {
   "display_name": "Python 3 (ipykernel)",
   "language": "python",
   "name": "python3"
  },
  "language_info": {
   "codemirror_mode": {
    "name": "ipython",
    "version": 3
   },
   "file_extension": ".py",
   "mimetype": "text/x-python",
   "name": "python",
   "nbconvert_exporter": "python",
   "pygments_lexer": "ipython3",
   "version": "3.10.8"
  }
 },
 "nbformat": 4,
 "nbformat_minor": 5
}
