{
 "cells": [
  {
   "cell_type": "code",
   "execution_count": 1,
   "id": "e56b5b10-2e29-448e-ba34-d7dfc2b1d5b3",
   "metadata": {},
   "outputs": [
    {
     "name": "stdout",
     "output_type": "stream",
     "text": [
      "Requirement already satisfied: pandas in /opt/conda/lib/python3.10/site-packages (1.5.2)\n",
      "Requirement already satisfied: python-dateutil>=2.8.1 in /opt/conda/lib/python3.10/site-packages (from pandas) (2.8.2)\n",
      "Requirement already satisfied: pytz>=2020.1 in /opt/conda/lib/python3.10/site-packages (from pandas) (2022.6)\n",
      "Requirement already satisfied: numpy>=1.21.0 in /opt/conda/lib/python3.10/site-packages (from pandas) (1.23.5)\n",
      "Requirement already satisfied: six>=1.5 in /opt/conda/lib/python3.10/site-packages (from python-dateutil>=2.8.1->pandas) (1.16.0)\n",
      "Note: you may need to restart the kernel to use updated packages.\n"
     ]
    }
   ],
   "source": [
    "pip install pandas"
   ]
  },
  {
   "cell_type": "markdown",
   "id": "c38a93e4-21f0-4757-82f0-ba1570617027",
   "metadata": {},
   "source": [
    "Question1\n",
    "Answer1:"
   ]
  },
  {
   "cell_type": "code",
   "execution_count": 4,
   "id": "9d9e1345-2784-4ba6-a7db-a3ae0e62e447",
   "metadata": {},
   "outputs": [
    {
     "name": "stdout",
     "output_type": "stream",
     "text": [
      "0     4\n",
      "1     8\n",
      "2    15\n",
      "3    16\n",
      "4    23\n",
      "5    42\n",
      "dtype: int64\n"
     ]
    }
   ],
   "source": [
    "import pandas as pd\n",
    "\n",
    "l = [4,8,15,16,23,42]\n",
    "pf = pd.Series(l)\n",
    "print(pf)"
   ]
  },
  {
   "cell_type": "markdown",
   "id": "10df71fc-4130-4117-bffe-b6299d2612a0",
   "metadata": {},
   "source": [
    "Question2\n",
    "Answer2:"
   ]
  },
  {
   "cell_type": "code",
   "execution_count": 5,
   "id": "45a2f310-b71e-4ac4-9b7d-c12248b6e063",
   "metadata": {},
   "outputs": [
    {
     "name": "stdout",
     "output_type": "stream",
     "text": [
      "0       Shubham\n",
      "1           123\n",
      "2        Rutvik\n",
      "3           456\n",
      "4    Jaishankar\n",
      "5           789\n",
      "6       Malivya\n",
      "7           923\n",
      "8        Vineet\n",
      "9           845\n",
      "dtype: object\n"
     ]
    }
   ],
   "source": [
    "import pandas as pd\n",
    "\n",
    "p = [\"Shubham\",123,\"Rutvik\",456,\"Jaishankar\",789,\"Malivya\",923,\"Vineet\",845]\n",
    "lf = pd.Series(p)\n",
    "print(lf)"
   ]
  },
  {
   "cell_type": "markdown",
   "id": "8fbb1f1f-e73c-4a3c-8bc7-458caabf2867",
   "metadata": {},
   "source": [
    "Question3\n",
    "Answer3:"
   ]
  },
  {
   "cell_type": "code",
   "execution_count": 7,
   "id": "7638253c-6351-4dc5-b9ce-fdbea3536c0d",
   "metadata": {},
   "outputs": [
    {
     "name": "stdout",
     "output_type": "stream",
     "text": [
      "     name  age  gender\n",
      "0   Alice   25  Female\n",
      "1     Bob   30    Male\n",
      "2  Claire   27  Female\n"
     ]
    }
   ],
   "source": [
    "import pandas as pd\n",
    "\n",
    "data = {'name': ['Alice', 'Bob','Claire'], 'age': [25, 30, 27], 'gender': ['Female','Male','Female']}\n",
    "\n",
    "df = pd.DataFrame(data)\n",
    "\n",
    "print(df)\n"
   ]
  },
  {
   "cell_type": "markdown",
   "id": "52e13f1d-47c0-4962-a58f-67cf41c34df4",
   "metadata": {},
   "source": [
    "Question4\n",
    "Answer4:"
   ]
  },
  {
   "cell_type": "markdown",
   "id": "3d3df9d4-d5f1-4dd4-b77c-b33879127f17",
   "metadata": {},
   "source": [
    "->A DataFrame in Pandas is a two-dimensional tabular data structure with labeled axes (rows and columns). It is a powerful tool for storing\n",
    "and analyzing data.\n",
    "\n",
    "->A Series in Pandas is a one-dimensional labeled array. It is similar to a Python list, but it has an index that allows you to access \n",
    "elements by label.\n",
    "\n",
    "->The main difference between a DataFrame and a Series is that a DataFrame has two dimensions, while a Series has one dimension. This means \n",
    "that a DataFrame can store data in a tabular format, while a Series can only store data in a list-like format.\n",
    "\n"
   ]
  },
  {
   "cell_type": "markdown",
   "id": "0dd91d6d-c1ad-456c-94a8-d05007a38d5d",
   "metadata": {},
   "source": [
    "For example, the following code creates a DataFrame with two rows and three columns:"
   ]
  },
  {
   "cell_type": "code",
   "execution_count": 8,
   "id": "e4c48f46-0426-4171-97c7-a5a309234946",
   "metadata": {},
   "outputs": [
    {
     "name": "stdout",
     "output_type": "stream",
     "text": [
      "    name  age\n",
      "0  Alice   25\n",
      "1    Bob   30\n"
     ]
    }
   ],
   "source": [
    "import pandas as pd\n",
    "\n",
    "data = {'name': ['Alice', 'Bob' ], 'age': [25, 30 ]}\n",
    "\n",
    "df = pd.DataFrame(data)\n",
    "\n",
    "print(df)"
   ]
  },
  {
   "cell_type": "markdown",
   "id": "1ad35afc-d740-4974-ac78-f5b3665311bd",
   "metadata": {},
   "source": [
    "The following code creates a Series with three elements:"
   ]
  },
  {
   "cell_type": "code",
   "execution_count": 9,
   "id": "949819df-9278-477f-8b47-6cad9cbcdca0",
   "metadata": {},
   "outputs": [
    {
     "name": "stdout",
     "output_type": "stream",
     "text": [
      "0    1\n",
      "1    2\n",
      "2    3\n",
      "dtype: int64\n"
     ]
    }
   ],
   "source": [
    "import pandas as pd\n",
    "\n",
    "data = [1, 2, 3]\n",
    "\n",
    "series = pd.Series(data)\n",
    "\n",
    "print(series)\n"
   ]
  },
  {
   "cell_type": "markdown",
   "id": "d11d4692-501a-4893-addd-0f7e8f37f5ee",
   "metadata": {},
   "source": [
    "Question5\n",
    "Answer5:"
   ]
  },
  {
   "cell_type": "markdown",
   "id": "d7c4db54-61db-4f5e-9385-aec2903f0946",
   "metadata": {},
   "source": [
    "here are some common functions you can use to manipulate data in a Pandas DataFrame:\n",
    "    \n",
    "->head(): This function returns the first few rows of a DataFrame. For example, df.head() would return the first five rows of the DataFrame.\n",
    "\n",
    "->tail(): This function returns the last few rows of a DataFrame. For example, df.tail() would return the last five rows of the DataFrame.\n",
    "\n",
    "->describe(): This function returns a summary of the statistical distribution of the data in a DataFrame. For example, df.describe() would\n",
    "return the mean, standard deviation, minimum, maximum, and other statistical information for each column in the DataFrame."
   ]
  },
  {
   "cell_type": "markdown",
   "id": "bb1c4e13-2b4a-48ec-b99e-993e7777a70b",
   "metadata": {},
   "source": [
    "example of when you might use one of these functions:"
   ]
  },
  {
   "cell_type": "markdown",
   "id": "9ca579c8-f893-4111-9745-1eff2bb29bde",
   "metadata": {},
   "source": [
    "->You might use the head() function to get a quick overview of the first few rows of a DataFrame. For example, if you wanted to see the \n",
    "first five rows of a DataFrame, you would use the head() function like this: df.head().\n",
    "\n",
    "->You might use the tail() function to get a quick overview of the last few rows of a DataFrame. For example, if you wanted to see the last \n",
    "five rows of a DataFrame, you would use the tail() function like this: df.tail().\n",
    "\n",
    "->You might use the describe() function to get a summary of the statistical distribution of the data in a DataFrame. For example, if you \n",
    "wanted to see the mean, standard deviation, minimum, maximum, and other statistical information for each column in a DataFrame, you would \n",
    "use the describe() function like this: df.describe()."
   ]
  },
  {
   "cell_type": "markdown",
   "id": "2ffdf85c-21f3-404f-bc99-9fbfa977be7b",
   "metadata": {},
   "source": [
    "Question6\n",
    "Answer6:"
   ]
  },
  {
   "cell_type": "markdown",
   "id": "95a895a7-c804-464d-aac4-258776c3a6c5",
   "metadata": {},
   "source": [
    "->All Pandas data structures are value-mutable (the values they contain can be altered) but not always size-mutable. Series and DataFrame \n",
    "are both mutable in nature, while Panel is not.\n",
    "\n",
    "->Series is a one-dimensional labeled array, while DataFrame is a two-dimensional labeled array. Both Series and DataFrames can be modified\n",
    "by adding or removing elements, or by changing the values of existing elements.\n",
    "\n",
    "->Panel is a three-dimensional labeled array. Panels are not mutable in nature, meaning that the size of a Panel cannot be changed once it \n",
    "has been created."
   ]
  },
  {
   "cell_type": "markdown",
   "id": "ae7cc334-6275-45d1-ba5a-c755b2761bef",
   "metadata": {},
   "source": [
    "Question7\n",
    "Answer7:"
   ]
  },
  {
   "cell_type": "code",
   "execution_count": 11,
   "id": "eb69c570-c7c6-4c5d-9c6b-43cf852896c6",
   "metadata": {},
   "outputs": [
    {
     "name": "stdout",
     "output_type": "stream",
     "text": [
      "   0  1  2\n",
      "A  1  2  3\n",
      "B  4  5  6\n",
      "C  7  8  9\n"
     ]
    }
   ],
   "source": [
    "import pandas as pd\n",
    "\n",
    "s1 = pd.Series([1,2,3], name='A')\n",
    "s2 = pd.Series([4,5,6], name='B')\n",
    "s3 = pd.Series([7,8,9], name='C')\n",
    "\n",
    "df = pd.DataFrame([s1,s2,s3])\n",
    "\n",
    "print(df)"
   ]
  },
  {
   "cell_type": "code",
   "execution_count": null,
   "id": "cb990741-a759-4cf8-82ac-5aeeb3251f13",
   "metadata": {},
   "outputs": [],
   "source": []
  }
 ],
 "metadata": {
  "kernelspec": {
   "display_name": "Python 3 (ipykernel)",
   "language": "python",
   "name": "python3"
  },
  "language_info": {
   "codemirror_mode": {
    "name": "ipython",
    "version": 3
   },
   "file_extension": ".py",
   "mimetype": "text/x-python",
   "name": "python",
   "nbconvert_exporter": "python",
   "pygments_lexer": "ipython3",
   "version": "3.10.8"
  }
 },
 "nbformat": 4,
 "nbformat_minor": 5
}
